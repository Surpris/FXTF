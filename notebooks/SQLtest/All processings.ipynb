{
 "cells": [
  {
   "cell_type": "code",
   "execution_count": 1,
   "metadata": {
    "ExecuteTime": {
     "end_time": "2017-06-02T20:34:21.463627",
     "start_time": "2017-06-02T20:34:14.848419"
    },
    "collapsed": false
   },
   "outputs": [
    {
     "name": "stderr",
     "output_type": "stream",
     "text": [
      "Using TensorFlow backend.\n"
     ]
    }
   ],
   "source": [
    "from FX.FX import SQLAnaforFX, OHLCanalyzer, SMAanalyzer"
   ]
  },
  {
   "cell_type": "markdown",
   "metadata": {},
   "source": [
    "# データベースの初期化とデータの挿入"
   ]
  },
  {
   "cell_type": "code",
   "execution_count": 2,
   "metadata": {
    "ExecuteTime": {
     "end_time": "2017-06-02T20:35:09.799661",
     "start_time": "2017-06-02T20:34:43.904723"
    },
    "collapsed": false
   },
   "outputs": [
    {
     "name": "stdout",
     "output_type": "stream",
     "text": [
      "Start insertion of the data in folder: ../../data/201705/\n",
      "Finished. Elapsed time: 23.69 sec.\n"
     ]
    }
   ],
   "source": [
    "year_month = \"201705\"\n",
    "sql = SQLAnaforFX(year_month=year_month, recreate=True) # 本当に初期化する場合はTrueにする\n",
    "sql.addFXRecordsFromFolder(\"../../data/{}/\".format(year_month))\n",
    "res = sql.toDataFrame(tblname=\"main\")"
   ]
  },
  {
   "cell_type": "markdown",
   "metadata": {},
   "source": [
    "# OHLCの計算と挿入"
   ]
  },
  {
   "cell_type": "code",
   "execution_count": 3,
   "metadata": {
    "ExecuteTime": {
     "end_time": "2017-06-02T20:38:00.830649",
     "start_time": "2017-06-02T20:35:09.799661"
    },
    "collapsed": false
   },
   "outputs": [],
   "source": [
    "sql.initialize_ana_tables(recreate=True)\n",
    "ana = OHLCanalyzer(res)\n",
    "for ii in range(len(ana._mins)):\n",
    "    ana.calc_ohlc(ana._mins[ii])\n",
    "    asks, bids = ana.toDataFrame()\n",
    "    sql.addOHLCRecordFromDataFrame(asks, ana._mins[ii], \"ask\")\n",
    "    sql.addOHLCRecordFromDataFrame(bids, ana._mins[ii], \"bid\")"
   ]
  },
  {
   "cell_type": "markdown",
   "metadata": {},
   "source": [
    "# SMAの計算と挿入"
   ]
  },
  {
   "cell_type": "code",
   "execution_count": 4,
   "metadata": {
    "ExecuteTime": {
     "end_time": "2017-06-02T20:49:25.049243",
     "start_time": "2017-06-02T20:38:00.846275"
    },
    "collapsed": true
   },
   "outputs": [],
   "source": [
    "ana = SMAanalyzer()\n",
    "\n",
    "for bid_or_ask in [\"ask\", \"bid\"]:\n",
    "    for minute in sql._mins:\n",
    "        df = sql.AnaToDataFrame(minute=minute, bid_or_ask=bid_or_ask, colselect=[\"close\"])\n",
    "        ana.calc_sma(df)\n",
    "        df = ana.toDataFrame()\n",
    "        sql.addSMARecordFromDataFrame(df, minute=minute, bid_or_ask=bid_or_ask)"
   ]
  },
  {
   "cell_type": "code",
   "execution_count": 5,
   "metadata": {
    "ExecuteTime": {
     "end_time": "2017-06-02T20:49:29.227641",
     "start_time": "2017-06-02T20:49:25.049243"
    },
    "collapsed": false
   },
   "outputs": [
    {
     "data": {
      "text/plain": [
       "(                          dateval     ask     bid\n",
       " 2017-05-01 07:01:30  2.017050e+13  111.37  111.36\n",
       " 2017-05-01 07:01:35  2.017050e+13  111.38  111.37\n",
       " 2017-05-01 07:01:40  2.017050e+13  111.38  111.37\n",
       " 2017-05-01 07:01:45  2.017050e+13  111.38  111.37\n",
       " 2017-05-01 07:01:51  2.017050e+13  111.38  111.37\n",
       " 2017-05-01 07:01:56  2.017050e+13  111.38  111.37\n",
       " 2017-05-01 07:02:01  2.017050e+13  111.38  111.37\n",
       " 2017-05-01 07:02:06  2.017050e+13  111.39  111.38\n",
       " 2017-05-01 07:02:11  2.017050e+13  111.39  111.38\n",
       " 2017-05-01 07:02:16  2.017050e+13  111.38  111.37\n",
       " 2017-05-01 07:02:21  2.017050e+13  111.39  111.38\n",
       " 2017-05-01 07:02:26  2.017050e+13  111.39  111.38, 369129)"
      ]
     },
     "execution_count": 5,
     "metadata": {},
     "output_type": "execute_result"
    }
   ],
   "source": [
    "res = sql.toDataFrame(tblname=\"main\")\n",
    "res.head(12), len(res)"
   ]
  },
  {
   "cell_type": "code",
   "execution_count": 6,
   "metadata": {
    "ExecuteTime": {
     "end_time": "2017-06-02T20:49:29.563320",
     "start_time": "2017-06-02T20:49:29.233151"
    },
    "collapsed": false
   },
   "outputs": [
    {
     "data": {
      "text/plain": [
       "(                       open    high     low   close       sma07       sma13  \\\n",
       " 2017-05-01 07:02:30  111.37  111.39  111.37  111.39  111.390000  111.390000   \n",
       " 2017-05-01 07:03:30  111.39  111.40  111.38  111.39  111.390000  111.390000   \n",
       " 2017-05-01 07:04:30  111.39  111.41  111.39  111.39  111.390000  111.390000   \n",
       " 2017-05-01 07:05:30  111.38  111.39  111.35  111.35  111.380000  111.380000   \n",
       " 2017-05-01 07:06:30  111.35  111.35  111.30  111.30  111.364000  111.364000   \n",
       " 2017-05-01 07:07:30  111.31  111.31  111.30  111.30  111.353333  111.353333   \n",
       " 2017-05-01 07:08:30  111.30  111.32  111.30  111.31  111.347143  111.347143   \n",
       " 2017-05-01 07:09:30  111.31  111.33  111.30  111.33  111.338571  111.345000   \n",
       " 2017-05-01 07:10:30  111.33  111.33  111.33  111.33  111.330000  111.343333   \n",
       " 2017-05-01 07:11:30  111.33  111.33  111.32  111.33  111.321429  111.342000   \n",
       " 2017-05-01 07:12:30  111.33  111.33  111.30  111.30  111.314286  111.338182   \n",
       " 2017-05-01 07:13:30  111.30  111.31  111.30  111.31  111.315714  111.335833   \n",
       " \n",
       "                           sma25  \n",
       " 2017-05-01 07:02:30  111.390000  \n",
       " 2017-05-01 07:03:30  111.390000  \n",
       " 2017-05-01 07:04:30  111.390000  \n",
       " 2017-05-01 07:05:30  111.380000  \n",
       " 2017-05-01 07:06:30  111.364000  \n",
       " 2017-05-01 07:07:30  111.353333  \n",
       " 2017-05-01 07:08:30  111.347143  \n",
       " 2017-05-01 07:09:30  111.345000  \n",
       " 2017-05-01 07:10:30  111.343333  \n",
       " 2017-05-01 07:11:30  111.342000  \n",
       " 2017-05-01 07:12:30  111.338182  \n",
       " 2017-05-01 07:13:30  111.335833  , 31696)"
      ]
     },
     "execution_count": 6,
     "metadata": {},
     "output_type": "execute_result"
    }
   ],
   "source": [
    "res = sql.toDataFrame(tblname=\"ask01min\")\n",
    "res.head(12), len(res)"
   ]
  },
  {
   "cell_type": "markdown",
   "metadata": {},
   "source": [
    "# 微分の導入"
   ]
  },
  {
   "cell_type": "code",
   "execution_count": null,
   "metadata": {
    "collapsed": true
   },
   "outputs": [],
   "source": []
  }
 ],
 "metadata": {
  "anaconda-cloud": {},
  "kernelspec": {
   "display_name": "Python [default]",
   "language": "python",
   "name": "python3"
  },
  "language_info": {
   "codemirror_mode": {
    "name": "ipython",
    "version": 3
   },
   "file_extension": ".py",
   "mimetype": "text/x-python",
   "name": "python",
   "nbconvert_exporter": "python",
   "pygments_lexer": "ipython3",
   "version": "3.5.2"
  },
  "toc": {
   "nav_menu": {
    "height": "84px",
    "width": "252px"
   },
   "navigate_menu": true,
   "number_sections": true,
   "sideBar": true,
   "threshold": 4,
   "toc_cell": false,
   "toc_section_display": "block",
   "toc_window_display": false
  }
 },
 "nbformat": 4,
 "nbformat_minor": 2
}
