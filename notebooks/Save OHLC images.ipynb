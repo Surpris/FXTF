{
 "cells": [
  {
   "cell_type": "markdown",
   "metadata": {},
   "source": [
    "# 目的\n",
    "OHLC図を描画して保存する。"
   ]
  },
  {
   "cell_type": "code",
   "execution_count": null,
   "metadata": {
    "ExecuteTime": {
     "end_time": "2017-09-25T13:18:25.732517Z",
     "start_time": "2017-09-25T13:18:25.727507Z"
    },
    "collapsed": true
   },
   "outputs": [],
   "source": [
    "from PIL import Image\n",
    "from PIL import ImageDraw\n",
    "import numpy as np\n",
    "import copy\n",
    "import pandas as pd\n",
    "import skimage\n",
    "import datetime\n",
    "import os"
   ]
  },
  {
   "cell_type": "code",
   "execution_count": null,
   "metadata": {
    "ExecuteTime": {
     "end_time": "2017-09-25T13:15:09.704538Z",
     "start_time": "2017-09-25T13:15:09.582040Z"
    },
    "collapsed": true
   },
   "outputs": [],
   "source": [
    "def make_image(screen, bgcolor, filename, drawfunc, save=False, show=True, **kwargs):\n",
    "    \"\"\"\n",
    "    画像ファイルを作成\n",
    "    \"\"\"\n",
    "    img = Image.new('RGB', screen, bgcolor)\n",
    "\n",
    "    # 間隔（5～32くらい）\n",
    "#     gap = 8\n",
    "\n",
    "    img = drawfunc(img, **kwargs)\n",
    "    if show:\n",
    "        plt.imshow(img, origin=\"normal\")\n",
    "        is_axis = kwargs.get(\"axis\", True)\n",
    "        if not is_axis:\n",
    "            plt.axis(\"off\")\n",
    "    if save:\n",
    "        img.save(filename)\n",
    "    return img\n",
    "\n",
    "def drawOhlcBox(img, ohlc, start=[0,0], width=10, barcolor=(0x00,0x00,0x00), return_next=False, **kwargs):\n",
    "    \"\"\"\n",
    "    ohlc: (1,4) array\n",
    "    start: start point (open)\n",
    "    width\n",
    "    barcolor\n",
    "    kwargs\n",
    "    \"\"\"\n",
    "    draw = ImageDraw.Draw(img)\n",
    "    \n",
    "    ### Define each start point\n",
    "    ## Bar\n",
    "    # start_bar[1] = start[1] + (open - open), end_bar[1] = start[1] + (close - open)\n",
    "    start_bar = tuple([start[0]+width//2, start[1]])\n",
    "    \n",
    "    end_bar   = tuple([start_bar[0], start[1] + ohlc[3] - ohlc[0]])\n",
    "    \n",
    "    ## Line between high and low\n",
    "    # if open > close then start_hl[1] = start_bar[1] + (high - open), end_hl[1] = end_bar[1] + (low - close)\n",
    "    # if open < close then start_hl[1] = start_bar[1] + (low - open), end_hl[1] = end_bar[1] + (high - close)\n",
    "    if ohlc[0] >= ohlc[3]:\n",
    "        start_hl = tuple([start_bar[0], start_bar[1] + (ohlc[1] - ohlc[0])])\n",
    "        end_hl   = tuple([start_bar[0], end_bar[1] + (ohlc[2] - ohlc[3])])\n",
    "    else:\n",
    "        start_hl = tuple([start_bar[0], start_bar[1] + (ohlc[2] - ohlc[0])])\n",
    "        end_hl   = tuple([start_bar[0], end_bar[1] + (ohlc[1] - ohlc[3])])\n",
    "    \n",
    "    ### Draw\n",
    "    if start_bar[1] == end_bar[1]:\n",
    "        _end_bar = tuple([end_bar[0], end_bar[1]+1])\n",
    "        draw.line((start_bar, _end_bar), barcolor, width)\n",
    "    else:\n",
    "        draw.line((start_bar, end_bar), barcolor, width)\n",
    "    draw.line((start_hl, end_hl), barcolor, 1)\n",
    "    \n",
    "#     ### Joes\n",
    "#     joeDistanceTop = kwargs.get(\"joe_distance_top\", 10)\n",
    "#     joeDistanceBottom = kwargs.get(\"joe_distance_bottom\", joeDistanceTop)\n",
    "#     joeLength = kwargs.get(\"joe_length\", width)\n",
    "#     joeWidth = kwargs.get(\"joe_width\", 1)\n",
    "#     joeColor = kwargs.get(\"joe_color\", barcolor)\n",
    "    \n",
    "#     # Top joe\n",
    "#     start = tuple([topleft[0]+(width-joeLength+1)//2, topleft[1]-joeDistanceTop])\n",
    "#     end = tuple([start[0]+joeLength-1, start[1]])\n",
    "#     draw.line((start, end), joeColor, joeWidth)\n",
    "    \n",
    "#     # Connection to bar\n",
    "#     start = tuple([start_bar[0], start_bar[1]-joeDistanceTop])\n",
    "#     draw.line((start, start_bar), joeColor, joeWidth)\n",
    "    \n",
    "#     # Bottom joe\n",
    "#     start = tuple([topleft[0]+(width-joeLength+1)//2, end_bar[1]+joeDistanceBottom])\n",
    "#     end = tuple([start[0]+joeLength-1, start[1]])\n",
    "#     draw.line((start, end), joeColor, joeWidth)\n",
    "    \n",
    "#     # Connection to bar\n",
    "#     end = tuple([end_bar[0], end_bar[1]+joeDistanceBottom])\n",
    "#     draw.line((end, end_bar), joeColor, joeWidth)\n",
    "    \n",
    "    if not return_next:\n",
    "        return img\n",
    "    else:\n",
    "        start_next = [start[0] + width, end_bar[1]]\n",
    "        return img, start_next\n",
    "    \n",
    "def drawOhlcBoxes(img, ohlc=None, start=[0, 0], width=11, barcolors=(0x00,0x00,0x00), **kwargs):\n",
    "    \"\"\"\n",
    "    topleft_startは上ひげのtopleftになる\n",
    "    \"\"\"\n",
    "    if ohlc is None:\n",
    "        raise ValueError(\"ohlc must be inputted.\")\n",
    "    elif not isinstance(ohlc, np.ndarray):\n",
    "        raise TypeError(\"ohlc must be a (N, 4) array.\")\n",
    "    if not isinstance(barcolors, list):\n",
    "        bar_colors = [barcolors] * len(ohlc)\n",
    "    else:\n",
    "        bar_colors = barcolors\n",
    "    \n",
    "    k_wargs = copy.deepcopy(kwargs)\n",
    "    if k_wargs.get(\"width\") is not None:\n",
    "        del k_wargs[\"width\"]\n",
    "    if k_wargs.get(\"height\") is not None:\n",
    "        del k_wargs[\"height\"]\n",
    "    if k_wargs.get(\"barcolors\") is not None:\n",
    "        del k_wargs[\"barcolors\"]\n",
    "    \n",
    "    start_next = start\n",
    "    for ii in range(len(ohlc)):\n",
    "        start_ohlc = [start_next[0], ohlc[ii, 0]]\n",
    "        img, start_next = drawOhlcBox(img, ohlc[ii], start_ohlc, width, bar_colors[ii], True, **k_wargs)\n",
    "        \n",
    "    return img\n",
    "\n",
    "def saveOhlcImages(h, w, nbr_of_ohlc, bgcolor, barcolors, stop=0):\n",
    "    screen = (h, w) # Image用\n",
    "    for ii in range(len(ohlc)-nbr_of_ohlc+1):\n",
    "        buff = ohlc[ii:ii+nbr_of_ohlc]\n",
    "        ohlc_bar = np.array((buff - buff.min()) * h / (buff.max() - buff.min()), dtype=int)\n",
    "        fldrpath = \"../images/{0}/\".format(datetime.datetime.now().strftime(\"%Y%m%d\"))\n",
    "        if not os.path.exists(fldrpath):\n",
    "            try:\n",
    "                os.makedirs(fldrpath)\n",
    "            except:\n",
    "                pass\n",
    "        filename = fldrpath + \"image-ohlc-{0:05d}.png\".format(ii)\n",
    "        img = make_image(screen, bgcolor, filename, drawOhlcBoxes, \n",
    "                         ohlc=ohlc_bar, start=[0, ohlc_bar[0,0]], width=w//nbr_of_ohlc, \n",
    "                         barcolors=barcolors, axis=False, save=True, show=False)\n",
    "        if ii == stop - 1:\n",
    "            break"
   ]
  },
  {
   "cell_type": "code",
   "execution_count": null,
   "metadata": {
    "ExecuteTime": {
     "end_time": "2017-09-25T13:18:11.662553Z",
     "start_time": "2017-09-25T13:18:11.547787Z"
    }
   },
   "outputs": [],
   "source": [
    "data = pd.read_csv(\"../data/FXTF/USDJPY-cd1_20170806_k030.csv\")\n",
    "ohlc = data[[\"open\", \"high\", \"low\", \"close\"]].as_matrix()\n",
    "len(ohlc)"
   ]
  },
  {
   "cell_type": "code",
   "execution_count": null,
   "metadata": {
    "ExecuteTime": {
     "end_time": "2017-09-25T13:19:16.904867Z",
     "start_time": "2017-09-25T13:18:30.132688Z"
    }
   },
   "outputs": [],
   "source": [
    "h, w = 100, 100 # Imageのサイズ\n",
    "nbr_of_ohlc = 10 # 描画するohlc図の数\n",
    "\n",
    "bgcolor=(0x00, 0x00, 0x00) # 画像の背景色（RGB）\n",
    "barcolors = (0xff, 0xff, 0xff) # OHLC図の色 (RGB)\n",
    "\n",
    "saveOhlcImages(h, w, nbr_of_ohlc, bgcolor, barcolors)"
   ]
  },
  {
   "cell_type": "code",
   "execution_count": null,
   "metadata": {
    "collapsed": true
   },
   "outputs": [],
   "source": []
  }
 ],
 "metadata": {
  "kernelspec": {
   "display_name": "Python [default]",
   "language": "python",
   "name": "python3"
  },
  "language_info": {
   "codemirror_mode": {
    "name": "ipython",
    "version": 3
   },
   "file_extension": ".py",
   "mimetype": "text/x-python",
   "name": "python",
   "nbconvert_exporter": "python",
   "pygments_lexer": "ipython3",
   "version": "3.5.3"
  },
  "toc": {
   "colors": {
    "hover_highlight": "#DAA520",
    "navigate_num": "#000000",
    "navigate_text": "#333333",
    "running_highlight": "#FF0000",
    "selected_highlight": "#FFD700",
    "sidebar_border": "#EEEEEE",
    "wrapper_background": "#FFFFFF"
   },
   "moveMenuLeft": true,
   "nav_menu": {
    "height": "30px",
    "width": "252px"
   },
   "navigate_menu": true,
   "number_sections": true,
   "sideBar": true,
   "threshold": 4,
   "toc_cell": false,
   "toc_section_display": "block",
   "toc_window_display": false,
   "widenNotebook": false
  }
 },
 "nbformat": 4,
 "nbformat_minor": 2
}
