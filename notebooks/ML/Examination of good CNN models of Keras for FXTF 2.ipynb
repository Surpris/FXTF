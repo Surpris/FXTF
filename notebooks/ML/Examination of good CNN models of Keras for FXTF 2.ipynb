{
 "cells": [
  {
   "cell_type": "markdown",
   "metadata": {},
   "source": [
    "# 目的\n",
    "前のノートではシンプルなCNNを用いたFXTFデータの予測を行った。   \n",
    "ここではデータセットを増やしてみて良くなるかどうか確認する。"
   ]
  },
  {
   "cell_type": "code",
   "execution_count": null,
   "metadata": {
    "ExecuteTime": {
     "end_time": "2017-09-25T14:59:52.394691Z",
     "start_time": "2017-09-25T14:59:52.383662Z"
    }
   },
   "outputs": [],
   "source": [
    "from keras import regularizers\n",
    "from keras.callbacks import CSVLogger, ModelCheckpoint\n",
    "from keras.layers.core import Dense, Dropout, Activation, Flatten\n",
    "from keras.layers.normalization import BatchNormalization\n",
    "from keras.layers.convolutional import Conv2D\n",
    "from keras.layers.pooling import MaxPool2D\n",
    "from keras.models import Sequential\n",
    "from keras.models import model_from_json, load_model\n",
    "from keras.optimizers import Adam, Adagrad\n",
    "from keras.callbacks import EarlyStopping, TensorBoard\n",
    "from keras.utils import plot_model\n",
    "\n",
    "from sklearn.datasets import load_iris\n",
    "from sklearn.model_selection import train_test_split\n",
    "\n",
    "import copy\n",
    "import datetime\n",
    "import glob\n",
    "import numpy as np\n",
    "import os\n",
    "import pandas as pd\n",
    "\n",
    "from FX.FX.core import utils\n",
    "# from FX.FX import KerasModelAdapter"
   ]
  },
  {
   "cell_type": "markdown",
   "metadata": {},
   "source": [
    "## データセットの読み込み"
   ]
  },
  {
   "cell_type": "code",
   "execution_count": null,
   "metadata": {
    "ExecuteTime": {
     "end_time": "2017-09-25T14:25:56.135303Z",
     "start_time": "2017-09-25T14:25:55.853461Z"
    }
   },
   "outputs": [],
   "source": [
    "# basepath = \"C:/Users/Surpris/Desktop/20170918/\"\n",
    "basepath = \"../../images/20170918/\"\n",
    "filelist = np.array(glob.glob(os.path.join(basepath, \"images-ohlc/*.png\")))\n",
    "data = pd.read_csv(basepath + \"FXTF/USDJPY-cd1_20170806_k030.csv\")\n",
    "y = data[[\"label1\", \"label2\", \"label3\"]].as_matrix()[9:].copy()\n",
    "\n",
    "Xpath_train, Xpath_test, y_train, y_test = train_test_split(filelist, y, test_size=0.3)"
   ]
  },
  {
   "cell_type": "code",
   "execution_count": null,
   "metadata": {
    "ExecuteTime": {
     "end_time": "2017-09-25T14:25:58.888684Z",
     "start_time": "2017-09-25T14:25:57.033131Z"
    },
    "collapsed": true
   },
   "outputs": [],
   "source": [
    "grpX, grpY = utils.grouping_dataset(Xpath_train, y_train, 8)\n",
    "X_test = utils.load_images_from_filelist(Xpath_test[:6000])"
   ]
  },
  {
   "cell_type": "markdown",
   "metadata": {},
   "source": [
    "## モデルの読み込みと訓練"
   ]
  },
  {
   "cell_type": "code",
   "execution_count": null,
   "metadata": {
    "ExecuteTime": {
     "end_time": "2017-09-25T13:44:52.032533Z",
     "start_time": "2017-09-25T13:28:08.304906Z"
    },
    "collapsed": true
   },
   "outputs": [],
   "source": [
    "model = load_model(basepath + \"ML/model.h5\")\n",
    "hists, scores = utils.train_with_groups(model, grpX, grpY, X_test, y_test[:6000], 5)"
   ]
  },
  {
   "cell_type": "code",
   "execution_count": null,
   "metadata": {
    "ExecuteTime": {
     "end_time": "2017-09-25T13:45:24.896020Z",
     "start_time": "2017-09-25T13:44:52.033536Z"
    },
    "collapsed": true
   },
   "outputs": [],
   "source": [
    "utils.plot_probability(model, X_test)"
   ]
  },
  {
   "cell_type": "code",
   "execution_count": null,
   "metadata": {
    "ExecuteTime": {
     "end_time": "2017-09-25T14:06:07.924105Z",
     "start_time": "2017-09-25T14:05:52.673048Z"
    },
    "collapsed": true
   },
   "outputs": [],
   "source": [
    "utils.calc_accuracy_above_threshold(model, X_test, y_test, threshold=0.75, verbose=1)"
   ]
  },
  {
   "cell_type": "markdown",
   "metadata": {},
   "source": [
    "## まとめ\n",
    "複数のデータセットで訓練したものの、最終的なスコアは50%を切るかどうかという結果であった。   \n",
    "モデルを深くするか、画像の生成方法を変えるか、転移学習を試すかなどのアプローチが考えられる。"
   ]
  },
  {
   "cell_type": "markdown",
   "metadata": {},
   "source": [
    "# Batch normalizationを導入する"
   ]
  },
  {
   "cell_type": "markdown",
   "metadata": {},
   "source": [
    "## モデルの構築"
   ]
  },
  {
   "cell_type": "code",
   "execution_count": null,
   "metadata": {
    "ExecuteTime": {
     "end_time": "2017-09-26T04:20:32.025208Z",
     "start_time": "2017-09-26T04:20:31.304226Z"
    }
   },
   "outputs": [],
   "source": [
    "try:\n",
    "    img1\n",
    "except:\n",
    "    img1 = X_test[0]\n",
    "input_shape = (img1.shape[0], img1.shape[1], 1)\n",
    "\n",
    "model = Sequential()\n",
    "# Input layer\n",
    "model.add(Conv2D(10, 3, input_shape=input_shape, activation=\"relu\"))\n",
    "# model.add(Activation(\"relu\"))\n",
    "# 2nd layer\n",
    "model.add(Conv2D(10, 3, activation=\"relu\"))\n",
    "model.add(MaxPool2D(pool_size=(3,3)))\n",
    "# 3rd layer()\n",
    "model.add(Conv2D(20, 3, activation=\"relu\"))\n",
    "model.add(BatchNormalization())\n",
    "# model.add(Activation(\"relu\"))\n",
    "model.add(MaxPool2D(pool_size=(2,2)))\n",
    "# 4th layer\n",
    "model.add(Flatten())\n",
    "model.add(Dense(1024, activation=\"relu\"))\n",
    "model.add(BatchNormalization())\n",
    "# model.add(Activation(\"relu\"))\n",
    "model.add(Dropout(0.3))\n",
    "# Output layer\n",
    "model.add(Dense(y.shape[1], activation=\"softmax\"))\n",
    "\n",
    "model.compile(loss='categorical_crossentropy',\n",
    "              optimizer=Adam(lr=1e-4),\n",
    "              metrics=['accuracy'])\n",
    "\n",
    "model.save(basepath + \"ML/model_with_BN.h5\")"
   ]
  },
  {
   "cell_type": "markdown",
   "metadata": {},
   "source": [
    "## 訓練"
   ]
  },
  {
   "cell_type": "code",
   "execution_count": null,
   "metadata": {
    "ExecuteTime": {
     "end_time": "2017-09-26T04:38:14.759372Z",
     "start_time": "2017-09-26T04:20:46.496025Z"
    }
   },
   "outputs": [],
   "source": [
    "model = load_model(basepath + \"ML/model_with_BN.h5\")\n",
    "hists, scores = utils.train_with_groups(model, grpX, grpY, X_test, y_test[:6000], 80)"
   ]
  },
  {
   "cell_type": "code",
   "execution_count": null,
   "metadata": {
    "ExecuteTime": {
     "end_time": "2017-09-26T04:38:49.490384Z",
     "start_time": "2017-09-26T04:38:49.477352Z"
    }
   },
   "outputs": [],
   "source": [
    "model.summary()"
   ]
  },
  {
   "cell_type": "code",
   "execution_count": null,
   "metadata": {
    "ExecuteTime": {
     "end_time": "2017-09-26T04:38:32.631477Z",
     "start_time": "2017-09-26T04:38:14.767363Z"
    }
   },
   "outputs": [],
   "source": [
    "utils.plot_probability(model, X_test)"
   ]
  },
  {
   "cell_type": "code",
   "execution_count": null,
   "metadata": {
    "ExecuteTime": {
     "end_time": "2017-09-26T04:38:49.476347Z",
     "start_time": "2017-09-26T04:38:32.631477Z"
    }
   },
   "outputs": [],
   "source": [
    "utils.calc_accuracy_above_threshold(model, X_test, y_test, threshold=0.95, verbose=1)"
   ]
  },
  {
   "cell_type": "markdown",
   "metadata": {},
   "source": [
    "# L2正則化を課す"
   ]
  },
  {
   "cell_type": "code",
   "execution_count": null,
   "metadata": {
    "ExecuteTime": {
     "end_time": "2017-09-25T15:04:10.708766Z",
     "start_time": "2017-09-25T15:04:10.224994Z"
    }
   },
   "outputs": [],
   "source": [
    "try:\n",
    "    img1\n",
    "except:\n",
    "    img1 = X_test[0]\n",
    "input_shape = (img1.shape[0], img1.shape[1], 1)\n",
    "\n",
    "model = Sequential()\n",
    "# Input layer\n",
    "model.add(Conv2D(10, 3, input_shape=input_shape, activation=\"relu\"))\n",
    "# model.add(Activation(\"relu\"))\n",
    "# 2nd layer\n",
    "model.add(Conv2D(10, 3, activation=\"relu\"))\n",
    "model.add(MaxPool2D(pool_size=(3,3)))\n",
    "# 3rd layer()\n",
    "model.add(Conv2D(20, 3, activation=\"relu\", kernel_regularizer=regularizers.l2(0.01)))\n",
    "model.add(BatchNormalization())\n",
    "# model.add(Activation(\"relu\"))\n",
    "model.add(MaxPool2D(pool_size=(2,2)))\n",
    "# 4th layer\n",
    "model.add(Flatten())\n",
    "model.add(Dense(1024, activation=\"relu\", kernel_regularizer=regularizers.l2(0.01)))\n",
    "model.add(BatchNormalization())\n",
    "# model.add(Activation(\"relu\"))\n",
    "model.add(Dropout(0.5))\n",
    "# Output layer\n",
    "model.add(Dense(y.shape[1], activation=\"softmax\"))\n",
    "\n",
    "model.compile(loss='categorical_crossentropy',\n",
    "              optimizer=Adam(lr=1e-4),\n",
    "              metrics=['accuracy'])\n",
    "\n",
    "model.save(basepath + \"ML/model_with_BN_L2.h5\")"
   ]
  },
  {
   "cell_type": "code",
   "execution_count": null,
   "metadata": {
    "ExecuteTime": {
     "end_time": "2017-09-25T16:02:55.719149Z",
     "start_time": "2017-09-25T15:04:46.716493Z"
    }
   },
   "outputs": [],
   "source": [
    "model = load_model(basepath + \"ML/model_with_BN_L2.h5\")\n",
    "hists, scores = utils.train_with_groups(model, grpX, grpY, X_test, y_test[:6000], 80)"
   ]
  },
  {
   "cell_type": "code",
   "execution_count": null,
   "metadata": {
    "ExecuteTime": {
     "end_time": "2017-09-25T16:03:13.101310Z",
     "start_time": "2017-09-25T16:02:55.720151Z"
    }
   },
   "outputs": [],
   "source": [
    "utils.plot_probability(model, X_test)"
   ]
  },
  {
   "cell_type": "code",
   "execution_count": null,
   "metadata": {
    "ExecuteTime": {
     "end_time": "2017-09-25T16:03:33.449770Z",
     "start_time": "2017-09-25T16:03:13.101310Z"
    }
   },
   "outputs": [],
   "source": [
    "utils.calc_accuracy_above_threshold(model, X_test, y_test, threshold=0.70, verbose=1)"
   ]
  },
  {
   "cell_type": "markdown",
   "metadata": {},
   "source": [
    "## RMSPROPに変えてみる"
   ]
  },
  {
   "cell_type": "code",
   "execution_count": null,
   "metadata": {
    "ExecuteTime": {
     "end_time": "2017-09-25T16:03:33.961610Z",
     "start_time": "2017-09-25T16:03:33.450771Z"
    },
    "collapsed": true
   },
   "outputs": [],
   "source": [
    "try:\n",
    "    img1\n",
    "except:\n",
    "    img1 = X_test[0]\n",
    "input_shape = (img1.shape[0], img1.shape[1], 1)\n",
    "\n",
    "model = Sequential()\n",
    "# Input layer\n",
    "model.add(Conv2D(10, 3, input_shape=input_shape, activation=\"relu\"))\n",
    "# model.add(Activation(\"relu\"))\n",
    "# 2nd layer\n",
    "model.add(Conv2D(10, 3, activation=\"relu\"))\n",
    "model.add(MaxPool2D(pool_size=(3,3)))\n",
    "# 3rd layer()\n",
    "model.add(Conv2D(20, 3, activation=\"relu\", kernel_regularizer=regularizers.l2(0.01)))\n",
    "model.add(BatchNormalization())\n",
    "# model.add(Activation(\"relu\"))\n",
    "model.add(MaxPool2D(pool_size=(2,2)))\n",
    "# 4th layer\n",
    "model.add(Flatten())\n",
    "model.add(Dense(1024, activation=\"relu\", kernel_regularizer=regularizers.l2(0.01)))\n",
    "model.add(BatchNormalization())\n",
    "# model.add(Activation(\"relu\"))\n",
    "model.add(Dropout(0.5))\n",
    "# Output layer\n",
    "model.add(Dense(y.shape[1], activation=\"softmax\"))\n",
    "\n",
    "model.compile(loss='categorical_crossentropy',\n",
    "              optimizer=\"rmsprop\",\n",
    "              metrics=['accuracy'])\n",
    "\n",
    "model.save(basepath + \"ML/model_with_BN_L2_rmsprop.h5\")"
   ]
  },
  {
   "cell_type": "code",
   "execution_count": null,
   "metadata": {
    "ExecuteTime": {
     "end_time": "2017-09-25T16:28:02.080064Z",
     "start_time": "2017-09-25T16:03:33.970565Z"
    }
   },
   "outputs": [],
   "source": [
    "model = load_model(basepath + \"ML/model_with_BN_L2_rmsprop.h5\")\n",
    "hists, scores = utils.train_with_groups(model, grpX, grpY, X_test, y_test[:6000], 80)"
   ]
  },
  {
   "cell_type": "code",
   "execution_count": null,
   "metadata": {
    "ExecuteTime": {
     "end_time": "2017-09-25T16:28:19.693752Z",
     "start_time": "2017-09-25T16:28:02.084719Z"
    }
   },
   "outputs": [],
   "source": [
    "utils.plot_probability(model, X_test)"
   ]
  },
  {
   "cell_type": "code",
   "execution_count": null,
   "metadata": {
    "ExecuteTime": {
     "end_time": "2017-09-26T04:19:02.001086Z",
     "start_time": "2017-09-26T04:18:44.454957Z"
    }
   },
   "outputs": [],
   "source": [
    "utils.calc_accuracy_above_threshold(model, X_test, y_test, threshold=0.90, verbose=1)"
   ]
  },
  {
   "cell_type": "markdown",
   "metadata": {},
   "source": [
    "## まとめ\n",
    "L2正則化とRMSPROPを加えると質が下がった気がする。   "
   ]
  },
  {
   "cell_type": "code",
   "execution_count": null,
   "metadata": {
    "collapsed": true
   },
   "outputs": [],
   "source": []
  }
 ],
 "metadata": {
  "kernelspec": {
   "display_name": "Python [default]",
   "language": "python",
   "name": "python3"
  },
  "language_info": {
   "codemirror_mode": {
    "name": "ipython",
    "version": 3
   },
   "file_extension": ".py",
   "mimetype": "text/x-python",
   "name": "python",
   "nbconvert_exporter": "python",
   "pygments_lexer": "ipython3",
   "version": "3.5.3"
  },
  "toc": {
   "nav_menu": {
    "height": "66px",
    "width": "252px"
   },
   "navigate_menu": true,
   "number_sections": true,
   "sideBar": true,
   "threshold": 4,
   "toc_cell": false,
   "toc_section_display": "block",
   "toc_window_display": true
  }
 },
 "nbformat": 4,
 "nbformat_minor": 2
}
