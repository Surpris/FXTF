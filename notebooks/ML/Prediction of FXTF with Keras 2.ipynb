{
 "cells": [
  {
   "cell_type": "markdown",
   "metadata": {
    "slideshow": {
     "slide_type": "slide"
    }
   },
   "source": [
    "# 目的\n",
    "Kerasを用いた為替の予測をもう少し進める。   \n",
    "データはFXTF社のMT4からエクスポートしたものを用いる。   \n",
    "\n",
    "前のノートでは、ある時刻 $t$ における HL + SMA + Volume などで予測できるか試したが、   \n",
    "いい結果を得られなかった。   \n",
    "このノートでは、ある時刻から少しさかのぼった分も特徴量に加えると正答率があがるのかどうか検討する。"
   ]
  },
  {
   "cell_type": "code",
   "execution_count": null,
   "metadata": {
    "ExecuteTime": {
     "end_time": "2017-09-21T07:00:20.676428Z",
     "start_time": "2017-09-21T07:00:14.861492Z"
    },
    "collapsed": true,
    "slideshow": {
     "slide_type": "slide"
    }
   },
   "outputs": [],
   "source": [
    "from keras.models import Sequential\n",
    "from keras.layers.core import Dense, Dropout, Activation\n",
    "from keras.layers import LSTM\n",
    "from keras.callbacks import EarlyStopping\n",
    "from keras.models import model_from_json\n",
    "from sklearn.datasets import load_iris\n",
    "from sklearn.model_selection import train_test_split\n",
    "\n",
    "import copy\n",
    "import datetime\n",
    "import numpy as np\n",
    "import os\n",
    "import pandas as pd\n",
    "import pickle\n",
    "\n",
    "from PIL import Image\n",
    "from PIL import ImageDraw\n",
    "\n",
    "from FX.FX import SQLAnaforFX\n",
    "from FX.FX import drawfigfunc as dff\n",
    "from FX.FX import datetimefuncs as dtf\n",
    "from FX.FX import analyzefuncs as af\n",
    "from FX.FX import KerasModelAdapter"
   ]
  },
  {
   "cell_type": "code",
   "execution_count": null,
   "metadata": {
    "ExecuteTime": {
     "end_time": "2017-08-11T05:51:42.265086Z",
     "start_time": "2017-08-11T05:51:42.223059Z"
    },
    "collapsed": true,
    "slideshow": {
     "slide_type": "slide"
    }
   },
   "outputs": [],
   "source": [
    "def create_model(X, y):\n",
    "    model = Sequential()\n",
    "    \n",
    "    # 入力層\n",
    "    model.add(Dense(256, input_shape=(X.shape[1],)))\n",
    "    model.add(Activation('relu'))\n",
    "    model.add(Dropout(0.3))\n",
    "\n",
    "    # 中間層\n",
    "    model.add(Dense(256))\n",
    "    model.add(Activation('relu'))\n",
    "    model.add(Dropout(0.3))\n",
    "\n",
    "    # 出力層\n",
    "    model.add(Dense(y.shape[1]))\n",
    "    model.add(Activation('softmax'))\n",
    "\n",
    "    # コンパイル\n",
    "    model.compile(loss='categorical_crossentropy',\n",
    "        optimizer=\"rmsprop\",\n",
    "        metrics=['accuracy'])\n",
    "    \n",
    "    return model"
   ]
  },
  {
   "cell_type": "code",
   "execution_count": null,
   "metadata": {
    "ExecuteTime": {
     "end_time": "2017-08-11T05:50:33.188886Z",
     "start_time": "2017-08-11T05:50:33.166868Z"
    },
    "collapsed": true
   },
   "outputs": [],
   "source": [
    "def ary2seqary(ary, n_seq=2):\n",
    "    if len(ary.shape) != 1:\n",
    "        raise ValueError\n",
    "    if n_seq < 2:\n",
    "        raise ValueError\n",
    "    res = np.zeros((n_seq, len(ary)-n_seq + 1))\n",
    "    for ii in range(n_seq):\n",
    "        res[ii] = ary[ii:ii+len(ary)-n_seq+1]\n",
    "    return res.copy()"
   ]
  },
  {
   "cell_type": "markdown",
   "metadata": {
    "slideshow": {
     "slide_type": "slide"
    }
   },
   "source": [
    "## データの用意"
   ]
  },
  {
   "cell_type": "code",
   "execution_count": null,
   "metadata": {
    "ExecuteTime": {
     "end_time": "2017-08-11T05:29:25.862597Z",
     "start_time": "2017-08-11T05:29:25.592889Z"
    },
    "collapsed": true
   },
   "outputs": [],
   "source": [
    "\"\"\"ファイルの読み込み\"\"\"\n",
    "fpath = \"../../data/FXTF/USDJPY-cd1_20170806_k030.csv\"\n",
    "data = pd.read_csv(fpath, index_col=False)\n",
    "data.head()"
   ]
  },
  {
   "cell_type": "code",
   "execution_count": null,
   "metadata": {
    "ExecuteTime": {
     "end_time": "2017-08-11T05:49:27.341049Z",
     "start_time": "2017-08-11T05:49:25.709437Z"
    },
    "collapsed": true,
    "slideshow": {
     "slide_type": "slide"
    }
   },
   "outputs": [],
   "source": [
    "\"\"\"OHLC\"\"\"\n",
    "opens = data[\"open\"].as_matrix()\n",
    "high = data[\"high\"].as_matrix()\n",
    "low = data[\"low\"].as_matrix()\n",
    "close = data[\"close\"].as_matrix()\n",
    "volume = data[\"volume\"].as_matrix()\n",
    "\n",
    "dclose = np.zeros_like(close)\n",
    "dclose[1:] = np.diff(close)\n",
    "\n",
    "\"\"\"Spread\"\"\"\n",
    "s = 0.003\n",
    "\n",
    "\"\"\"SMA\"\"\"\n",
    "sma07 = data[\"sma07\"].as_matrix()\n",
    "sma13 = data[\"sma13\"].as_matrix()\n",
    "sma25 = data[\"sma25\"].as_matrix()\n",
    "sma = data[[\"sma07\", \"sma13\", \"sma25\"]].as_matrix()\n",
    "sma = sma.T\n",
    "\n",
    "\"\"\"label\"\"\"\n",
    "y_data = data[[\"label1\",\"label2\",\"label3\"]].as_matrix()\n",
    "\n",
    "\"\"\"Datetime\"\"\"\n",
    "datetimes = []\n",
    "datetime_fmt = \"%Y.%m.%d %H:%M\"\n",
    "for date_t, time_t in zip(data[\"date\"], data[\"time\"]):\n",
    "    datetime_str = date_t + \" \" + time_t\n",
    "    datetime_t = datetime.datetime.strptime(datetime_str, datetime_fmt)\n",
    "    datetimes.append(datetime_t)\n",
    "datetimes = np.array([(datetimes[ii] - datetimes[0]).total_seconds()/60.**2 for ii in range(len(datetimes))])"
   ]
  },
  {
   "cell_type": "code",
   "execution_count": null,
   "metadata": {
    "ExecuteTime": {
     "end_time": "2017-08-11T05:47:12.252007Z",
     "start_time": "2017-08-11T05:47:11.458502Z"
    },
    "collapsed": true
   },
   "outputs": [],
   "source": [
    "y, diff = af.labeling(close, s*2, 30, 2)\n",
    "\n",
    "xlim = [9, 10]\n",
    "\n",
    "dff.makefig(5,5)\n",
    "plt.subplot(211)\n",
    "plt.plot(datetimes, close, label=\"original\")\n",
    "\n",
    "close_forward = np.zeros_like(close)\n",
    "close_forward[:-30] = close[30:]\n",
    "plt.plot(datetimes, close_forward, label=\"forward\")\n",
    "ind = (datetimes>= xlim[0])&(datetimes <= xlim[1])\n",
    "plt.xlim(xlim)\n",
    "plt.ylim([close[ind].min(), close[ind].max()])\n",
    "plt.legend()\n",
    "\n",
    "plt.subplot(212)\n",
    "plt.plot(datetimes, diff, label=\"difference\")\n",
    "plt.plot(datetimes[y[:, 0]== 1], diff[y[:, 0]== 1], \"ro\")\n",
    "plt.plot(datetimes[y[:, 2]== 1], diff[y[:, 2]== 1], \"go\")\n",
    "plt.plot(datetimes[y_data[:, 0]== 1], diff[y_data[:, 0]== 1], \"r*\")\n",
    "plt.plot(datetimes[y_data[:, 2]== 1], diff[y_data[:, 2]== 1], \"g*\")\n",
    "plt.hlines([-s*2, s*2], datetimes[0], datetimes[-1], color=\"m\")\n",
    "plt.xlim(xlim)\n",
    "plt.ylim(-0.1, 0.1)\n",
    "plt.legend()\n"
   ]
  },
  {
   "cell_type": "markdown",
   "metadata": {},
   "source": [
    "## 連数に変換"
   ]
  },
  {
   "cell_type": "code",
   "execution_count": null,
   "metadata": {
    "ExecuteTime": {
     "end_time": "2017-08-11T06:13:16.224464Z",
     "start_time": "2017-08-11T06:13:16.163422Z"
    },
    "collapsed": true
   },
   "outputs": [],
   "source": [
    "n_seq = 3\n",
    "opens_seq = ary2seqary(opens, n_seq)\n",
    "high_seq = ary2seqary(high, n_seq)\n",
    "low_seq = ary2seqary(low, n_seq)\n",
    "close_seq = ary2seqary(close, n_seq)\n",
    "volume_seq = ary2seqary(volume, n_seq)\n",
    "\n",
    "sma07_seq = ary2seqary(sma07, n_seq)\n",
    "sma13_seq = ary2seqary(sma13, n_seq)\n",
    "sma25_seq = ary2seqary(sma25, n_seq)\n",
    "sma_seq = np.vstack((sma07_seq, sma13_seq, sma25_seq))\n",
    "y = y_data[n_seq-1:]"
   ]
  },
  {
   "cell_type": "markdown",
   "metadata": {
    "slideshow": {
     "slide_type": "slide"
    }
   },
   "source": [
    "# closeのみ"
   ]
  },
  {
   "cell_type": "code",
   "execution_count": null,
   "metadata": {
    "ExecuteTime": {
     "end_time": "2017-08-11T06:13:19.062575Z",
     "start_time": "2017-08-11T06:13:19.043558Z"
    },
    "collapsed": true,
    "slideshow": {
     "slide_type": "slide"
    }
   },
   "outputs": [],
   "source": [
    "close_mean = close_seq.mean(axis=1)\n",
    "close_norm = np.zeros_like(close_seq)\n",
    "for ii in range(close_seq.shape[0]):\n",
    "    close_norm[ii] = close_seq[ii] - close_mean[ii]\n",
    "    close_norm[ii] /= np.abs(close_norm[ii]).max()\n",
    "\n",
    "X = close_norm.T"
   ]
  },
  {
   "cell_type": "code",
   "execution_count": null,
   "metadata": {
    "ExecuteTime": {
     "end_time": "2017-08-11T06:13:19.965403Z",
     "start_time": "2017-08-11T06:13:19.603942Z"
    },
    "collapsed": true
   },
   "outputs": [],
   "source": [
    "model = create_model(X, y)"
   ]
  },
  {
   "cell_type": "code",
   "execution_count": null,
   "metadata": {
    "ExecuteTime": {
     "end_time": "2017-08-11T06:13:47.615214Z",
     "start_time": "2017-08-11T06:13:47.595200Z"
    },
    "collapsed": true
   },
   "outputs": [],
   "source": [
    "X_train, X_test, y_train, y_test = train_test_split(X, y, test_size=0.3, random_state=300)\n",
    "print(X_train.shape, X_test.shape, y_train.shape, y_test.shape)"
   ]
  },
  {
   "cell_type": "code",
   "execution_count": null,
   "metadata": {
    "ExecuteTime": {
     "end_time": "2017-08-11T06:13:58.751114Z",
     "start_time": "2017-08-11T06:13:48.088326Z"
    },
    "collapsed": true,
    "slideshow": {
     "slide_type": "slide"
    }
   },
   "outputs": [],
   "source": [
    "# データで訓練 --- (※5)\n",
    "hist = model.fit(\n",
    "    X_train, y_train,\n",
    "    batch_size=100,\n",
    "    epochs=800,\n",
    "    validation_split=0.1,\n",
    "    callbacks=[EarlyStopping(monitor='val_loss', patience=2)],\n",
    "    verbose=0)\n",
    "\n",
    "# テストデータを用いて評価する --- (※6)\n",
    "score = model.evaluate(X_test, y_test, verbose=0)\n",
    "print('loss=', score[0])\n",
    "print('accuracy=', score[1])"
   ]
  },
  {
   "cell_type": "code",
   "execution_count": null,
   "metadata": {
    "ExecuteTime": {
     "end_time": "2017-08-11T06:13:59.321214Z",
     "start_time": "2017-08-11T06:13:58.756621Z"
    },
    "collapsed": true,
    "slideshow": {
     "slide_type": "slide"
    }
   },
   "outputs": [],
   "source": [
    "\"\"\"確率の取得\"\"\"\n",
    "probs = model.predict_proba(X_test, verbose=0).T\n",
    "labels = [\"high\", \"lose\", \"low\"]\n",
    "\n",
    "\"\"\"確率のヒストグラムの作成\"\"\"\n",
    "xbins = np.arange(0, 1.0, 0.05)\n",
    "hists = np.zeros((3, len(xbins)))\n",
    "for ii in range(len(probs)):\n",
    "    hists[ii, :-1], bins = np.histogram(probs[ii], bins=xbins)\n",
    "    hists[ii] /= hists[ii].sum()"
   ]
  },
  {
   "cell_type": "code",
   "execution_count": null,
   "metadata": {
    "ExecuteTime": {
     "end_time": "2017-08-11T06:14:01.733184Z",
     "start_time": "2017-08-11T06:13:59.321214Z"
    },
    "collapsed": true,
    "slideshow": {
     "slide_type": "slide"
    }
   },
   "outputs": [],
   "source": [
    "# 各ラベルに該当する確率\n",
    "dff.makefig(18, 5)\n",
    "for ii in range(len(probs)):\n",
    "    plt.subplot(1,3,ii + 1)\n",
    "    plt.plot(probs[ii], linewidth=1.2)\n",
    "    dff.arrangefig(xlabel=\"Time index\", ylabel=\"Probability\", title=\"Probability of {}\".format(labels[ii]))\n",
    "    plt.ylim(0, 1)\n",
    "plt.tight_layout()\n",
    "\n",
    "# 各ラベルに該当する確率のヒストグラム\n",
    "dff.makefig(18, 5)\n",
    "dxbins = np.diff(xbins)[0]\n",
    "for ii in range(len(hists)):\n",
    "    plt.subplot(1,3,ii + 1)\n",
    "    plt.bar(xbins, hists[ii], width=0.8*dxbins, hold=\"center\", color=\"g\")\n",
    "    dff.arrangefig(ylabel=\"Frequency\")\n",
    "    ax2 = plt.gca().twinx()\n",
    "    ax2.plot(xbins, 1.0 - np.cumsum(hists[ii]), \"r-\", linewidth=1.5)\n",
    "    dff.arrangefig(xlabel=\"Probability\", ylabel=\"Accumulation\", title=\"Hist of {}\".format(labels[ii]))\n",
    "    plt.ylim(0, 1)\n",
    "#     plt.yscale(\"log\")\n",
    "plt.tight_layout()"
   ]
  },
  {
   "cell_type": "markdown",
   "metadata": {
    "slideshow": {
     "slide_type": "slide"
    }
   },
   "source": [
    "とりあえず60%以上を対象にするか。"
   ]
  },
  {
   "cell_type": "code",
   "execution_count": null,
   "metadata": {
    "ExecuteTime": {
     "end_time": "2017-08-11T06:01:35.696326Z",
     "start_time": "2017-08-11T06:01:35.119470Z"
    },
    "collapsed": true,
    "slideshow": {
     "slide_type": "slide"
    }
   },
   "outputs": [],
   "source": [
    "prob_threshold = 0.7\n",
    "probs = model.predict_proba(X_test, verbose=0).T\n",
    "inds = np.zeros_like(probs, dtype=bool)\n",
    "for ii in range(0, probs.shape[0]):\n",
    "    inds[ii] = probs[ii] >= prob_threshold\n",
    "ind_sum = inds.sum(axis=0) > 0\n",
    "print(\"<# of events over threshold>\")\n",
    "print(\"[high, lose, low]:\", inds.sum(axis=1), \",total:\", ind_sum.sum())\n",
    "\n",
    "# # テストデータを用いて評価する --- (※6)\n",
    "score = model.evaluate(X_test[ind_sum], y_test[ind_sum], verbose=0)\n",
    "print('loss=', score[0])\n",
    "print('accuracy=', score[1])"
   ]
  },
  {
   "cell_type": "markdown",
   "metadata": {},
   "source": [
    "飛躍的に改善された。。。？   \n",
    "乱数によっては予測確率が上がる部分も見受けられる。"
   ]
  },
  {
   "cell_type": "markdown",
   "metadata": {
    "slideshow": {
     "slide_type": "slide"
    }
   },
   "source": [
    "# SMAを利用した場合"
   ]
  },
  {
   "cell_type": "code",
   "execution_count": null,
   "metadata": {
    "ExecuteTime": {
     "end_time": "2017-08-11T06:14:10.853496Z",
     "start_time": "2017-08-11T06:14:10.504124Z"
    },
    "collapsed": true,
    "slideshow": {
     "slide_type": "slide"
    }
   },
   "outputs": [],
   "source": [
    "sma_mean = sma_seq.mean(axis=1)\n",
    "sma_norm = np.zeros_like(sma_seq)\n",
    "for ii in range(sma_seq.shape[0]):\n",
    "    sma_norm[ii] = sma_seq[ii] - sma_mean[ii]\n",
    "    sma_norm[ii] /= np.abs(sma_norm[ii]).max()\n",
    "\n",
    "X = sma_norm.T\n",
    "model = create_model(X, y)"
   ]
  },
  {
   "cell_type": "code",
   "execution_count": null,
   "metadata": {
    "ExecuteTime": {
     "end_time": "2017-08-11T06:15:11.014832Z",
     "start_time": "2017-08-11T06:15:10.985809Z"
    },
    "collapsed": true
   },
   "outputs": [],
   "source": [
    "X_train, X_test, y_train, y_test = train_test_split(X, y, test_size=0.3, random_state=8)\n",
    "print(X_train.shape, X_test.shape, y_train.shape, y_test.shape)"
   ]
  },
  {
   "cell_type": "code",
   "execution_count": null,
   "metadata": {
    "ExecuteTime": {
     "end_time": "2017-08-11T06:15:33.114911Z",
     "start_time": "2017-08-11T06:15:11.527267Z"
    },
    "collapsed": true,
    "slideshow": {
     "slide_type": "slide"
    }
   },
   "outputs": [],
   "source": [
    "# データで訓練 --- (※5)\n",
    "hist = model.fit(\n",
    "    X_train, y_train,\n",
    "    batch_size=100,\n",
    "    epochs=800, shuffle=False,\n",
    "    validation_split=0.1,\n",
    "    callbacks=[EarlyStopping(monitor='val_loss', patience=2)],\n",
    "    verbose=0)\n",
    "\n",
    "# テストデータを用いて評価する --- (※6)\n",
    "score = model.evaluate(X_test, y_test, verbose=0)\n",
    "print('loss=', score[0])\n",
    "print('accuracy=', score[1])"
   ]
  },
  {
   "cell_type": "markdown",
   "metadata": {
    "slideshow": {
     "slide_type": "slide"
    }
   },
   "source": [
    "## こちらでも高確率のもののみを取り出す"
   ]
  },
  {
   "cell_type": "code",
   "execution_count": null,
   "metadata": {
    "ExecuteTime": {
     "end_time": "2017-08-11T06:15:33.901990Z",
     "start_time": "2017-08-11T06:15:33.121914Z"
    },
    "collapsed": true,
    "slideshow": {
     "slide_type": "slide"
    }
   },
   "outputs": [],
   "source": [
    "\"\"\"確率の取得\"\"\"\n",
    "probs = model.predict_proba(X_test, verbose=0).T\n",
    "labels = [\"high\", \"lose\", \"low\"]\n",
    "\n",
    "\"\"\"確率のヒストグラムの作成\"\"\"\n",
    "xbins = np.arange(0, 1.0, 0.05)\n",
    "hists = np.zeros((3, len(xbins)))\n",
    "for ii in range(len(probs)):\n",
    "    hists[ii, :-1], bins = np.histogram(probs[ii], bins=xbins)\n",
    "    hists[ii] /= hists[ii].sum()"
   ]
  },
  {
   "cell_type": "code",
   "execution_count": null,
   "metadata": {
    "ExecuteTime": {
     "end_time": "2017-08-11T06:15:37.319011Z",
     "start_time": "2017-08-11T06:15:33.901990Z"
    },
    "collapsed": true,
    "slideshow": {
     "slide_type": "slide"
    }
   },
   "outputs": [],
   "source": [
    "# 各ラベルに該当する確率\n",
    "dff.makefig(18, 5)\n",
    "for ii in range(len(probs)):\n",
    "    plt.subplot(1,3,ii + 1)\n",
    "    plt.plot(probs[ii], linewidth=1.2)\n",
    "    dff.arrangefig(xlabel=\"Time index\", ylabel=\"Probability\", title=\"Probability of {}\".format(labels[ii]))\n",
    "    plt.ylim(0, 1)\n",
    "plt.tight_layout()\n",
    "\n",
    "# 各ラベルに該当する確率のヒストグラム\n",
    "dff.makefig(18, 5)\n",
    "dxbins = np.diff(xbins)[0]\n",
    "for ii in range(len(hists)):\n",
    "    plt.subplot(1,3,ii + 1)\n",
    "    plt.bar(xbins, hists[ii], width=0.8*dxbins, hold=\"center\", color=\"g\")\n",
    "    dff.arrangefig(ylabel=\"Frequency\")\n",
    "    ax2 = plt.gca().twinx()\n",
    "    ax2.plot(xbins, 1.0 - np.cumsum(hists[ii]), \"r-\", linewidth=1.5)\n",
    "    dff.arrangefig(xlabel=\"Probability\", ylabel=\"Accumulation\", title=\"Hist of {}\".format(labels[ii]))\n",
    "    plt.ylim(0, 1)\n",
    "#     plt.yscale(\"log\")\n",
    "plt.tight_layout()"
   ]
  },
  {
   "cell_type": "code",
   "execution_count": null,
   "metadata": {
    "ExecuteTime": {
     "end_time": "2017-08-11T06:06:59.355794Z",
     "start_time": "2017-08-11T06:06:58.670721Z"
    },
    "collapsed": true,
    "slideshow": {
     "slide_type": "slide"
    }
   },
   "outputs": [],
   "source": [
    "prob_threshold = 0.60 # 50%だと期待はできないが、、\n",
    "probs = model.predict_proba(X_test, verbose=0).T\n",
    "inds = np.zeros_like(probs, dtype=bool)\n",
    "for ii in range(0, probs.shape[0]):\n",
    "    inds[ii] = probs[ii] >= prob_threshold\n",
    "ind_sum = inds.sum(axis=0) > 0\n",
    "print(\"<# of events over threshold>\")\n",
    "print(\"[high, lose, low]:\", inds.sum(axis=1), \n",
    "      \",total:\", ind_sum.sum(),\n",
    "      \", percentage:{0:.1f}\".format(ind_sum.sum()*100./len(X_test)))\n",
    "\n",
    "# # テストデータを用いて評価する --- (※6)\n",
    "score = model.evaluate(X_test[ind_sum], y_test[ind_sum], verbose=0)\n",
    "print('loss=', score[0])\n",
    "print('accuracy=', score[1])"
   ]
  },
  {
   "cell_type": "markdown",
   "metadata": {
    "slideshow": {
     "slide_type": "slide"
    }
   },
   "source": [
    "closeだけの場合と比べてパフォーマンスが下がる様子。。"
   ]
  },
  {
   "cell_type": "markdown",
   "metadata": {},
   "source": [
    "# HLも加える\n",
    "Openとcloseは等価であり、またSMAもcloseとほぼ等価である。   \n",
    "ここではSMAにHigh/Lowを加えてみる。"
   ]
  },
  {
   "cell_type": "code",
   "execution_count": null,
   "metadata": {
    "ExecuteTime": {
     "end_time": "2017-08-11T06:17:09.945827Z",
     "start_time": "2017-08-11T06:17:09.560536Z"
    },
    "collapsed": true
   },
   "outputs": [],
   "source": [
    "hlsma = np.vstack((high_seq, low_seq, sma_seq))\n",
    "hlsma_mean = hlsma.mean(axis=1)\n",
    "hlsma_norm = np.zeros_like(hlsma)\n",
    "for ii in range(hlsma.shape[0]):\n",
    "    hlsma_norm[ii] = hlsma[ii] - hlsma_mean[ii]\n",
    "    hlsma_norm[ii] /= np.abs(hlsma_norm[ii]).max()\n",
    "\n",
    "X = hlsma_norm.T\n",
    "model = create_model(X, y)"
   ]
  },
  {
   "cell_type": "code",
   "execution_count": null,
   "metadata": {
    "ExecuteTime": {
     "end_time": "2017-08-11T06:18:12.541504Z",
     "start_time": "2017-08-11T06:18:12.502973Z"
    },
    "collapsed": true
   },
   "outputs": [],
   "source": [
    "X_train, X_test, y_train, y_test = train_test_split(X, y, test_size=0.3, random_state=8)\n",
    "print(X_train.shape, X_test.shape, y_train.shape, y_test.shape)"
   ]
  },
  {
   "cell_type": "code",
   "execution_count": null,
   "metadata": {
    "ExecuteTime": {
     "end_time": "2017-08-11T06:18:43.234334Z",
     "start_time": "2017-08-11T06:18:13.046097Z"
    },
    "collapsed": true
   },
   "outputs": [],
   "source": [
    "# データで訓練 --- (※5)\n",
    "hist = model.fit(\n",
    "    X_train, y_train,\n",
    "    batch_size=100,\n",
    "    epochs=800, shuffle=False,\n",
    "    validation_split=0.1,\n",
    "    callbacks=[EarlyStopping(monitor='val_loss', patience=2)],\n",
    "    verbose=0)\n",
    "\n",
    "# テストデータを用いて評価する --- (※6)\n",
    "score = model.evaluate(X_test, y_test, verbose=0)\n",
    "print('loss=', score[0])\n",
    "print('accuracy=', score[1])"
   ]
  },
  {
   "cell_type": "markdown",
   "metadata": {
    "slideshow": {
     "slide_type": "slide"
    }
   },
   "source": [
    "## こちらでも高確率のもののみを取り出す"
   ]
  },
  {
   "cell_type": "code",
   "execution_count": null,
   "metadata": {
    "ExecuteTime": {
     "end_time": "2017-08-11T06:18:43.803926Z",
     "start_time": "2017-08-11T06:18:43.240177Z"
    },
    "collapsed": true,
    "slideshow": {
     "slide_type": "slide"
    }
   },
   "outputs": [],
   "source": [
    "\"\"\"確率の取得\"\"\"\n",
    "probs = model.predict_proba(X_test, verbose=0).T\n",
    "labels = [\"high\", \"lose\", \"low\"]\n",
    "\n",
    "\"\"\"確率のヒストグラムの作成\"\"\"\n",
    "xbins = np.arange(0, 1.0, 0.025)\n",
    "hists = np.zeros((3, len(xbins)))\n",
    "for ii in range(len(probs)):\n",
    "    hists[ii, :-1], bins = np.histogram(probs[ii], bins=xbins)\n",
    "    hists[ii] /= hists[ii].sum()"
   ]
  },
  {
   "cell_type": "code",
   "execution_count": null,
   "metadata": {
    "ExecuteTime": {
     "end_time": "2017-08-11T06:18:46.551441Z",
     "start_time": "2017-08-11T06:18:43.808908Z"
    },
    "collapsed": true,
    "slideshow": {
     "slide_type": "slide"
    }
   },
   "outputs": [],
   "source": [
    "# 各ラベルに該当する確率\n",
    "dff.makefig(18, 5)\n",
    "for ii in range(len(probs)):\n",
    "    plt.subplot(1,3,ii + 1)\n",
    "    plt.plot(probs[ii], linewidth=1.2)\n",
    "    dff.arrangefig(xlabel=\"Time index\", ylabel=\"Probability\", title=\"Probability of {}\".format(labels[ii]))\n",
    "    plt.ylim(0, 1)\n",
    "plt.tight_layout()\n",
    "\n",
    "# 各ラベルに該当する確率のヒストグラム\n",
    "dff.makefig(18, 5)\n",
    "dxbins = np.diff(xbins)[0]\n",
    "for ii in range(len(hists)):\n",
    "    plt.subplot(1,3,ii + 1)\n",
    "    plt.bar(xbins, hists[ii], width=0.8*dxbins, hold=\"center\", color=\"g\")\n",
    "    dff.arrangefig(ylabel=\"Frequency\")\n",
    "    ax2 = plt.gca().twinx()\n",
    "    ax2.plot(xbins, 1.0 - np.cumsum(hists[ii]), \"r-\", linewidth=1.5)\n",
    "    dff.arrangefig(xlabel=\"Probability\", ylabel=\"Accumulation\", title=\"Hist of {}\".format(labels[ii]))\n",
    "    plt.ylim(0, 1)\n",
    "#     plt.yscale(\"log\")\n",
    "plt.tight_layout()"
   ]
  },
  {
   "cell_type": "code",
   "execution_count": null,
   "metadata": {
    "ExecuteTime": {
     "end_time": "2017-08-11T06:20:24.883417Z",
     "start_time": "2017-08-11T06:20:23.835648Z"
    },
    "collapsed": true,
    "scrolled": true,
    "slideshow": {
     "slide_type": "slide"
    }
   },
   "outputs": [],
   "source": [
    "prob_threshold = 0.55\n",
    "probs = model.predict_proba(X_test, verbose=0).T\n",
    "inds = np.zeros_like(probs, dtype=bool)\n",
    "for ii in range(0, probs.shape[0]):\n",
    "    inds[ii] = probs[ii] >= prob_threshold\n",
    "ind_sum = inds.sum(axis=0) > 0\n",
    "print(\"<# of events over threshold>\")\n",
    "print(\"[high, lose, low]:\", inds.sum(axis=1), \n",
    "      \",total:\", ind_sum.sum(),\n",
    "      \", percentage:{0:.1f}\".format(ind_sum.sum()*100./len(X_test)))\n",
    "\n",
    "# # テストデータを用いて評価する --- (※6)\n",
    "score = model.evaluate(X_test[ind_sum], y_test[ind_sum], verbose=0)\n",
    "print('loss=', score[0])\n",
    "print('accuracy=', score[1])"
   ]
  },
  {
   "cell_type": "markdown",
   "metadata": {},
   "source": [
    "# ここまでのまとめ\n",
    "乱数によってはパフォーマンスが上がるが、安定しない。"
   ]
  },
  {
   "cell_type": "markdown",
   "metadata": {},
   "source": [
    "## データの保存"
   ]
  },
  {
   "cell_type": "code",
   "execution_count": null,
   "metadata": {
    "ExecuteTime": {
     "end_time": "2017-06-01T20:58:40.991470",
     "start_time": "2017-06-01T20:58:40.985469"
    },
    "collapsed": true
   },
   "outputs": [],
   "source": [
    "adapter = KerasModelAdapter(model)"
   ]
  },
  {
   "cell_type": "code",
   "execution_count": null,
   "metadata": {
    "ExecuteTime": {
     "end_time": "2017-06-01T20:58:44.463423",
     "start_time": "2017-06-01T20:58:44.373358"
    },
    "collapsed": true
   },
   "outputs": [],
   "source": [
    "adapter.save(\"./data/model_20170601_2/\")"
   ]
  },
  {
   "cell_type": "code",
   "execution_count": null,
   "metadata": {
    "ExecuteTime": {
     "end_time": "2017-06-01T20:59:44.048672",
     "start_time": "2017-06-01T20:59:43.478388"
    },
    "collapsed": true
   },
   "outputs": [],
   "source": [
    "adapter2 = KerasModelAdapter()\n",
    "adapter2.load(\"./data/model_20170601/\")"
   ]
  },
  {
   "cell_type": "code",
   "execution_count": null,
   "metadata": {
    "ExecuteTime": {
     "end_time": "2017-06-01T20:59:44.162038",
     "start_time": "2017-06-01T20:59:44.156034"
    },
    "collapsed": true
   },
   "outputs": [],
   "source": [
    "model2 = adapter2.model()"
   ]
  },
  {
   "cell_type": "code",
   "execution_count": null,
   "metadata": {
    "ExecuteTime": {
     "end_time": "2017-06-01T21:01:40.534792",
     "start_time": "2017-06-01T21:01:39.689214"
    },
    "collapsed": true
   },
   "outputs": [],
   "source": [
    "prob_threshold = 0.60\n",
    "probs = model2.predict_proba(X, verbose=0).T\n",
    "inds = np.zeros_like(probs, dtype=bool)\n",
    "for ii in range(0, probs.shape[0]):\n",
    "    inds[ii] = probs[ii] >= prob_threshold\n",
    "ind_sum = inds.sum(axis=0) > 0\n",
    "print(\"<# of events over threshold>\")\n",
    "print(\"[high, lose, low]:\", inds.sum(axis=1), \n",
    "      \",total:\", ind_sum.sum(),\n",
    "      \", percentage:{0:.1f}\".format(ind_sum.sum()*100./len(X)))\n",
    "\n",
    "# # テストデータを用いて評価する --- (※6)\n",
    "score = model2.evaluate(X[ind_sum], y[ind_sum], verbose=0)\n",
    "print('loss=', score[0])\n",
    "print('accuracy=', score[1])"
   ]
  },
  {
   "cell_type": "markdown",
   "metadata": {},
   "source": [
    "# volumeも加えてみる"
   ]
  },
  {
   "cell_type": "code",
   "execution_count": null,
   "metadata": {
    "ExecuteTime": {
     "end_time": "2017-08-11T06:38:46.870042Z",
     "start_time": "2017-08-11T06:38:46.831013Z"
    },
    "collapsed": true
   },
   "outputs": [],
   "source": [
    "hlsmav = np.vstack((high_seq, low_seq, sma_seq, volume_seq))\n",
    "hlsmav_mean = hlsmav.mean(axis=1)\n",
    "hlsmav_norm = np.zeros_like(hlsmav)\n",
    "for ii in range(hlsmav.shape[0]):\n",
    "    hlsmav_norm[ii] = hlsmav[ii] - hlsmav_mean[ii]\n",
    "    hlsmav_norm[ii] /= np.abs(hlsmav_norm[ii]).max()\n",
    "\n",
    "X = hlsmav_norm.T"
   ]
  },
  {
   "cell_type": "code",
   "execution_count": null,
   "metadata": {
    "ExecuteTime": {
     "end_time": "2017-08-11T06:40:07.752102Z",
     "start_time": "2017-08-11T06:40:07.425640Z"
    },
    "collapsed": true
   },
   "outputs": [],
   "source": [
    "model = create_model(X, y)"
   ]
  },
  {
   "cell_type": "code",
   "execution_count": null,
   "metadata": {
    "ExecuteTime": {
     "end_time": "2017-08-11T06:41:26.154232Z",
     "start_time": "2017-08-11T06:41:26.110201Z"
    },
    "collapsed": true
   },
   "outputs": [],
   "source": [
    "X_train, X_test, y_train, y_test = train_test_split(X, y, test_size=0.3, random_state=300)\n",
    "print(X_train.shape, X_test.shape, y_train.shape, y_test.shape)"
   ]
  },
  {
   "cell_type": "code",
   "execution_count": null,
   "metadata": {
    "ExecuteTime": {
     "end_time": "2017-08-11T06:41:35.446099Z",
     "start_time": "2017-08-11T06:41:27.334745Z"
    },
    "collapsed": true
   },
   "outputs": [],
   "source": [
    "# データで訓練 --- (※5)\n",
    "hist = model.fit(\n",
    "    X_train, y_train,\n",
    "    batch_size=100,\n",
    "    epochs=800, shuffle=False,\n",
    "    validation_split=0.1,\n",
    "    callbacks=[EarlyStopping(monitor='val_loss', patience=2)],\n",
    "    verbose=0)\n",
    "\n",
    "# テストデータを用いて評価する --- (※6)\n",
    "score = model.evaluate(X_test, y_test, verbose=0)\n",
    "print('loss=', score[0])\n",
    "print('accuracy=', score[1])"
   ]
  },
  {
   "cell_type": "code",
   "execution_count": null,
   "metadata": {
    "ExecuteTime": {
     "end_time": "2017-08-11T06:41:43.619888Z",
     "start_time": "2017-08-11T06:41:42.955774Z"
    },
    "collapsed": true
   },
   "outputs": [],
   "source": [
    "\"\"\"確率の取得\"\"\"\n",
    "probs = model.predict_proba(X_test, verbose=0).T\n",
    "labels = [\"high\", \"lose\", \"low\"]\n",
    "\n",
    "\"\"\"確率のヒストグラムの作成\"\"\"\n",
    "xbins = np.arange(0, 1.0, 0.05)\n",
    "hists = np.zeros((3, len(xbins)))\n",
    "for ii in range(len(probs)):\n",
    "    hists[ii, :-1], bins = np.histogram(probs[ii], bins=xbins)\n",
    "    hists[ii] /= hists[ii].sum()"
   ]
  },
  {
   "cell_type": "code",
   "execution_count": null,
   "metadata": {
    "ExecuteTime": {
     "end_time": "2017-08-11T06:41:46.324876Z",
     "start_time": "2017-08-11T06:41:43.624891Z"
    },
    "collapsed": true
   },
   "outputs": [],
   "source": [
    "# 各ラベルに該当する確率\n",
    "dff.makefig(18, 5)\n",
    "for ii in range(len(probs)):\n",
    "    plt.subplot(1,3,ii + 1)\n",
    "    plt.plot(probs[ii], linewidth=1.2)\n",
    "    dff.arrangefig(xlabel=\"Time index\", ylabel=\"Probability\", title=\"Probability of {}\".format(labels[ii]))\n",
    "    plt.ylim(0, 1)\n",
    "plt.tight_layout()\n",
    "\n",
    "# 各ラベルに該当する確率のヒストグラム\n",
    "dff.makefig(18, 5)\n",
    "dxbins = np.diff(xbins)[0]\n",
    "for ii in range(len(hists)):\n",
    "    plt.subplot(1,3,ii + 1)\n",
    "    plt.bar(xbins, hists[ii], width=0.8*dxbins, hold=\"center\", color=\"g\")\n",
    "    dff.arrangefig(ylabel=\"Frequency\")\n",
    "    ax2 = plt.gca().twinx()\n",
    "    ax2.plot(xbins, 1.0 - np.cumsum(hists[ii]), \"r-\", linewidth=1.5)\n",
    "    dff.arrangefig(xlabel=\"Probability\", ylabel=\"Accumulation\", title=\"Hist of {}\".format(labels[ii]))\n",
    "    plt.ylim(0, 1)\n",
    "#     plt.yscale(\"log\")\n",
    "plt.tight_layout()"
   ]
  },
  {
   "cell_type": "code",
   "execution_count": null,
   "metadata": {
    "ExecuteTime": {
     "end_time": "2017-08-11T06:42:14.208332Z",
     "start_time": "2017-08-11T06:42:13.582490Z"
    },
    "collapsed": true
   },
   "outputs": [],
   "source": [
    "prob_threshold = 0.55\n",
    "probs = model.predict_proba(X_test, verbose=0).T\n",
    "inds = np.zeros_like(probs, dtype=bool)\n",
    "for ii in range(0, probs.shape[0]):\n",
    "    inds[ii] = probs[ii] >= prob_threshold\n",
    "ind_sum = inds.sum(axis=0) > 0\n",
    "print(\"<# of events over threshold>\")\n",
    "print(\"[high, lose, low]:\", inds.sum(axis=1), \n",
    "      \",total:\", ind_sum.sum(),\n",
    "      \", percentage:{0:.2f}\".format(ind_sum.sum()*100./len(X_test)))\n",
    "\n",
    "# # テストデータを用いて評価する --- (※6)\n",
    "score = model.evaluate(X_test[ind_sum], y_test[ind_sum], verbose=0)\n",
    "print('loss=', score[0])\n",
    "print('accuracy=', score[1])"
   ]
  },
  {
   "cell_type": "markdown",
   "metadata": {},
   "source": [
    "## 所見\n",
    "volumeを加えても大した差はない。さて、どうしたものか。。。"
   ]
  },
  {
   "cell_type": "markdown",
   "metadata": {},
   "source": [
    "# k値を変えてみる"
   ]
  },
  {
   "cell_type": "code",
   "execution_count": null,
   "metadata": {
    "ExecuteTime": {
     "end_time": "2017-08-11T06:45:57.719234Z",
     "start_time": "2017-08-11T06:45:57.454029Z"
    },
    "collapsed": true
   },
   "outputs": [],
   "source": [
    "\"\"\"ファイルの読み込み\"\"\"\n",
    "fpath = \"../../data/FXTF/USDJPY-cd1_20170806_k060.csv\"\n",
    "data = pd.read_csv(fpath, index_col=False)\n",
    "data.head()"
   ]
  },
  {
   "cell_type": "code",
   "execution_count": null,
   "metadata": {
    "ExecuteTime": {
     "end_time": "2017-08-11T06:45:59.317765Z",
     "start_time": "2017-08-11T06:45:57.833320Z"
    },
    "collapsed": true
   },
   "outputs": [],
   "source": [
    "\"\"\"OHLC\"\"\"\n",
    "opens = data[\"open\"].as_matrix()\n",
    "high = data[\"high\"].as_matrix()\n",
    "low = data[\"low\"].as_matrix()\n",
    "close = data[\"close\"].as_matrix()\n",
    "volume = data[\"volume\"].as_matrix()\n",
    "\n",
    "dclose = np.zeros_like(close)\n",
    "dclose[1:] = np.diff(close)\n",
    "\n",
    "\"\"\"Spread\"\"\"\n",
    "s = 0.003\n",
    "\n",
    "\"\"\"SMA\"\"\"\n",
    "sma07 = data[\"sma07\"].as_matrix()\n",
    "sma13 = data[\"sma13\"].as_matrix()\n",
    "sma25 = data[\"sma25\"].as_matrix()\n",
    "sma = data[[\"sma07\", \"sma13\", \"sma25\"]].as_matrix()\n",
    "sma = sma.T\n",
    "\n",
    "\"\"\"label\"\"\"\n",
    "y_data = data[[\"label1\",\"label2\",\"label3\"]].as_matrix()\n",
    "\n",
    "\"\"\"Datetime\"\"\"\n",
    "datetimes = []\n",
    "datetime_fmt = \"%Y.%m.%d %H:%M\"\n",
    "for date_t, time_t in zip(data[\"date\"], data[\"time\"]):\n",
    "    datetime_str = date_t + \" \" + time_t\n",
    "    datetime_t = datetime.datetime.strptime(datetime_str, datetime_fmt)\n",
    "    datetimes.append(datetime_t)\n",
    "datetimes = np.array([(datetimes[ii] - datetimes[0]).total_seconds()/60.**2 for ii in range(len(datetimes))])"
   ]
  },
  {
   "cell_type": "code",
   "execution_count": null,
   "metadata": {
    "ExecuteTime": {
     "end_time": "2017-08-11T06:45:59.350786Z",
     "start_time": "2017-08-11T06:45:59.321765Z"
    },
    "collapsed": true
   },
   "outputs": [],
   "source": [
    "n_seq = 3\n",
    "opens_seq = ary2seqary(opens, n_seq)\n",
    "high_seq = ary2seqary(high, n_seq)\n",
    "low_seq = ary2seqary(low, n_seq)\n",
    "close_seq = ary2seqary(close, n_seq)\n",
    "volume_seq = ary2seqary(volume, n_seq)\n",
    "\n",
    "sma07_seq = ary2seqary(sma07, n_seq)\n",
    "sma13_seq = ary2seqary(sma13, n_seq)\n",
    "sma25_seq = ary2seqary(sma25, n_seq)\n",
    "sma_seq = np.vstack((sma07_seq, sma13_seq, sma25_seq))\n",
    "y = y_data[n_seq-1:]"
   ]
  },
  {
   "cell_type": "code",
   "execution_count": null,
   "metadata": {
    "ExecuteTime": {
     "end_time": "2017-08-11T06:45:59.395816Z",
     "start_time": "2017-08-11T06:45:59.355789Z"
    },
    "collapsed": true
   },
   "outputs": [],
   "source": [
    "hlsmav = np.vstack((high_seq, low_seq, sma_seq, volume_seq))\n",
    "hlsmav_mean = hlsmav.mean(axis=1)\n",
    "hlsmav_norm = np.zeros_like(hlsmav)\n",
    "for ii in range(hlsmav.shape[0]):\n",
    "    hlsmav_norm[ii] = hlsmav[ii] - hlsmav_mean[ii]\n",
    "    hlsmav_norm[ii] /= np.abs(hlsmav_norm[ii]).max()\n",
    "\n",
    "X = hlsmav_norm.T"
   ]
  },
  {
   "cell_type": "code",
   "execution_count": null,
   "metadata": {
    "ExecuteTime": {
     "end_time": "2017-08-11T06:45:59.763597Z",
     "start_time": "2017-08-11T06:45:59.401323Z"
    },
    "collapsed": true
   },
   "outputs": [],
   "source": [
    "model2 = create_model(X, y)"
   ]
  },
  {
   "cell_type": "code",
   "execution_count": null,
   "metadata": {
    "ExecuteTime": {
     "end_time": "2017-08-11T06:45:59.819648Z",
     "start_time": "2017-08-11T06:45:59.769601Z"
    },
    "collapsed": true
   },
   "outputs": [],
   "source": [
    "X_train, X_test, y_train, y_test = train_test_split(X, y, test_size=0.3, random_state=8)\n",
    "print(X_train.shape, X_test.shape, y_train.shape, y_test.shape)"
   ]
  },
  {
   "cell_type": "code",
   "execution_count": null,
   "metadata": {
    "ExecuteTime": {
     "end_time": "2017-08-11T06:46:34.033118Z",
     "start_time": "2017-08-11T06:45:59.823652Z"
    },
    "collapsed": true
   },
   "outputs": [],
   "source": [
    "# データで訓練 --- (※5)\n",
    "hist = model.fit(\n",
    "    X_train, y_train,\n",
    "    batch_size=100,\n",
    "    epochs=800, shuffle=False,\n",
    "    validation_split=0.1,\n",
    "    callbacks=[EarlyStopping(monitor='val_loss', patience=2)],\n",
    "    verbose=0)\n",
    "\n",
    "# テストデータを用いて評価する --- (※6)\n",
    "score = model.evaluate(X_test, y_test, verbose=0)\n",
    "print('loss=', score[0])\n",
    "print('accuracy=', score[1])"
   ]
  },
  {
   "cell_type": "code",
   "execution_count": null,
   "metadata": {
    "ExecuteTime": {
     "end_time": "2017-08-11T06:46:34.709087Z",
     "start_time": "2017-08-11T06:46:34.038119Z"
    },
    "collapsed": true
   },
   "outputs": [],
   "source": [
    "\"\"\"確率の取得\"\"\"\n",
    "probs = model.predict_proba(X_test, verbose=0).T\n",
    "labels = [\"high\", \"lose\", \"low\"]\n",
    "\n",
    "\"\"\"確率のヒストグラムの作成\"\"\"\n",
    "xbins = np.arange(0, 1.0, 0.05)\n",
    "hists = np.zeros((3, len(xbins)))\n",
    "for ii in range(len(probs)):\n",
    "    hists[ii, :-1], bins = np.histogram(probs[ii], bins=xbins)\n",
    "    hists[ii] /= hists[ii].sum()"
   ]
  },
  {
   "cell_type": "code",
   "execution_count": null,
   "metadata": {
    "ExecuteTime": {
     "end_time": "2017-08-11T06:46:37.203144Z",
     "start_time": "2017-08-11T06:46:34.709087Z"
    },
    "collapsed": true
   },
   "outputs": [],
   "source": [
    "# 各ラベルに該当する確率\n",
    "dff.makefig(18, 5)\n",
    "for ii in range(len(probs)):\n",
    "    plt.subplot(1,3,ii + 1)\n",
    "    plt.plot(probs[ii], linewidth=1.2)\n",
    "    dff.arrangefig(xlabel=\"Time index\", ylabel=\"Probability\", title=\"Probability of {}\".format(labels[ii]))\n",
    "    plt.ylim(0, 1)\n",
    "plt.tight_layout()\n",
    "\n",
    "# 各ラベルに該当する確率のヒストグラム\n",
    "dff.makefig(18, 5)\n",
    "dxbins = np.diff(xbins)[0]\n",
    "for ii in range(len(hists)):\n",
    "    plt.subplot(1,3,ii + 1)\n",
    "    plt.bar(xbins, hists[ii], width=0.8*dxbins, hold=\"center\", color=\"g\")\n",
    "    dff.arrangefig(ylabel=\"Frequency\")\n",
    "    ax2 = plt.gca().twinx()\n",
    "    ax2.plot(xbins, 1.0 - np.cumsum(hists[ii]), \"r-\", linewidth=1.5)\n",
    "    dff.arrangefig(xlabel=\"Probability\", ylabel=\"Accumulation\", title=\"Hist of {}\".format(labels[ii]))\n",
    "    plt.ylim(0, 1)\n",
    "#     plt.yscale(\"log\")\n",
    "plt.tight_layout()"
   ]
  },
  {
   "cell_type": "code",
   "execution_count": null,
   "metadata": {
    "ExecuteTime": {
     "end_time": "2017-08-11T06:47:10.357697Z",
     "start_time": "2017-08-11T06:47:09.688456Z"
    },
    "collapsed": true
   },
   "outputs": [],
   "source": [
    "prob_threshold = 0.6\n",
    "probs = model.predict_proba(X_test, verbose=0).T\n",
    "inds = np.zeros_like(probs, dtype=bool)\n",
    "for ii in range(0, probs.shape[0]):\n",
    "    inds[ii] = probs[ii] >= prob_threshold\n",
    "ind_sum = inds.sum(axis=0) > 0\n",
    "print(\"<# of events over threshold>\")\n",
    "print(\"[high, lose, low]:\", inds.sum(axis=1), \n",
    "      \",total:\", ind_sum.sum(),\n",
    "      \", percentage:{0:.2f}\".format(ind_sum.sum()*100./len(X_test)))\n",
    "\n",
    "# # テストデータを用いて評価する --- (※6)\n",
    "score = model.evaluate(X_test[ind_sum], y_test[ind_sum], verbose=0)\n",
    "print('loss=', score[0])\n",
    "print('accuracy=', score[1])"
   ]
  },
  {
   "cell_type": "code",
   "execution_count": null,
   "metadata": {
    "ExecuteTime": {
     "end_time": "2017-08-11T06:47:20.456433Z",
     "start_time": "2017-08-11T06:47:18.725287Z"
    },
    "collapsed": true
   },
   "outputs": [],
   "source": [
    "prob_threshold = 0.6\n",
    "probs = model.predict_proba(X, verbose=0).T\n",
    "inds = np.zeros_like(probs, dtype=bool)\n",
    "for ii in range(0, probs.shape[0]):\n",
    "    inds[ii] = probs[ii] >= prob_threshold\n",
    "ind_sum = inds.sum(axis=0) > 0\n",
    "print(\"<# of events over threshold>\")\n",
    "print(\"[high, lose, low]:\", inds.sum(axis=1), \n",
    "      \",total:\", ind_sum.sum(),\n",
    "      \", percentage:{0:.2f}\".format(ind_sum.sum()*100./len(X)))\n",
    "\n",
    "score = model.evaluate(X[ind_sum], y[ind_sum], verbose=0)\n",
    "print('loss=', score[0])\n",
    "print('accuracy=', score[1])"
   ]
  },
  {
   "cell_type": "markdown",
   "metadata": {},
   "source": [
    "## 所見\n",
    "k=5,30,60を用いて訓練した。   \n",
    "どれも乱数の種に対して結果が安定しない。"
   ]
  }
 ],
 "metadata": {
  "anaconda-cloud": {},
  "celltoolbar": "Slideshow",
  "kernelspec": {
   "display_name": "Python [default]",
   "language": "python",
   "name": "python3"
  },
  "language_info": {
   "codemirror_mode": {
    "name": "ipython",
    "version": 3
   },
   "file_extension": ".py",
   "mimetype": "text/x-python",
   "name": "python",
   "nbconvert_exporter": "python",
   "pygments_lexer": "ipython3",
   "version": "3.5.3"
  },
  "toc": {
   "nav_menu": {
    "height": "84px",
    "width": "252px"
   },
   "navigate_menu": true,
   "number_sections": true,
   "sideBar": true,
   "threshold": 4,
   "toc_cell": false,
   "toc_position": {
    "height": "603px",
    "left": "0px",
    "right": "1301.34px",
    "top": "107px",
    "width": "212px"
   },
   "toc_section_display": "block",
   "toc_window_display": false
  }
 },
 "nbformat": 4,
 "nbformat_minor": 2
}
