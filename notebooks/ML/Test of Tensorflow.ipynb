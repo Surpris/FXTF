{
 "cells": [
  {
   "cell_type": "markdown",
   "metadata": {},
   "source": [
    "# 目的\n",
    "`Tensorflow`を用いた深層学習を試す。   \n",
    "『Pythonによるスクレイピング＆機械学習』の５章に沿って、Tensorflowの使い方を学習する。"
   ]
  },
  {
   "cell_type": "markdown",
   "metadata": {},
   "source": [
    "## インポート"
   ]
  },
  {
   "cell_type": "code",
   "execution_count": 1,
   "metadata": {
    "ExecuteTime": {
     "end_time": "2017-05-24T22:36:56.408839",
     "start_time": "2017-05-24T22:36:54.015254"
    },
    "collapsed": true
   },
   "outputs": [],
   "source": [
    "import tensorflow as tf"
   ]
  },
  {
   "cell_type": "markdown",
   "metadata": {},
   "source": [
    "# Tensorflowでの変数表現"
   ]
  },
  {
   "cell_type": "markdown",
   "metadata": {},
   "source": [
    "## 定数の定義\n",
    "`tf.constant()`を利用する"
   ]
  },
  {
   "cell_type": "code",
   "execution_count": null,
   "metadata": {
    "ExecuteTime": {
     "end_time": "2017-05-23T23:04:16.644671",
     "start_time": "2017-05-23T23:04:16.626658"
    },
    "collapsed": false
   },
   "outputs": [],
   "source": [
    "a = tf.constant(120, name=\"a\")\n",
    "b = tf.constant(130, name=\"b\")\n",
    "c = tf.constant(140, name=\"c\")\n",
    "print(a, b, c)"
   ]
  },
  {
   "cell_type": "markdown",
   "metadata": {},
   "source": [
    "## 変数の定義\n",
    "`tf.Variable`を利用する"
   ]
  },
  {
   "cell_type": "code",
   "execution_count": null,
   "metadata": {
    "ExecuteTime": {
     "end_time": "2017-05-23T23:04:54.276573",
     "start_time": "2017-05-23T23:04:54.256573"
    },
    "collapsed": false
   },
   "outputs": [],
   "source": [
    "v = tf.Variable(0, name=\"v\")\n",
    "print(v)"
   ]
  },
  {
   "cell_type": "markdown",
   "metadata": {
    "collapsed": true
   },
   "source": [
    "## データフローグラフの定義\n",
    "`tf.assign`で処理を定義する"
   ]
  },
  {
   "cell_type": "code",
   "execution_count": null,
   "metadata": {
    "ExecuteTime": {
     "end_time": "2017-05-23T23:04:54.672576",
     "start_time": "2017-05-23T23:04:54.656575"
    },
    "collapsed": false
   },
   "outputs": [],
   "source": [
    "for line in tf.assign.__doc__.split(\"\\n\"):\n",
    "    print(line)"
   ]
  },
  {
   "cell_type": "code",
   "execution_count": null,
   "metadata": {
    "ExecuteTime": {
     "end_time": "2017-05-23T23:04:54.825625",
     "start_time": "2017-05-23T23:04:54.805627"
    },
    "collapsed": false
   },
   "outputs": [],
   "source": [
    "calc_op = a + b + c\n",
    "assign_op = tf.assign(v, calc_op)\n",
    "print(calc_op, assign_op)"
   ]
  },
  {
   "cell_type": "markdown",
   "metadata": {},
   "source": [
    "## セッションの開始と処理の実行\n",
    "`tf.Session()`でセッションを初期化し、`Session.run(op)`で`op`を実行する"
   ]
  },
  {
   "cell_type": "code",
   "execution_count": null,
   "metadata": {
    "ExecuteTime": {
     "end_time": "2017-05-23T23:04:55.175141",
     "start_time": "2017-05-23T23:04:55.140515"
    },
    "collapsed": false
   },
   "outputs": [],
   "source": [
    "sess = tf.Session()\n",
    "# print(sess.run(calc_op))\n",
    "sess.run(assign_op)\n",
    "print(sess.run(v))"
   ]
  },
  {
   "cell_type": "markdown",
   "metadata": {},
   "source": [
    "同じ名前の変数ないし定数を作成しようとしても、自動的に番号が割り振られる（\"v_1\"のように）ことに注意する。"
   ]
  },
  {
   "cell_type": "markdown",
   "metadata": {},
   "source": [
    "# プレースホルダ\n",
    "テンプレートに値を当てはめるための仕組み。`tf.placeholder`を利用する"
   ]
  },
  {
   "cell_type": "code",
   "execution_count": null,
   "metadata": {
    "ExecuteTime": {
     "end_time": "2017-05-24T00:29:30.745330",
     "start_time": "2017-05-24T00:29:30.727318"
    },
    "collapsed": true
   },
   "outputs": [],
   "source": [
    "# 整数型、要素３この配列を定義\n",
    "a = tf.placeholder(tf.int32, [3])\n",
    "\n",
    "# 配列中の各要素を２倍にする演算を定義\n",
    "b = tf.constant(2)\n",
    "x2_op = a * b"
   ]
  },
  {
   "cell_type": "code",
   "execution_count": null,
   "metadata": {
    "ExecuteTime": {
     "end_time": "2017-05-24T00:34:41.683830",
     "start_time": "2017-05-24T00:34:41.628793"
    },
    "collapsed": false
   },
   "outputs": [],
   "source": [
    "# セッションの開始\n",
    "sess = tf.Session()\n",
    "\n",
    "# プレースホルダに値を当てはめて実行\n",
    "r1 = sess.run(x2_op, feed_dict={a:[1,2,3]})\n",
    "r2 = sess.run(x2_op, feed_dict={a:[10,20,30]})\n",
    "r1, r2"
   ]
  },
  {
   "cell_type": "markdown",
   "metadata": {},
   "source": [
    "## 配列のサイズを決めない方法\n",
    "Noneを入れればよい"
   ]
  },
  {
   "cell_type": "code",
   "execution_count": null,
   "metadata": {
    "ExecuteTime": {
     "end_time": "2017-05-24T00:34:35.376124",
     "start_time": "2017-05-24T00:34:35.360112"
    },
    "collapsed": true
   },
   "outputs": [],
   "source": [
    "# 整数型、要素３この配列を定義\n",
    "a = tf.placeholder(tf.int32, [None])\n",
    "\n",
    "# 配列中の各要素を２倍にする演算を定義\n",
    "b = tf.constant(2)\n",
    "\n",
    "x2_op = a * b"
   ]
  },
  {
   "cell_type": "code",
   "execution_count": null,
   "metadata": {
    "ExecuteTime": {
     "end_time": "2017-05-24T00:34:44.024139",
     "start_time": "2017-05-24T00:34:43.976097"
    },
    "collapsed": false
   },
   "outputs": [],
   "source": [
    "# セッションの開始\n",
    "sess = tf.Session()\n",
    "\n",
    "# プレースホルダに値を当てはめて実行\n",
    "r1 = sess.run(x2_op, feed_dict={a:[1,2,3,3,5]})\n",
    "r2 = sess.run(x2_op, feed_dict={a:[10,20,30]})\n",
    "r1, r2"
   ]
  },
  {
   "cell_type": "markdown",
   "metadata": {},
   "source": [
    "# 機械学習に挑戦\n",
    "BMIのデータで練習"
   ]
  },
  {
   "cell_type": "markdown",
   "metadata": {},
   "source": [
    "## データの読出し"
   ]
  },
  {
   "cell_type": "code",
   "execution_count": 9,
   "metadata": {
    "ExecuteTime": {
     "end_time": "2017-05-24T22:43:46.815138",
     "start_time": "2017-05-24T22:43:46.786122"
    },
    "collapsed": false
   },
   "outputs": [],
   "source": [
    "# 身長,体重,ラベルのCSVデータを読み出す --- (※1)\n",
    "csv = pd.read_csv(\"./data/bmi.csv\")\n",
    "# データを正規化 --- (※2)\n",
    "csv[\"height\"] = csv[\"height\"] / 200\n",
    "csv[\"weight\"] = csv[\"weight\"] / 100"
   ]
  },
  {
   "cell_type": "markdown",
   "metadata": {},
   "source": [
    "## ラベルの変換\n",
    "ラベルを３次元のクラスで表す。   \n",
    "別に１次元でいいのでは？という話もあるが、なにか理由があった気がする。"
   ]
  },
  {
   "cell_type": "code",
   "execution_count": 10,
   "metadata": {
    "ExecuteTime": {
     "end_time": "2017-05-24T22:43:47.326226",
     "start_time": "2017-05-24T22:43:47.245882"
    },
    "collapsed": true
   },
   "outputs": [],
   "source": [
    "# ラベルを三次元のクラスで表す --- (※3)\n",
    "# - thin=(1,0,0) / normal=(0,1,0) / fat=(0,0,1)\n",
    "bclass = {\"thin\": [1,0,0], \"normal\": [0,1,0], \"fat\": [0,0,1]}\n",
    "csv[\"label_pat\"] = csv[\"label\"].apply(lambda x : np.array(bclass[x]))"
   ]
  },
  {
   "cell_type": "markdown",
   "metadata": {},
   "source": [
    "## テストデータの用意"
   ]
  },
  {
   "cell_type": "code",
   "execution_count": 11,
   "metadata": {
    "ExecuteTime": {
     "end_time": "2017-05-24T22:43:47.675721",
     "start_time": "2017-05-24T22:43:47.664714"
    },
    "collapsed": true
   },
   "outputs": [],
   "source": [
    "# 正解率を求めるためにテストデータを準備 --- (※4)\n",
    "test_csv = csv[15000:20000]\n",
    "test_pat = test_csv[[\"weight\",\"height\"]]\n",
    "test_ans = list(test_csv[\"label_pat\"])"
   ]
  },
  {
   "cell_type": "markdown",
   "metadata": {},
   "source": [
    "## データフローの構築など"
   ]
  },
  {
   "cell_type": "code",
   "execution_count": 12,
   "metadata": {
    "ExecuteTime": {
     "end_time": "2017-05-24T22:43:48.317093",
     "start_time": "2017-05-24T22:43:48.147542"
    },
    "collapsed": true
   },
   "outputs": [],
   "source": [
    "# データフローグラフを構築する --- (※5)\n",
    "# データを入れるプレースホルダを宣言\n",
    "x  = tf.placeholder(tf.float32, [None, 2]) # 身長,体重のデータを入れる\n",
    "y_ = tf.placeholder(tf.float32, [None, 3]) # 答えのラベルを入れる\n",
    "\n",
    "# 変数を宣言 --- (※6)\n",
    "W = tf.Variable(tf.zeros([2, 3])); # 重み\n",
    "b = tf.Variable(tf.zeros([3])); # バイアス"
   ]
  },
  {
   "cell_type": "markdown",
   "metadata": {},
   "source": [
    "## モデルの用意\n",
    "ソフトマックス回帰と交叉エントロピーを利用する"
   ]
  },
  {
   "cell_type": "code",
   "execution_count": 13,
   "metadata": {
    "ExecuteTime": {
     "end_time": "2017-05-24T22:43:48.981681",
     "start_time": "2017-05-24T22:43:48.832968"
    },
    "collapsed": true
   },
   "outputs": [],
   "source": [
    "# ソフトマックス回帰を定義 --- (※7)\n",
    "y = tf.nn.softmax(tf.matmul(x, W) + b)\n",
    "\n",
    "# 訓練するモデルの用意 --- (※8)\n",
    "cross_entropy = -tf.reduce_sum(y_ * tf.log(y))\n",
    "optimizer = tf.train.GradientDescentOptimizer(0.01)\n",
    "train = optimizer.minimize(cross_entropy)\n",
    "\n",
    "# 正解率を求める\n",
    "predict = tf.equal(tf.argmax(y, 1), tf.argmax(y_,1))\n",
    "accuracy = tf.reduce_mean(tf.cast(predict, tf.float32))"
   ]
  },
  {
   "cell_type": "code",
   "execution_count": 14,
   "metadata": {
    "ExecuteTime": {
     "end_time": "2017-05-24T22:43:49.362456",
     "start_time": "2017-05-24T22:43:49.352948"
    },
    "collapsed": false
   },
   "outputs": [
    {
     "data": {
      "text/plain": [
       "(<tf.Tensor 'Softmax:0' shape=(?, 3) dtype=float32>,\n",
       " <tf.Tensor 'Neg:0' shape=() dtype=float32>,\n",
       " <tensorflow.python.training.gradient_descent.GradientDescentOptimizer at 0x1ef19869f28>,\n",
       " <tf.Operation 'GradientDescent' type=NoOp>,\n",
       " <tf.Tensor 'Equal:0' shape=(?,) dtype=bool>,\n",
       " <tf.Tensor 'Mean:0' shape=() dtype=float32>)"
      ]
     },
     "execution_count": 14,
     "metadata": {},
     "output_type": "execute_result"
    }
   ],
   "source": [
    "y,cross_entropy, optimizer, train, predict, accuracy"
   ]
  },
  {
   "cell_type": "markdown",
   "metadata": {},
   "source": [
    "## モデルの訓練\n",
    "ここまではあくまでtensorflowのセッションで用いる変数の定義。   \n",
    "実際の訓練はセッションを開始してから行う。"
   ]
  },
  {
   "cell_type": "code",
   "execution_count": 15,
   "metadata": {
    "ExecuteTime": {
     "end_time": "2017-05-24T22:43:59.110406",
     "start_time": "2017-05-24T22:43:50.384868"
    },
    "collapsed": false
   },
   "outputs": [
    {
     "name": "stdout",
     "output_type": "stream",
     "text": [
      "step= 0 cre= 108.663 acc= 0.3242\n",
      "step= 500 cre= 57.5887 acc= 0.8904\n",
      "step= 1000 cre= 45.0209 acc= 0.898\n",
      "step= 1500 cre= 41.6543 acc= 0.9566\n",
      "step= 2000 cre= 34.664 acc= 0.943\n",
      "step= 2500 cre= 34.287 acc= 0.9674\n",
      "step= 3000 cre= 26.8808 acc= 0.9726\n"
     ]
    }
   ],
   "source": [
    "# セッションを開始\n",
    "sess = tf.Session()\n",
    "sess.run(tf.global_variables_initializer()) #変数を初期化\n",
    "# テストデータを用いて学習させる\n",
    "size = 100\n",
    "for step in range(3500):\n",
    "    i = (step * size) % 14000\n",
    "    rows = csv[1 + i : 1 + i + size]\n",
    "    x_pat = rows[[\"weight\",\"height\"]]\n",
    "    y_ans = list(rows[\"label_pat\"])\n",
    "    fd = {x: x_pat, y_: y_ans}\n",
    "    sess.run(train, feed_dict=fd)\n",
    "    if step % 500 == 0:\n",
    "        cre = sess.run(cross_entropy, feed_dict=fd)\n",
    "        acc = sess.run(accuracy, feed_dict={x: test_pat, y_: test_ans})\n",
    "        print(\"step=\", step, \"cre=\", cre, \"acc=\", acc)"
   ]
  },
  {
   "cell_type": "markdown",
   "metadata": {},
   "source": [
    "## 正解率を求める"
   ]
  },
  {
   "cell_type": "code",
   "execution_count": 16,
   "metadata": {
    "ExecuteTime": {
     "end_time": "2017-05-24T22:44:00.303035",
     "start_time": "2017-05-24T22:44:00.286024"
    },
    "collapsed": false
   },
   "outputs": [
    {
     "name": "stdout",
     "output_type": "stream",
     "text": [
      "正解率= 0.9712\n"
     ]
    }
   ],
   "source": [
    "# 最終的な正解率を求める\n",
    "acc = sess.run(accuracy, feed_dict={x: test_pat, y_: test_ans})\n",
    "print(\"正解率=\", acc)"
   ]
  },
  {
   "cell_type": "markdown",
   "metadata": {},
   "source": [
    "## 訓練されたモデルの保存\n",
    "`tf.train.Saver()`を用いる。   \n",
    "生成されるファイルは４つ（`*.data-~`, `*.index`, `*.meta`, `checkpoint`）"
   ]
  },
  {
   "cell_type": "code",
   "execution_count": 17,
   "metadata": {
    "ExecuteTime": {
     "end_time": "2017-05-24T22:44:27.591957",
     "start_time": "2017-05-24T22:44:27.537414"
    },
    "collapsed": true
   },
   "outputs": [],
   "source": [
    "saver = tf.train.Saver()"
   ]
  },
  {
   "cell_type": "code",
   "execution_count": 18,
   "metadata": {
    "ExecuteTime": {
     "end_time": "2017-05-24T22:44:28.652651",
     "start_time": "2017-05-24T22:44:28.194357"
    },
    "collapsed": false
   },
   "outputs": [
    {
     "data": {
      "text/plain": [
       "'./data/model/model.ckpt'"
      ]
     },
     "execution_count": 18,
     "metadata": {},
     "output_type": "execute_result"
    }
   ],
   "source": [
    "saver.save(sess, save_path=\"./data/model/model.ckpt\")"
   ]
  },
  {
   "cell_type": "markdown",
   "metadata": {
    "ExecuteTime": {
     "end_time": "2017-05-24T22:11:37.253328",
     "start_time": "2017-05-24T22:11:37.240319"
    },
    "collapsed": false
   },
   "source": [
    "## モデルの読み込み\n",
    "`saver.restore(session ,model_path)`を利用する"
   ]
  },
  {
   "cell_type": "code",
   "execution_count": 19,
   "metadata": {
    "ExecuteTime": {
     "end_time": "2017-05-24T22:44:53.571751",
     "start_time": "2017-05-24T22:44:53.352338"
    },
    "collapsed": false
   },
   "outputs": [
    {
     "name": "stdout",
     "output_type": "stream",
     "text": [
      "INFO:tensorflow:Restoring parameters from ./data/model/model.ckpt\n"
     ]
    }
   ],
   "source": [
    "sess = tf.Session()\n",
    "saver.restore(sess, \"./data/model/model.ckpt\")"
   ]
  },
  {
   "cell_type": "code",
   "execution_count": null,
   "metadata": {
    "ExecuteTime": {
     "end_time": "2017-05-24T22:15:44.575476",
     "start_time": "2017-05-24T22:15:44.550463"
    },
    "collapsed": false
   },
   "outputs": [],
   "source": [
    "acc = sess.run(accuracy, feed_dict={x: test_pat, y_: test_ans})\n",
    "print(\"正解率=\", acc)"
   ]
  },
  {
   "cell_type": "markdown",
   "metadata": {},
   "source": [
    "## 所感\n",
    "正直ややこしいというのが感想。要点をまとめると、   \n",
    "\n",
    "* 重みとバイアスが最適化したい変数であるから`tf.Variable`で定義する\n",
    "* 訓練データと正解ラベルは定数として扱うが、計算で順次与えるものだから`tf.placeholder`を用いて入れ物を定義\n",
    "* 回帰に用いる関数（ソフトマックス関数など）、最小化したい関数（交叉エントロピーなど）、訓練用関数を定義する\n",
    "* あとはtf.Session内で次々と訓練データと正解ラベルを与えて訓練する"
   ]
  },
  {
   "cell_type": "markdown",
   "metadata": {},
   "source": [
    "# TensorBoardの利用\n",
    "`tf.train.SummaryWriter(name, graph=sess.graph)`で利用できる"
   ]
  },
  {
   "cell_type": "markdown",
   "metadata": {},
   "source": [
    "## 掛け算のコードの視覚化"
   ]
  },
  {
   "cell_type": "code",
   "execution_count": 2,
   "metadata": {
    "ExecuteTime": {
     "end_time": "2017-05-24T22:37:04.796805",
     "start_time": "2017-05-24T22:37:04.712740"
    },
    "collapsed": false
   },
   "outputs": [
    {
     "data": {
      "text/plain": [
       "600"
      ]
     },
     "execution_count": 2,
     "metadata": {},
     "output_type": "execute_result"
    }
   ],
   "source": [
    "# データフローグラフの構築\n",
    "a = tf.constant(20, name=\"a\")\n",
    "b = tf.constant(30, name=\"b\")\n",
    "mul_op = a * b\n",
    "\n",
    "# セッションの生成\n",
    "sess = tf.Session()\n",
    "\n",
    "# TensorBoardの利用\n",
    "tw = tf.summary.FileWriter(\"log_dir\", graph=sess.graph)\n",
    "\n",
    "sess.run(mul_op)"
   ]
  },
  {
   "cell_type": "markdown",
   "metadata": {
    "collapsed": true
   },
   "source": [
    "## BMIのTensorboardの作成"
   ]
  },
  {
   "cell_type": "code",
   "execution_count": 6,
   "metadata": {
    "ExecuteTime": {
     "end_time": "2017-05-24T22:42:46.557887",
     "start_time": "2017-05-24T22:42:35.164742"
    },
    "collapsed": false
   },
   "outputs": [
    {
     "name": "stdout",
     "output_type": "stream",
     "text": [
      "step= 0 cre= 108.663 acc= 0.3242\n",
      "step= 500 cre= 57.5887 acc= 0.8904\n",
      "step= 1000 cre= 45.0209 acc= 0.898\n",
      "step= 1500 cre= 41.6543 acc= 0.9566\n",
      "step= 2000 cre= 34.664 acc= 0.943\n",
      "step= 2500 cre= 34.287 acc= 0.9674\n",
      "step= 3000 cre= 26.8808 acc= 0.9726\n",
      "正解率= 0.9712\n"
     ]
    }
   ],
   "source": [
    "# 身長,体重,ラベルのCSVデータを読み出す --- (※1)\n",
    "csv = pd.read_csv(\"./data/bmi.csv\")\n",
    "# データを正規化 --- (※2)\n",
    "csv[\"height\"] = csv[\"height\"] / 200\n",
    "csv[\"weight\"] = csv[\"weight\"] / 100\n",
    "# ラベルを三次元のクラスで表す --- (※3)\n",
    "# - thin=(1,0,0) / normal=(0,1,0) / fat=(0,0,1)\n",
    "bclass = {\"thin\": [1,0,0], \"normal\": [0,1,0], \"fat\": [0,0,1]}\n",
    "csv[\"label_pat\"] = csv[\"label\"].apply(lambda x : np.array(bclass[x]))\n",
    "\n",
    "# 正解率を求めるためにテストデータを準備 --- (※4)\n",
    "test_csv = csv[15000:20000]\n",
    "test_pat = test_csv[[\"weight\",\"height\"]]\n",
    "test_ans = list(test_csv[\"label_pat\"])\n",
    "\n",
    "# データフローグラフを構築する --- (※5)\n",
    "# データを入れるプレースホルダを宣言\n",
    "x  = tf.placeholder(tf.float32, [None, 2], name=\"x\") \n",
    "y_ = tf.placeholder(tf.float32, [None, 3], name=\"y_\") \n",
    "\n",
    "# 変数を宣言 --- (※6)\n",
    "with tf.name_scope('interface') as scope:\n",
    "    W = tf.Variable(tf.zeros([2, 3]), name=\"W\"); # 重み\n",
    "    b = tf.Variable(tf.zeros([3]), name=\"b\"); # バイアス\n",
    "    # ソフトマックス回帰を定義 --- (※7)\n",
    "    with tf.name_scope('softmax') as scope:\n",
    "        y = tf.nn.softmax(tf.matmul(x, W) + b)\n",
    "\n",
    "# モデルを訓練する --- (※8)\n",
    "with tf.name_scope('loss') as scope:\n",
    "    cross_entropy = -tf.reduce_sum(y_ * tf.log(y))\n",
    "\n",
    "with tf.name_scope('training') as scope:\n",
    "    optimizer = tf.train.GradientDescentOptimizer(0.01)\n",
    "    train = optimizer.minimize(cross_entropy)\n",
    "\n",
    "# 正解率を求める\n",
    "with tf.name_scope('accuracy') as scope:\n",
    "    predict = tf.equal(tf.argmax(y, 1), tf.argmax(y_,1))\n",
    "    accuracy = tf.reduce_mean(tf.cast(predict, tf.float32))\n",
    "\n",
    "# セッションを開始\n",
    "with tf.Session() as sess:\n",
    "    tw = tf.summary.FileWriter(\"log_dir\", graph=sess.graph)\n",
    "    sess.run(tf.global_variables_initializer()) #変数を初期化\n",
    "    # テストデータを用いて学習させる\n",
    "    for step in range(3500):\n",
    "        i = (step * 100) % 14000\n",
    "        rows = csv[1 + i : 1 + i + 100]\n",
    "        x_pat = rows[[\"weight\",\"height\"]]\n",
    "        y_ans = list(rows[\"label_pat\"])\n",
    "        fd = {x: x_pat, y_: y_ans}\n",
    "        sess.run(train, feed_dict=fd)\n",
    "        if step % 500 == 0:\n",
    "            cre = sess.run(cross_entropy, feed_dict=fd)\n",
    "            acc = sess.run(accuracy, feed_dict={x: test_pat, y_: test_ans})\n",
    "            print(\"step=\", step, \"cre=\", cre, \"acc=\", acc)\n",
    "\n",
    "    # 最終的な正解率を求める\n",
    "    acc = sess.run(accuracy, feed_dict={x: test_pat, y_: test_ans})\n",
    "    print(\"正解率=\", acc)"
   ]
  },
  {
   "cell_type": "code",
   "execution_count": null,
   "metadata": {
    "collapsed": true
   },
   "outputs": [],
   "source": []
  }
 ],
 "metadata": {
  "anaconda-cloud": {},
  "kernelspec": {
   "display_name": "Python [default]",
   "language": "python",
   "name": "python3"
  },
  "language_info": {
   "codemirror_mode": {
    "name": "ipython",
    "version": 3
   },
   "file_extension": ".py",
   "mimetype": "text/x-python",
   "name": "python",
   "nbconvert_exporter": "python",
   "pygments_lexer": "ipython3",
   "version": "3.5.2"
  },
  "toc": {
   "nav_menu": {
    "height": "30px",
    "width": "252px"
   },
   "navigate_menu": true,
   "number_sections": true,
   "sideBar": true,
   "threshold": 4,
   "toc_cell": false,
   "toc_section_display": "block",
   "toc_window_display": false
  }
 },
 "nbformat": 4,
 "nbformat_minor": 2
}
