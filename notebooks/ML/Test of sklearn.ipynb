{
 "cells": [
  {
   "cell_type": "markdown",
   "metadata": {},
   "source": [
    "# 目的\n",
    "`sklearn`や`Tensorflow`を用いた機械学習または深層学習の練習を行う。"
   ]
  },
  {
   "cell_type": "code",
   "execution_count": 1,
   "metadata": {
    "ExecuteTime": {
     "end_time": "2017-06-14T18:38:55.622943",
     "start_time": "2017-06-14T18:38:47.841723"
    },
    "collapsed": false
   },
   "outputs": [
    {
     "name": "stderr",
     "output_type": "stream",
     "text": [
      "Using TensorFlow backend.\n"
     ]
    }
   ],
   "source": [
    "# -*- coding: utf-8 -*-\n",
    "from sklearn.model_selection import train_test_split\n",
    "from sklearn.neural_network import MLPClassifier\n",
    "from FX.FX import SQLAnaforFX\n",
    "from FX.FX import drawfigfunc as dff\n",
    "from FX.FX import analyzefuncs as af"
   ]
  },
  {
   "cell_type": "markdown",
   "metadata": {},
   "source": [
    "# sklearn\n",
    "sklearnで深層学習に相当するものは`sklearn.neural_network`に含まれている。   \n",
    "いわゆる多層パーセプトロン分類機（Multi-Layer Perceptron classifier）が利用できる。   \n",
    "他の機械学習アルゴリズムのAPIは[こちら](http://scikit-learn.org/stable/modules/classes.html#module-sklearn.neural_network)に掲載されている。   \n",
    "\n",
    "## MLPClassifierの引数\n",
    "[こちら](http://qiita.com/ToshikiShimizu/items/3c0b8713a26ee10b689e)に簡潔にまとめられていて、大変助かる。\n",
    "```\n",
    "hidden_layer_sizes=(100, )#隠れ層のノード数(多層にもできる)\n",
    "activation='relu'#活性化関数(identify, logistic, tanh, relu)\n",
    "solver='adam'#最適化手法(lbfgs(準ニュートン法), sgd, adam)\n",
    "alpha=0.0001 # L2ペナルティ\n",
    "batch_size='auto'#バッチサイズ(sgd, adamで適用)\n",
    "learning_rate='constant' # 学習係数を変えるかどうか\n",
    "learning_rate_init=0.001 # 学習係数\n",
    "power_t=0.5\n",
    "max_iter=200#最大エポック数\n",
    "shuffle=True#iterationの度にサンプルをシャッフル\n",
    "random_state=None #乱数の種\n",
    "tol=0.0001 # 最適化のための許容誤差\n",
    "verbose=False # Whether to print progress messages to stdout\n",
    "warm_start=False\n",
    "momentum=0.9\n",
    "nesterovs_momentum=True\n",
    "early_stopping=False\n",
    "validation_fraction=0.1\n",
    "beta_1=0.9\n",
    "beta_2=0.999\n",
    "epsilon=1e-08\n",
    "```"
   ]
  },
  {
   "cell_type": "code",
   "execution_count": 2,
   "metadata": {
    "ExecuteTime": {
     "end_time": "2017-05-25T02:10:51.879222",
     "start_time": "2017-05-25T02:10:51.872219"
    },
    "collapsed": true
   },
   "outputs": [],
   "source": [
    "from sklearn.neural_network import MLPClassifier"
   ]
  },
  {
   "cell_type": "markdown",
   "metadata": {},
   "source": [
    "## サンプルコード\n",
    "「[Compare Stochastic learning strategies for MLPClassifier](http://scikit-learn.org/stable/auto_examples/neural_networks/plot_mlp_training_curves.html#sphx-glr-auto-examples-neural-networks-plot-mlp-training-curves-py)」を試してみる。ベンチマーク的な。   "
   ]
  },
  {
   "cell_type": "code",
   "execution_count": 3,
   "metadata": {
    "ExecuteTime": {
     "end_time": "2017-05-25T02:11:03.757953",
     "start_time": "2017-05-25T02:10:55.044221"
    },
    "collapsed": false,
    "scrolled": true
   },
   "outputs": [
    {
     "name": "stdout",
     "output_type": "stream",
     "text": [
      "Automatically created module for IPython interactive environment\n",
      "\n",
      "learning on dataset iris\n",
      "training: constant learning-rate\n"
     ]
    },
    {
     "name": "stderr",
     "output_type": "stream",
     "text": [
      "C:\\Anaconda3\\lib\\site-packages\\sklearn\\neural_network\\multilayer_perceptron.py:563: ConvergenceWarning: Stochastic Optimizer: Maximum iterations reached and the optimization hasn't converged yet.\n",
      "  % (), ConvergenceWarning)\n"
     ]
    },
    {
     "name": "stdout",
     "output_type": "stream",
     "text": [
      "Training set score: 0.980000\n",
      "Training set loss: 0.096922\n",
      "training: constant with momentum\n",
      "Training set score: 0.980000\n",
      "Training set loss: 0.050260\n",
      "training: constant with Nesterov's momentum\n",
      "Training set score: 0.980000\n",
      "Training set loss: 0.050277\n",
      "training: inv-scaling learning-rate\n",
      "Training set score: 0.360000\n",
      "Training set loss: 0.979983\n",
      "training: inv-scaling with momentum\n",
      "Training set score: 0.860000\n",
      "Training set loss: 0.504017\n",
      "training: inv-scaling with Nesterov's momentum\n",
      "Training set score: 0.860000\n",
      "Training set loss: 0.504760\n",
      "training: adam\n",
      "Training set score: 0.980000\n",
      "Training set loss: 0.046248\n",
      "\n",
      "learning on dataset digits\n",
      "training: constant learning-rate\n",
      "Training set score: 0.956038\n",
      "Training set loss: 0.243802\n",
      "training: constant with momentum\n",
      "Training set score: 0.992766\n",
      "Training set loss: 0.041297\n",
      "training: constant with Nesterov's momentum\n",
      "Training set score: 0.993879\n",
      "Training set loss: 0.042898\n",
      "training: inv-scaling learning-rate\n",
      "Training set score: 0.638843\n",
      "Training set loss: 1.855465\n",
      "training: inv-scaling with momentum\n",
      "Training set score: 0.912632\n",
      "Training set loss: 0.290584\n",
      "training: inv-scaling with Nesterov's momentum\n",
      "Training set score: 0.909293\n",
      "Training set loss: 0.318387\n",
      "training: adam\n",
      "Training set score: 0.991653\n",
      "Training set loss: 0.045934\n",
      "\n",
      "learning on dataset circles\n",
      "training: constant learning-rate\n",
      "Training set score: 0.830000\n",
      "Training set loss: 0.681498\n",
      "training: constant with momentum\n",
      "Training set score: 0.940000\n",
      "Training set loss: 0.163712\n",
      "training: constant with Nesterov's momentum\n",
      "Training set score: 0.940000\n",
      "Training set loss: 0.163012\n",
      "training: inv-scaling learning-rate\n",
      "Training set score: 0.500000\n",
      "Training set loss: 0.692855\n",
      "training: inv-scaling with momentum\n",
      "Training set score: 0.510000\n",
      "Training set loss: 0.688376\n",
      "training: inv-scaling with Nesterov's momentum\n",
      "Training set score: 0.500000\n",
      "Training set loss: 0.688593\n",
      "training: adam\n",
      "Training set score: 0.930000\n",
      "Training set loss: 0.159988\n",
      "\n",
      "learning on dataset moons\n",
      "training: constant learning-rate\n",
      "Training set score: 0.850000\n",
      "Training set loss: 0.342245\n",
      "training: constant with momentum\n",
      "Training set score: 0.850000\n",
      "Training set loss: 0.345580\n",
      "training: constant with Nesterov's momentum\n",
      "Training set score: 0.850000\n",
      "Training set loss: 0.336284\n",
      "training: inv-scaling learning-rate\n",
      "Training set score: 0.500000\n",
      "Training set loss: 0.689729\n",
      "training: inv-scaling with momentum\n",
      "Training set score: 0.830000\n",
      "Training set loss: 0.512595\n",
      "training: inv-scaling with Nesterov's momentum\n",
      "Training set score: 0.830000\n",
      "Training set loss: 0.513034\n",
      "training: adam\n",
      "Training set score: 0.850000\n",
      "Training set loss: 0.334243\n"
     ]
    },
    {
     "data": {
      "image/png": "[encoded data removed]",
      "text/plain": [
       "<matplotlib.figure.Figure at 0x294b0b65b38>"
      ]
     },
     "metadata": {},
     "output_type": "display_data"
    }
   ],
   "source": [
    "print(__doc__)\n",
    "import matplotlib.pyplot as plt\n",
    "from sklearn.neural_network import MLPClassifier\n",
    "from sklearn.preprocessing import MinMaxScaler\n",
    "from sklearn import datasets\n",
    "\n",
    "# different learning rate schedules and momentum parameters\n",
    "params = [{'solver': 'sgd', 'learning_rate': 'constant', 'momentum': 0,\n",
    "           'learning_rate_init': 0.2},\n",
    "          {'solver': 'sgd', 'learning_rate': 'constant', 'momentum': .9,\n",
    "           'nesterovs_momentum': False, 'learning_rate_init': 0.2},\n",
    "          {'solver': 'sgd', 'learning_rate': 'constant', 'momentum': .9,\n",
    "           'nesterovs_momentum': True, 'learning_rate_init': 0.2},\n",
    "          {'solver': 'sgd', 'learning_rate': 'invscaling', 'momentum': 0,\n",
    "           'learning_rate_init': 0.2},\n",
    "          {'solver': 'sgd', 'learning_rate': 'invscaling', 'momentum': .9,\n",
    "           'nesterovs_momentum': True, 'learning_rate_init': 0.2},\n",
    "          {'solver': 'sgd', 'learning_rate': 'invscaling', 'momentum': .9,\n",
    "           'nesterovs_momentum': False, 'learning_rate_init': 0.2},\n",
    "          {'solver': 'adam', 'learning_rate_init': 0.01}]\n",
    "\n",
    "labels = [\"constant learning-rate\", \"constant with momentum\",\n",
    "          \"constant with Nesterov's momentum\",\n",
    "          \"inv-scaling learning-rate\", \"inv-scaling with momentum\",\n",
    "          \"inv-scaling with Nesterov's momentum\", \"adam\"]\n",
    "\n",
    "plot_args = [{'c': 'red', 'linestyle': '-'},\n",
    "             {'c': 'green', 'linestyle': '-'},\n",
    "             {'c': 'blue', 'linestyle': '-'},\n",
    "             {'c': 'red', 'linestyle': '--'},\n",
    "             {'c': 'green', 'linestyle': '--'},\n",
    "             {'c': 'blue', 'linestyle': '--'},\n",
    "             {'c': 'black', 'linestyle': '-'}]\n",
    "\n",
    "\n",
    "def plot_on_dataset(X, y, ax, name):\n",
    "    # for each dataset, plot learning for each learning strategy\n",
    "    print(\"\\nlearning on dataset %s\" % name)\n",
    "    ax.set_title(name)\n",
    "    X = MinMaxScaler().fit_transform(X)\n",
    "    mlps = []\n",
    "    if name == \"digits\":\n",
    "        # digits is larger but converges fairly quickly\n",
    "        max_iter = 15\n",
    "    else:\n",
    "        max_iter = 400\n",
    "\n",
    "    for label, param in zip(labels, params):\n",
    "        print(\"training: %s\" % label)\n",
    "        mlp = MLPClassifier(verbose=0, random_state=0,\n",
    "                            max_iter=max_iter, **param)\n",
    "        mlp.fit(X, y)\n",
    "        mlps.append(mlp)\n",
    "        print(\"Training set score: %f\" % mlp.score(X, y))\n",
    "        print(\"Training set loss: %f\" % mlp.loss_)\n",
    "    for mlp, label, args in zip(mlps, labels, plot_args):\n",
    "            ax.plot(mlp.loss_curve_, label=label, **args)\n",
    "\n",
    "\n",
    "fig, axes = plt.subplots(2, 2, figsize=(15, 10))\n",
    "# load / generate some toy datasets\n",
    "iris = datasets.load_iris()\n",
    "digits = datasets.load_digits()\n",
    "data_sets = [(iris.data, iris.target),\n",
    "             (digits.data, digits.target),\n",
    "             datasets.make_circles(noise=0.2, factor=0.5, random_state=1),\n",
    "             datasets.make_moons(noise=0.3, random_state=0)]\n",
    "\n",
    "for ax, data, name in zip(axes.ravel(), data_sets, ['iris', 'digits',\n",
    "                                                    'circles', 'moons']):\n",
    "    plot_on_dataset(*data, ax=ax, name=name)\n",
    "\n",
    "fig.legend(ax.get_lines(), labels=labels, ncol=3, loc=\"upper center\")\n",
    "plt.show()"
   ]
  },
  {
   "cell_type": "markdown",
   "metadata": {},
   "source": [
    "## サンプルコードその２\n",
    "訓練に用いるデータの用意やMLPC中で用いる乱数の種を変えると、正解率が大きく変わる。"
   ]
  },
  {
   "cell_type": "code",
   "execution_count": 2,
   "metadata": {
    "ExecuteTime": {
     "end_time": "2017-06-14T18:39:04.013926",
     "start_time": "2017-06-14T18:39:02.168714"
    },
    "collapsed": false
   },
   "outputs": [
    {
     "name": "stdout",
     "output_type": "stream",
     "text": [
      "0.955555555556\n",
      "[ True False  True  True  True  True  True  True  True  True  True  True\n",
      "  True  True  True False  True  True  True  True  True  True  True  True\n",
      "  True  True  True  True  True  True  True  True  True  True  True  True\n",
      "  True  True  True  True  True  True  True  True  True]\n"
     ]
    }
   ],
   "source": [
    "\"\"\"sklearn_nn.py\"\"\"\n",
    "# -*- coding: utf-8 -*-\n",
    "from sklearn.datasets import load_iris\n",
    "from sklearn.model_selection import train_test_split\n",
    "from sklearn.neural_network import MLPClassifier\n",
    "\n",
    "iris = load_iris()\n",
    "X = iris.data\n",
    "y = iris.target\n",
    "X_train, X_test, y_train, y_test = train_test_split(X, y, test_size=0.3, random_state=7)\n",
    "clf = MLPClassifier(solver=\"sgd\",random_state=10,max_iter=10000)\n",
    "clf.fit(X_train, y_train)\n",
    "print (clf.score(X_test, y_test))\n",
    "print(clf.predict(X_test)==y_test)"
   ]
  },
  {
   "cell_type": "code",
   "execution_count": 14,
   "metadata": {
    "ExecuteTime": {
     "end_time": "2017-06-14T18:48:55.208888",
     "start_time": "2017-06-14T18:48:55.200884"
    },
    "collapsed": false
   },
   "outputs": [],
   "source": [
    "np.savetxt(fname=\"../../data/sklearn/iris_y.csv\", X=y, delimiter=\",\")"
   ]
  },
  {
   "cell_type": "markdown",
   "metadata": {},
   "source": [
    "このIrisのサンプルコードは、非常にシンプルに使い方を記述している。   \n",
    "1. まずデータセット`X`と正解`Y`を用意する。\n",
    "    * 今回は特徴量が４つ：萼片の長さと幅、花弁の長さと幅\n",
    "2. 次にデータセットを`train_test_split`で分ける\n",
    "    * X_train, X_test, y_train, y_test = train_test_split(X, y, test_size=0.3, random_state=5)\n",
    "3. MLPClassifierオブジェクトを初期化する。\n",
    "    * clf = MLPClassifier(solver=\"sgd\",random_state=0,max_iter=10000)\n",
    "    * パラメータは上の方で述べているもの。\n",
    "    * ソルバーは３つ：\n",
    "        + lbfgs: 準ニュートン法\n",
    "        + sgd: 確率的勾配降下法（Stochastic Gradiant Descent）\n",
    "        + adam: Adaptive moment estimation\n",
    "4. 訓練用データでパラメータを決める\n",
    "    * clf.fit(X_train, y_train)\n",
    "5. データを与えて予測させる。\n",
    "    * clf.predict(X)\n",
    "\n",
    "Optimizerについては、[こちら](http://qiita.com/tokkuman/items/1944c00415d129ca0ee9#adam)に詳しく記載されている。   \n",
    "ほかのOptimizerを使用したい場合は、自前で実装するか、他のフレームワーク（モジュール）を利用すること。"
   ]
  },
  {
   "cell_type": "code",
   "execution_count": null,
   "metadata": {
    "ExecuteTime": {
     "end_time": "2017-05-17T00:05:27.226437",
     "start_time": "2017-05-17T00:05:27.092823"
    },
    "collapsed": false
   },
   "outputs": [],
   "source": [
    "iris.feature_names, iris.data"
   ]
  },
  {
   "cell_type": "markdown",
   "metadata": {
    "collapsed": true
   },
   "source": [
    "# 実際にFXデータで試してみる\n",
    "FXの上がった・下がったで予測が可能か試す。   \n",
    "irisのデータはばらつきが小さいため予測がしやすいが、こちらは時間によって前後の差の大きさが大きく変わる。   \n",
    "それは正規化をしようが関係ない（そもそも正規化は、特徴量の間のばらつきが大きい場合に特徴量の間の差異を減らすためにある）。"
   ]
  },
  {
   "cell_type": "markdown",
   "metadata": {},
   "source": [
    "## データの用意\n",
    "差分をとって、100この連続するデータを特徴量とするようにデータを用意する。   \n",
    "対象とするのは１分足。"
   ]
  },
  {
   "cell_type": "markdown",
   "metadata": {},
   "source": [
    "### DBからの読み込み\n",
    "予め作成されたデータベースから、close（終値）を読み込む。そしてその差分をとる。   \n",
    "最初のデータに対する差分はゼロであるから、それを付け加えておく。"
   ]
  },
  {
   "cell_type": "code",
   "execution_count": null,
   "metadata": {
    "ExecuteTime": {
     "end_time": "2017-05-18T21:11:34.606675",
     "start_time": "2017-05-18T21:11:34.458075"
    },
    "collapsed": false
   },
   "outputs": [],
   "source": [
    "dbpath = \"201704\"\n",
    "sql = SQLAnaforFX(dbpath)\n",
    "sql.showtablenames()"
   ]
  },
  {
   "cell_type": "code",
   "execution_count": null,
   "metadata": {
    "ExecuteTime": {
     "end_time": "2017-05-18T21:11:49.455942",
     "start_time": "2017-05-18T21:11:49.417917"
    },
    "collapsed": false
   },
   "outputs": [],
   "source": [
    "close = sql.toDataFrame(\"ask01min\", colselect=[\"close\"]).as_matrix()[:,0]\n",
    "dclose = np.zeros_like(close)\n",
    "dclose[1:] = np.diff(close)"
   ]
  },
  {
   "cell_type": "code",
   "execution_count": null,
   "metadata": {
    "ExecuteTime": {
     "end_time": "2017-05-18T21:11:51.029380",
     "start_time": "2017-05-18T21:11:50.189830"
    },
    "collapsed": false
   },
   "outputs": [],
   "source": [
    "plt.figure(figsize=(5,5))\n",
    "plt.hold(True)\n",
    "plt.plot(dclose[0:100], label=\"diff\")\n",
    "plt.plot(close[:100]-close[0], label=\"close\")\n",
    "plt.legend(loc=3)\n",
    "plt.xlabel(\"step\")\n",
    "plt.ylabel(\"$\\\\Delta M$\")\n",
    "plt.grid()"
   ]
  },
  {
   "cell_type": "markdown",
   "metadata": {},
   "source": [
    "### 正解ラベルの作成\n",
    "時刻 $n$ における価格を $M(n)$ として、ステップ $k$ だけ進んだ時点での価格 $M(n+k)$ が $M(n)$ より大きいかどうか、\n",
    "そしてその差がスプレッド $s$ より大きいかどうかで、場合分けができる。すなわち   \n",
    "\n",
    "* Label 1: $M(n+k) - M(n) > s$\n",
    "* Label 2: $|M(n+k) - M(n)| < s$\n",
    "* Label 3: $M(n+k) - M(n) < -s$\n",
    "\n",
    "ステップ $k$ を変えつつこのラベリングを行い、最も予想確率が高い $k$ とその時のパラメータを探索する。   \n",
    "もし最大となる予想確率が８割を超えない場合、別の特徴量の組み合わせを検討する。"
   ]
  },
  {
   "cell_type": "code",
   "execution_count": null,
   "metadata": {
    "ExecuteTime": {
     "end_time": "2017-05-18T21:11:54.897046",
     "start_time": "2017-05-18T21:11:54.465257"
    },
    "collapsed": true
   },
   "outputs": [],
   "source": [
    "# Calculate mean spread\n",
    "close_bid = sql.toDataFrame(\"bid01min\", colselect=[\"close\"]).as_matrix()\n",
    "s = np.mean((close - close_bid)[close != 0])"
   ]
  },
  {
   "cell_type": "code",
   "execution_count": null,
   "metadata": {
    "ExecuteTime": {
     "end_time": "2017-05-18T21:11:54.930569",
     "start_time": "2017-05-18T21:11:54.902552"
    },
    "collapsed": false
   },
   "outputs": [],
   "source": [
    "# Labeling\n",
    "def labeling(M, s, k=1):\n",
    "    \"\"\"\n",
    "    Label each value of `M`.\n",
    "    Labeling follows the below rule:\n",
    "        * Label 0 (higher):  $M(n+k) - M(n) > s$\n",
    "        * Label 1 (lose)  : $|M(n+k) - M(n)| < s$\n",
    "        * Label 2 (lower) :  $M(n+k) - M(n) < -s$\n",
    "    If a value cannot be labeled for some reasons (e.g. the earlier data are missing),\n",
    "    they should be set to 1 (lose).\n",
    "    \n",
    "    < Input >\n",
    "        M: value array to label\n",
    "        k: step\n",
    "        s: criterion\n",
    "    \"\"\"\n",
    "    diff = M[k:] - M[:-k]\n",
    "    label = np.ones_like(diff)\n",
    "    label[diff>s] = 0\n",
    "    label[diff<-s] = 2\n",
    "    \n",
    "    output = np.ones_like(M)\n",
    "    output[k:] = label[:]\n",
    "    return output.copy()"
   ]
  },
  {
   "cell_type": "markdown",
   "metadata": {},
   "source": [
    "### 使えそうなラベルの作成\n",
    "loseができるだけ少ないラベルは使えそうなラベル？"
   ]
  },
  {
   "cell_type": "code",
   "execution_count": null,
   "metadata": {
    "ExecuteTime": {
     "end_time": "2017-05-18T21:12:00.809822",
     "start_time": "2017-05-18T21:11:57.522067"
    },
    "collapsed": false
   },
   "outputs": [],
   "source": [
    "ks = np.arange(1, 100)\n",
    "labels = np.zeros((len(ks), 3))\n",
    "for ii in range(len(ks)):\n",
    "    labeled = labeling(dclose, s, ks[ii])\n",
    "    labels[ii] = np.array([sum(labeled==n) for n in range(3)])"
   ]
  },
  {
   "cell_type": "code",
   "execution_count": null,
   "metadata": {
    "ExecuteTime": {
     "end_time": "2017-05-18T21:12:00.840338",
     "start_time": "2017-05-18T21:12:00.813821"
    },
    "collapsed": false
   },
   "outputs": [],
   "source": [
    "print((labels[:,0]+labels[:,2])/np.sum(labels, axis=1))"
   ]
  },
  {
   "cell_type": "markdown",
   "metadata": {},
   "source": [
    "ラベリングで分かったのは、spread = 0.01ではloseする確率が高いということ。"
   ]
  },
  {
   "cell_type": "markdown",
   "metadata": {},
   "source": [
    "### スプレッドが0.003だと？\n",
    "だいたい70%で勝てそう？   \n",
    "もちろん、予測が当たる確率とは異なるが、知っておくとよいかもしれない。"
   ]
  },
  {
   "cell_type": "code",
   "execution_count": null,
   "metadata": {
    "ExecuteTime": {
     "end_time": "2017-05-18T12:42:20.969045",
     "start_time": "2017-05-18T12:42:17.778832"
    },
    "collapsed": false
   },
   "outputs": [],
   "source": [
    "ks = np.arange(1, 100)\n",
    "labels = np.zeros((len(ks), 3))\n",
    "for ii in range(len(ks)):\n",
    "    labeled = labeling(dclose, 0.003, ks[ii])\n",
    "    labels[ii] = np.array([sum(labeled==n) for n in range(3)])\n",
    "print((labels[:,0]+labels[:,2])/np.sum(labels, axis=1))"
   ]
  },
  {
   "cell_type": "markdown",
   "metadata": {},
   "source": [
    "## 学習\n",
    "とりあえず100でやってみる。"
   ]
  },
  {
   "cell_type": "code",
   "execution_count": null,
   "metadata": {
    "ExecuteTime": {
     "end_time": "2017-05-18T21:51:31.876302",
     "start_time": "2017-05-18T21:51:31.870297"
    },
    "collapsed": false
   },
   "outputs": [],
   "source": [
    "labeled = labeling(dclose, 0.01, 100)\n",
    "y = labeled"
   ]
  },
  {
   "cell_type": "markdown",
   "metadata": {},
   "source": [
    "### closeを入力とする"
   ]
  },
  {
   "cell_type": "code",
   "execution_count": null,
   "metadata": {
    "ExecuteTime": {
     "end_time": "2017-05-18T21:49:48.374528",
     "start_time": "2017-05-18T21:49:48.172894"
    },
    "collapsed": false
   },
   "outputs": [],
   "source": [
    "# 学習データは X=`close`, Y=`labeled` である\n",
    "X = close[:,None]\n",
    "\n",
    "X_train, X_test, y_train, y_test = train_test_split(X, y, test_size=0.3, random_state=5)\n",
    "clf = MLPClassifier(solver=\"sgd\", random_state=5, max_iter=10000, hidden_layer_sizes=(200,))\n",
    "_ = clf.fit(X_train, y_train)\n",
    "# print (clf.score(X_test, y_test))\n",
    "# print(clf.predict(X_test)==y_test)"
   ]
  },
  {
   "cell_type": "code",
   "execution_count": null,
   "metadata": {
    "ExecuteTime": {
     "end_time": "2017-05-18T21:49:48.780962",
     "start_time": "2017-05-18T21:49:48.768954"
    },
    "collapsed": false
   },
   "outputs": [],
   "source": [
    "print(clf.score(X_test, y_test))"
   ]
  },
  {
   "cell_type": "markdown",
   "metadata": {},
   "source": [
    "正解確率39%、、、予測には使えない。"
   ]
  },
  {
   "cell_type": "markdown",
   "metadata": {},
   "source": [
    "### 前のデータをふくめて100個を入力とする"
   ]
  },
  {
   "cell_type": "code",
   "execution_count": null,
   "metadata": {
    "ExecuteTime": {
     "end_time": "2017-05-18T21:49:49.980859",
     "start_time": "2017-05-18T21:49:49.961347"
    },
    "collapsed": true
   },
   "outputs": [],
   "source": [
    "def historical(M, k=1):\n",
    "    if k< 1:\n",
    "        raise ValueError(\"k must be >=1.\")\n",
    "    elif k == 1:\n",
    "        return M\n",
    "    elif (len(M)-k)*k > 1e7:\n",
    "        raise ValueError(\"(len(M)-k)*k > 1e7.\")\n",
    "    else:\n",
    "        output = np.zeros((len(M), k))\n",
    "        # First `k` rows\n",
    "        for ii in range(k-1):\n",
    "            _ = M[0] * np.ones(k)\n",
    "            if ii > 0:\n",
    "                _[-ii:] = M[1:ii+1]\n",
    "            output[ii] = _.copy()\n",
    "        # Other rows\n",
    "        for ii in range(k-1, len(M)):\n",
    "            output[ii] = M[ii-k+1:ii+1]\n",
    "    return output"
   ]
  },
  {
   "cell_type": "code",
   "execution_count": null,
   "metadata": {
    "ExecuteTime": {
     "end_time": "2017-05-18T21:49:50.919814",
     "start_time": "2017-05-18T21:49:50.428488"
    },
    "collapsed": false
   },
   "outputs": [],
   "source": [
    "X = historical(close, 100)\n",
    "X_train, X_test, y_train, y_test = train_test_split(X, y, test_size=0.3, random_state=5)\n",
    "clf = MLPClassifier(solver=\"sgd\", random_state=5, max_iter=10000, hidden_layer_sizes=(100,))\n",
    "_ = clf.fit(X_train, y_train)"
   ]
  },
  {
   "cell_type": "code",
   "execution_count": null,
   "metadata": {
    "ExecuteTime": {
     "end_time": "2017-05-18T21:49:51.372044",
     "start_time": "2017-05-18T21:49:51.360535"
    },
    "collapsed": false
   },
   "outputs": [],
   "source": [
    "print(clf.score(X_test, y_test))"
   ]
  },
  {
   "cell_type": "markdown",
   "metadata": {},
   "source": [
    "一緒の値になる。   \n",
    "履歴データとして扱わない場合は、closeの列として与えても特徴量としてはcloseそのものと同じ？   "
   ]
  },
  {
   "cell_type": "markdown",
   "metadata": {},
   "source": [
    "### dcloseを入力としてみる"
   ]
  },
  {
   "cell_type": "code",
   "execution_count": null,
   "metadata": {
    "ExecuteTime": {
     "end_time": "2017-05-18T21:52:45.418738",
     "start_time": "2017-05-18T21:52:44.825571"
    },
    "collapsed": false
   },
   "outputs": [],
   "source": [
    "# 学習データは X=`close`, Y=`labeled` である\n",
    "X = dclose[:,None]\n",
    "\n",
    "X_train, X_test, y_train, y_test = train_test_split(X, y, test_size=0.3, random_state=5)\n",
    "clf = MLPClassifier(solver=\"sgd\", random_state=5, max_iter=10000, hidden_layer_sizes=(200,))\n",
    "_ = clf.fit(X_train, y_train)\n",
    "print (clf.score(X_test, y_test))\n",
    "# print(clf.predict(X_test)==y_test)"
   ]
  },
  {
   "cell_type": "code",
   "execution_count": null,
   "metadata": {
    "ExecuteTime": {
     "end_time": "2017-05-18T21:59:35.478103",
     "start_time": "2017-05-18T21:59:34.854900"
    },
    "collapsed": false
   },
   "outputs": [],
   "source": [
    "# 学習データは X=`close`, Y=`labeled` である\n",
    "X = historical(close, 100)\n",
    "\n",
    "X_train, X_test, y_train, y_test = train_test_split(X, y, test_size=0.3, random_state=0)\n",
    "clf = MLPClassifier(solver=\"sgd\", random_state=5, max_iter=10000, hidden_layer_sizes=(200,))\n",
    "_ = clf.fit(X_train, y_train)\n",
    "print (clf.score(X_test, y_test))\n",
    "# print(clf.predict(X_test)==y_test)"
   ]
  },
  {
   "cell_type": "markdown",
   "metadata": {},
   "source": [
    "dcloseでも同じ結果。closeだけでは予測が変なところで収束するか、もしくは時系列データとして扱われていないことが原因か。"
   ]
  },
  {
   "cell_type": "markdown",
   "metadata": {},
   "source": [
    "### OHLCを入力してみる"
   ]
  },
  {
   "cell_type": "code",
   "execution_count": null,
   "metadata": {
    "ExecuteTime": {
     "end_time": "2017-05-18T21:55:37.387771",
     "start_time": "2017-05-18T21:55:37.251179"
    },
    "collapsed": true
   },
   "outputs": [],
   "source": [
    "opens = sql.toDataFrame(\"ask01min\", colselect=[\"open\"]).as_matrix()[:,0]\n",
    "high = sql.toDataFrame(\"ask01min\", colselect=[\"high\"]).as_matrix()[:,0]\n",
    "low = sql.toDataFrame(\"ask01min\", colselect=[\"low\"]).as_matrix()[:,0]"
   ]
  },
  {
   "cell_type": "code",
   "execution_count": null,
   "metadata": {
    "ExecuteTime": {
     "end_time": "2017-05-18T21:59:27.800202",
     "start_time": "2017-05-18T21:59:27.289141"
    },
    "collapsed": false
   },
   "outputs": [],
   "source": [
    "X = np.vstack((opens, high, low, close)).T\n",
    "\n",
    "X_train, X_test, y_train, y_test = train_test_split(X, y, test_size=0.3, random_state=0)\n",
    "clf = MLPClassifier(solver=\"sgd\", random_state=5, max_iter=10000, hidden_layer_sizes=(200,))\n",
    "_ = clf.fit(X_train, y_train)\n",
    "print (clf.score(X_test, y_test))"
   ]
  },
  {
   "cell_type": "markdown",
   "metadata": {},
   "source": [
    "さすがにOHLCでも同じ結果を得るのはおかしくないか？"
   ]
  },
  {
   "cell_type": "markdown",
   "metadata": {},
   "source": [
    "## スプレッドによる変化"
   ]
  },
  {
   "cell_type": "code",
   "execution_count": null,
   "metadata": {
    "ExecuteTime": {
     "end_time": "2017-05-19T00:43:13.147243",
     "start_time": "2017-05-19T00:43:13.134237"
    },
    "collapsed": false
   },
   "outputs": [],
   "source": [
    "def predict_score(X, y, random_state1=10, test_size=0.3):\n",
    "    X_train, X_test, y_train, y_test = train_test_split(X, y, test_size=test_size, random_state=random_state1)\n",
    "    clf = MLPClassifier(solver=\"sgd\", random_state=5, max_iter=10000, hidden_layer_sizes=(200,))\n",
    "    _ = clf.fit(X_train, y_train)\n",
    "    return clf.score(X_test, y_test)"
   ]
  },
  {
   "cell_type": "markdown",
   "metadata": {},
   "source": [
    "### s = 0.01"
   ]
  },
  {
   "cell_type": "code",
   "execution_count": null,
   "metadata": {
    "ExecuteTime": {
     "end_time": "2017-05-19T00:04:52.966735",
     "start_time": "2017-05-19T00:04:52.960728"
    },
    "collapsed": false
   },
   "outputs": [],
   "source": [
    "labeled = labeling(dclose, 0.01, 100)\n",
    "y = labeled"
   ]
  },
  {
   "cell_type": "code",
   "execution_count": null,
   "metadata": {
    "ExecuteTime": {
     "end_time": "2017-05-19T00:08:52.292664",
     "start_time": "2017-05-19T00:04:52.969737"
    },
    "collapsed": false,
    "scrolled": true
   },
   "outputs": [],
   "source": [
    "pred = np.zeros((100, 5))\n",
    "for ii in range(100):\n",
    "    a = []\n",
    "    X = close[:,None]\n",
    "    a.append(predict_score(X, y, ii))\n",
    "    X = historical(close, 100)\n",
    "    a.append(predict_score(X, y, ii))\n",
    "    X = dclose[:,None]\n",
    "    a.append(predict_score(X, y, ii))\n",
    "    X = historical(dclose, 100)\n",
    "    a.append(predict_score(X, y, ii))\n",
    "    X = np.vstack((opens, high, low, close)).T\n",
    "    a.append(predict_score(X, y, ii))\n",
    "    pred[ii] = np.array(a)"
   ]
  },
  {
   "cell_type": "code",
   "execution_count": null,
   "metadata": {
    "ExecuteTime": {
     "end_time": "2017-05-19T00:08:53.972212",
     "start_time": "2017-05-19T00:08:52.292664"
    },
    "collapsed": false
   },
   "outputs": [],
   "source": [
    "dff.makefig(18, 12)\n",
    "plt.subplot(231)\n",
    "plt.hist(pred[:,0])\n",
    "dff.arrangefig(xlabel=\"Score\", ylabel=\"Frequency\", title=\"close\")\n",
    "plt.xlim(0, 0.60)\n",
    "plt.subplot(232)\n",
    "plt.hist(pred[:,1])\n",
    "dff.arrangefig(xlabel=\"Score\", ylabel=\"Frequency\", title=\"close_historical\")\n",
    "plt.xlim(0, 0.60)\n",
    "plt.subplot(233)\n",
    "plt.hist(pred[:,2])\n",
    "dff.arrangefig(xlabel=\"Score\", ylabel=\"Frequency\", title=\"dclose\")\n",
    "plt.xlim(0, 0.60)\n",
    "plt.subplot(234)\n",
    "plt.hist(pred[:,3])\n",
    "dff.arrangefig(xlabel=\"Score\", ylabel=\"Frequency\", title=\"dclose_historical\")\n",
    "plt.xlim(0, 0.60)\n",
    "plt.subplot(235)\n",
    "plt.hist(pred[:,4])\n",
    "dff.arrangefig(xlabel=\"Score\", ylabel=\"Frequency\", title=\"ohlc\")\n",
    "plt.xlim(0, 0.60)"
   ]
  },
  {
   "cell_type": "markdown",
   "metadata": {},
   "source": [
    "### s = 0.003"
   ]
  },
  {
   "cell_type": "code",
   "execution_count": null,
   "metadata": {
    "ExecuteTime": {
     "end_time": "2017-05-18T22:09:40.162345",
     "start_time": "2017-05-18T22:09:40.136327"
    },
    "collapsed": true
   },
   "outputs": [],
   "source": [
    "labeled = labeling(dclose, 0.003, 100)\n",
    "y = labeled"
   ]
  },
  {
   "cell_type": "code",
   "execution_count": null,
   "metadata": {
    "ExecuteTime": {
     "end_time": "2017-05-19T00:04:51.523533",
     "start_time": "2017-05-18T23:57:06.722590"
    },
    "collapsed": false,
    "scrolled": true
   },
   "outputs": [],
   "source": [
    "pred = np.zeros((100, 5))\n",
    "for ii in range(100):\n",
    "    a = []\n",
    "    X = close[:,None]\n",
    "    a.append(predict_score(X, y, ii))\n",
    "    X = historical(close, 100)\n",
    "    a.append(predict_score(X, y, ii))\n",
    "    X = dclose[:,None]\n",
    "    a.append(predict_score(X, y, ii))\n",
    "    X = historical(dclose, 100)\n",
    "    a.append(predict_score(X, y, ii))\n",
    "    X = np.vstack((opens, high, low, close)).T\n",
    "    a.append(predict_score(X, y, ii))\n",
    "    pred[ii] = np.array(a)"
   ]
  },
  {
   "cell_type": "code",
   "execution_count": null,
   "metadata": {
    "ExecuteTime": {
     "end_time": "2017-05-19T00:04:52.956727",
     "start_time": "2017-05-19T00:04:51.523533"
    },
    "collapsed": false
   },
   "outputs": [],
   "source": [
    "dff.makefig(18, 12)\n",
    "plt.subplot(231)\n",
    "plt.hist(pred[:,0])\n",
    "dff.arrangefig(xlabel=\"Score\", ylabel=\"Frequency\", title=\"close\")\n",
    "plt.xlim(0, 0.60)\n",
    "plt.subplot(232)\n",
    "plt.hist(pred[:,1])\n",
    "dff.arrangefig(xlabel=\"Score\", ylabel=\"Frequency\", title=\"close_historical\")\n",
    "plt.xlim(0, 0.60)\n",
    "plt.subplot(233)\n",
    "plt.hist(pred[:,2])\n",
    "dff.arrangefig(xlabel=\"Score\", ylabel=\"Frequency\", title=\"dclose\")\n",
    "plt.xlim(0, 0.60)\n",
    "plt.subplot(234)\n",
    "plt.hist(pred[:,3])\n",
    "dff.arrangefig(xlabel=\"Score\", ylabel=\"Frequency\", title=\"dclose_historical\")\n",
    "plt.xlim(0, 0.60)\n",
    "plt.subplot(235)\n",
    "plt.hist(pred[:,4])\n",
    "dff.arrangefig(xlabel=\"Score\", ylabel=\"Frequency\", title=\"ohlc\")\n",
    "plt.xlim(0, 0.60)"
   ]
  },
  {
   "cell_type": "markdown",
   "metadata": {},
   "source": [
    "乱数の種を変えて複数の訓練用データで試したところ、スプレッドが大きくても予測が当たる確率が入力（X）によって変わることを確認できた。   \n",
    "そして今の入力では、予想が当たる確率は40%以下が大多数を占めるという結果を得た。"
   ]
  },
  {
   "cell_type": "markdown",
   "metadata": {
    "ExecuteTime": {
     "end_time": "2017-05-18T23:34:06.489775",
     "start_time": "2017-05-18T23:34:06.446205"
    }
   },
   "source": [
    "## 訓練用データ数を変えてみる"
   ]
  },
  {
   "cell_type": "code",
   "execution_count": null,
   "metadata": {
    "ExecuteTime": {
     "end_time": "2017-05-19T00:23:44.009390",
     "start_time": "2017-05-19T00:23:42.787197"
    },
    "collapsed": false
   },
   "outputs": [],
   "source": [
    "pred_size = []\n",
    "X = historical(dclose, 100)\n",
    "for size in np.array([0.3, 0.4, 0.5]):\n",
    "    pred_size.append(predict_score(X, y, test_size=size))\n",
    "print(pred_size)"
   ]
  },
  {
   "cell_type": "markdown",
   "metadata": {},
   "source": [
    "訓練用データサイズを変えてもテスト結果は変わる"
   ]
  },
  {
   "cell_type": "markdown",
   "metadata": {},
   "source": [
    "## 10ステップ先を予想する"
   ]
  },
  {
   "cell_type": "markdown",
   "metadata": {},
   "source": [
    "### s = 0.01"
   ]
  },
  {
   "cell_type": "code",
   "execution_count": null,
   "metadata": {
    "ExecuteTime": {
     "end_time": "2017-05-19T00:35:32.210534",
     "start_time": "2017-05-19T00:35:32.181516"
    },
    "collapsed": false
   },
   "outputs": [],
   "source": [
    "labeled = labeling(dclose, 0.01, 10)\n",
    "y = labeled"
   ]
  },
  {
   "cell_type": "code",
   "execution_count": null,
   "metadata": {
    "ExecuteTime": {
     "end_time": "2017-05-19T00:39:32.313462",
     "start_time": "2017-05-19T00:35:56.953945"
    },
    "collapsed": false,
    "scrolled": true
   },
   "outputs": [],
   "source": [
    "pred = np.zeros((100, 5))\n",
    "for ii in range(100):\n",
    "    a = []\n",
    "    X = close[:,None]\n",
    "    a.append(predict_score(X, y, ii))\n",
    "    X = historical(close, 100)\n",
    "    a.append(predict_score(X, y, ii))\n",
    "    X = dclose[:,None]\n",
    "    a.append(predict_score(X, y, ii))\n",
    "    X = historical(dclose, 100)\n",
    "    a.append(predict_score(X, y, ii))\n",
    "    X = np.vstack((opens, high, low, close)).T\n",
    "    a.append(predict_score(X, y, ii))\n",
    "    pred[ii] = np.array(a)"
   ]
  },
  {
   "cell_type": "code",
   "execution_count": null,
   "metadata": {
    "ExecuteTime": {
     "end_time": "2017-05-19T00:39:33.660721",
     "start_time": "2017-05-19T00:39:32.316966"
    },
    "collapsed": false
   },
   "outputs": [],
   "source": [
    "dff.makefig(18, 12)\n",
    "plt.subplot(231)\n",
    "plt.hist(pred[:,0])\n",
    "dff.arrangefig(xlabel=\"Score\", ylabel=\"Frequency\", title=\"close\")\n",
    "plt.xlim(0, 0.60)\n",
    "plt.subplot(232)\n",
    "plt.hist(pred[:,1])\n",
    "dff.arrangefig(xlabel=\"Score\", ylabel=\"Frequency\", title=\"close_historical\")\n",
    "plt.xlim(0, 0.60)\n",
    "plt.subplot(233)\n",
    "plt.hist(pred[:,2])\n",
    "dff.arrangefig(xlabel=\"Score\", ylabel=\"Frequency\", title=\"dclose\")\n",
    "plt.xlim(0, 0.60)\n",
    "plt.subplot(234)\n",
    "plt.hist(pred[:,3])\n",
    "dff.arrangefig(xlabel=\"Score\", ylabel=\"Frequency\", title=\"dclose_historical\")\n",
    "plt.xlim(0, 0.60)\n",
    "plt.subplot(235)\n",
    "plt.hist(pred[:,4])\n",
    "dff.arrangefig(xlabel=\"Score\", ylabel=\"Frequency\", title=\"ohlc\")\n",
    "plt.xlim(0, 0.60)"
   ]
  },
  {
   "cell_type": "markdown",
   "metadata": {},
   "source": [
    "### s = 0.003"
   ]
  },
  {
   "cell_type": "code",
   "execution_count": null,
   "metadata": {
    "ExecuteTime": {
     "end_time": "2017-05-19T00:44:58.043778",
     "start_time": "2017-05-19T00:44:58.033772"
    },
    "collapsed": false
   },
   "outputs": [],
   "source": [
    "labeled = labeling(dclose, 0.003, 10)\n",
    "y = labeled"
   ]
  },
  {
   "cell_type": "code",
   "execution_count": null,
   "metadata": {
    "ExecuteTime": {
     "end_time": "2017-05-19T00:50:54.579725",
     "start_time": "2017-05-19T00:45:05.520423"
    },
    "collapsed": false,
    "scrolled": true
   },
   "outputs": [],
   "source": [
    "pred = np.zeros((100, 5))\n",
    "for ii in range(100):\n",
    "    a = []\n",
    "    X = close[:,None]\n",
    "    a.append(predict_score(X, y, ii))\n",
    "    X = historical(close, 100)\n",
    "    a.append(predict_score(X, y, ii))\n",
    "    X = dclose[:,None]\n",
    "    a.append(predict_score(X, y, ii))\n",
    "    X = historical(dclose, 100)\n",
    "    a.append(predict_score(X, y, ii))\n",
    "    X = np.vstack((opens, high, low, close)).T\n",
    "    a.append(predict_score(X, y, ii))\n",
    "    pred[ii] = np.array(a)"
   ]
  },
  {
   "cell_type": "code",
   "execution_count": null,
   "metadata": {
    "ExecuteTime": {
     "end_time": "2017-05-19T00:50:56.660728",
     "start_time": "2017-05-19T00:50:54.583727"
    },
    "collapsed": false
   },
   "outputs": [],
   "source": [
    "dff.makefig(18, 12)\n",
    "plt.subplot(231)\n",
    "plt.hist(pred[:,0])\n",
    "dff.arrangefig(xlabel=\"Score\", ylabel=\"Frequency\", title=\"close\")\n",
    "plt.xlim(0, 0.60)\n",
    "plt.subplot(232)\n",
    "plt.hist(pred[:,1])\n",
    "dff.arrangefig(xlabel=\"Score\", ylabel=\"Frequency\", title=\"close_historical\")\n",
    "plt.xlim(0, 0.60)\n",
    "plt.subplot(233)\n",
    "plt.hist(pred[:,2])\n",
    "dff.arrangefig(xlabel=\"Score\", ylabel=\"Frequency\", title=\"dclose\")\n",
    "plt.xlim(0, 0.60)\n",
    "plt.subplot(234)\n",
    "plt.hist(pred[:,3])\n",
    "dff.arrangefig(xlabel=\"Score\", ylabel=\"Frequency\", title=\"dclose_historical\")\n",
    "plt.xlim(0, 0.60)\n",
    "plt.subplot(235)\n",
    "plt.hist(pred[:,4])\n",
    "dff.arrangefig(xlabel=\"Score\", ylabel=\"Frequency\", title=\"ohlc\")\n",
    "plt.xlim(0, 0.60)"
   ]
  },
  {
   "cell_type": "markdown",
   "metadata": {},
   "source": [
    "## まとめ\n",
    "sklearnのMLPClassifierを用いて、単純にclose, dclose, ohlcやそれらのtime seriesを用いて予測を試みた。   \n",
    "結果としてつぎのことが分かった。   \n",
    "\n",
    "* 100ステップ先を予想する場合、\n",
    "    + high or lowになる確率は、スプレッドが0.01だと60％、0.003だと70％である。\n",
    "    + 予測が当たる確率はおおむね40％以下である。\n",
    "* 10ステップ先を予想する場合、予想が当たる確率100ステップの場合と大きく変わらない。\n",
    "* 訓練用データサイズで予測が当たる確率が変わる。\n",
    "* 訓練用データの組み合わせによって予測が当たる確率が変わる。\n",
    "\n",
    "以上から、単純にOHLCをそのまま特徴量として、ただのMLPCを利用するだけでは、目標は程遠いということが分かった。   \n",
    "次のアプローチとして、SMAの結果を用いる、RNNを導入する、パラメータを最適化する、などが考えられる。"
   ]
  },
  {
   "cell_type": "markdown",
   "metadata": {},
   "source": [
    "# 正解ラベルの多次元化\n",
    "Tensorflowの使い方を学習しているときに、正解ラベルが多次元配列で与えられている点に気が付いた。   \n",
    "過去に機械学習について勉強したときに、多クラス分類の時には多次元化するという方法を見た記憶がある。   \n",
    "ここでは多次元化してみて、当たる確率が上がるかどうか検討する。"
   ]
  },
  {
   "cell_type": "markdown",
   "metadata": {},
   "source": [
    "## データの用意"
   ]
  },
  {
   "cell_type": "code",
   "execution_count": 2,
   "metadata": {
    "ExecuteTime": {
     "end_time": "2017-05-24T23:39:52.649056",
     "start_time": "2017-05-24T23:39:52.273642"
    },
    "collapsed": true
   },
   "outputs": [],
   "source": [
    "\"\"\"DBの読み込み\"\"\"\n",
    "dbpath = \"201704\"\n",
    "sql = SQLAnaforFX(dbpath)\n",
    "sql.showtablenames()\n",
    "\n",
    "\"\"\"OHLC\"\"\"\n",
    "close = sql.toDataFrame(\"ask01min\", colselect=[\"close\"]).as_matrix()[:,0]\n",
    "opens = sql.toDataFrame(\"ask01min\", colselect=[\"open\"]).as_matrix()[:,0]\n",
    "high = sql.toDataFrame(\"ask01min\", colselect=[\"high\"]).as_matrix()[:,0]\n",
    "low = sql.toDataFrame(\"ask01min\", colselect=[\"low\"]).as_matrix()[:,0]\n",
    "\n",
    "dclose = np.zeros_like(close)\n",
    "dclose[1:] = np.diff(close)\n",
    "\n",
    "# Calculate mean spread\n",
    "close_bid = sql.toDataFrame(\"bid01min\", colselect=[\"close\"]).as_matrix()\n",
    "s = np.mean((close - close_bid)[close != 0])"
   ]
  },
  {
   "cell_type": "markdown",
   "metadata": {},
   "source": [
    "## 正解ラベルの作成"
   ]
  },
  {
   "cell_type": "code",
   "execution_count": 3,
   "metadata": {
    "ExecuteTime": {
     "end_time": "2017-05-24T23:39:53.170722",
     "start_time": "2017-05-24T23:39:53.157713"
    },
    "collapsed": true
   },
   "outputs": [],
   "source": [
    "# Labeling\n",
    "def labeling(M, s, k=1):\n",
    "    \"\"\"\n",
    "    Label each value of `M`.\n",
    "    Labeling follows the below rule:\n",
    "        * Label 0 (higher):  $M(n+k) - M(n) > s$\n",
    "        * Label 1 (lose)  : $|M(n+k) - M(n)| < s$\n",
    "        * Label 2 (lower) :  $M(n+k) - M(n) < -s$\n",
    "    If a value cannot be labeled for some reasons (e.g. the earlier data are missing),\n",
    "    they should be set to 1 (lose).\n",
    "    \n",
    "    < Input >\n",
    "        M: value array to label\n",
    "        k: step\n",
    "        s: criterion\n",
    "    \"\"\"\n",
    "    diff = M[k:] - M[:-k]\n",
    "    \n",
    "    label1 = np.zeros((k, 3))\n",
    "    label1[:, 1] = 1\n",
    "    label2 = np.zeros((len(diff), 3))\n",
    "    label2[diff>s, 0] = 1\n",
    "    label2[np.abs(diff)<=s, 1] = 1\n",
    "    label2[diff<-s, 2] = 1\n",
    "    return np.vstack((label1, label2))"
   ]
  },
  {
   "cell_type": "code",
   "execution_count": 4,
   "metadata": {
    "ExecuteTime": {
     "end_time": "2017-05-24T23:39:53.965572",
     "start_time": "2017-05-24T23:39:53.579012"
    },
    "collapsed": false
   },
   "outputs": [],
   "source": [
    "labeled = labeling(dclose, 0.01, 100)\n",
    "y = labeled"
   ]
  },
  {
   "cell_type": "markdown",
   "metadata": {},
   "source": [
    "## 予測"
   ]
  },
  {
   "cell_type": "code",
   "execution_count": 5,
   "metadata": {
    "ExecuteTime": {
     "end_time": "2017-05-24T23:39:55.054308",
     "start_time": "2017-05-24T23:39:55.037300"
    },
    "collapsed": true
   },
   "outputs": [],
   "source": [
    "def historical(M, k=1):\n",
    "    if k< 1:\n",
    "        raise ValueError(\"k must be >=1.\")\n",
    "    elif k == 1:\n",
    "        return M\n",
    "    elif (len(M)-k)*k > 1e7:\n",
    "        raise ValueError(\"(len(M)-k)*k > 1e7.\")\n",
    "    else:\n",
    "        output = np.zeros((len(M), k))\n",
    "        # First `k` rows\n",
    "        for ii in range(k-1):\n",
    "            _ = M[0] * np.ones(k)\n",
    "            if ii > 0:\n",
    "                _[-ii:] = M[1:ii+1]\n",
    "            output[ii] = _.copy()\n",
    "        # Other rows\n",
    "        for ii in range(k-1, len(M)):\n",
    "            output[ii] = M[ii-k+1:ii+1]\n",
    "    return output"
   ]
  },
  {
   "cell_type": "code",
   "execution_count": 6,
   "metadata": {
    "ExecuteTime": {
     "end_time": "2017-05-24T23:39:55.841294",
     "start_time": "2017-05-24T23:39:55.831285"
    },
    "collapsed": true
   },
   "outputs": [],
   "source": [
    "def predict_score(X, y, random_state1=10, test_size=0.3):\n",
    "    X_train, X_test, y_train, y_test = train_test_split(X, y, test_size=test_size, random_state=random_state1)\n",
    "    clf = MLPClassifier(solver=\"sgd\", random_state=5, max_iter=10000, hidden_layer_sizes=(200,))\n",
    "    _ = clf.fit(X_train, y_train)\n",
    "    return clf.score(X_test, y_test)"
   ]
  },
  {
   "cell_type": "code",
   "execution_count": 7,
   "metadata": {
    "ExecuteTime": {
     "end_time": "2017-05-24T23:40:14.728553",
     "start_time": "2017-05-24T23:40:09.839736"
    },
    "collapsed": false
   },
   "outputs": [],
   "source": [
    "pred = np.zeros((100, 5))\n",
    "for ii in range(30, 100):\n",
    "    a = []\n",
    "    X = close[:,None]\n",
    "    a.append(predict_score(X, y, ii))\n",
    "    X = historical(close, 100)\n",
    "    a.append(predict_score(X, y, ii))\n",
    "    X = dclose[:,None]\n",
    "    a.append(predict_score(X, y, ii))\n",
    "    X = historical(dclose, 100)\n",
    "    a.append(predict_score(X, y, ii))\n",
    "    X = np.vstack((opens, high, low, close)).T\n",
    "    a.append(predict_score(X, y, ii))\n",
    "    pred[ii] = np.array(a)\n",
    "    break"
   ]
  },
  {
   "cell_type": "code",
   "execution_count": 8,
   "metadata": {
    "ExecuteTime": {
     "end_time": "2017-05-24T23:40:20.956440",
     "start_time": "2017-05-24T23:40:20.925908"
    },
    "collapsed": false
   },
   "outputs": [
    {
     "data": {
      "text/plain": [
       "array([ 0.,  0.,  0.,  0.,  0.])"
      ]
     },
     "execution_count": 8,
     "metadata": {},
     "output_type": "execute_result"
    }
   ],
   "source": [
    "pred[0]"
   ]
  },
  {
   "cell_type": "code",
   "execution_count": 10,
   "metadata": {
    "ExecuteTime": {
     "end_time": "2017-05-24T23:41:31.118833",
     "start_time": "2017-05-24T23:41:31.111829"
    },
    "collapsed": false
   },
   "outputs": [
    {
     "name": "stdout",
     "output_type": "stream",
     "text": [
      "Fit the model to data matrix X and target y.\n",
      "\n",
      "        Parameters\n",
      "        ----------\n",
      "        X : {array-like, sparse matrix}, shape (n_samples, n_features)\n",
      "            The input data.\n",
      "\n",
      "        y : array-like, shape (n_samples,)\n",
      "            The target values.\n",
      "\n",
      "        Returns\n",
      "        -------\n",
      "        self : returns a trained MLP model.\n",
      "        \n"
     ]
    }
   ],
   "source": [
    "for line in MLPClassifier.fit.__doc__.split(\"_n\"):\n",
    "    print(line)"
   ]
  },
  {
   "cell_type": "markdown",
   "metadata": {},
   "source": [
    "確率がゼロになってしまい、おかしいと思ったら`y`は一次元ラベルでないとだめなようである。"
   ]
  },
  {
   "cell_type": "code",
   "execution_count": null,
   "metadata": {
    "collapsed": true
   },
   "outputs": [],
   "source": []
  }
 ],
 "metadata": {
  "anaconda-cloud": {},
  "kernelspec": {
   "display_name": "Python [default]",
   "language": "python",
   "name": "python3"
  },
  "language_info": {
   "codemirror_mode": {
    "name": "ipython",
    "version": 3
   },
   "file_extension": ".py",
   "mimetype": "text/x-python",
   "name": "python",
   "nbconvert_exporter": "python",
   "pygments_lexer": "ipython3",
   "version": "3.5.2"
  },
  "toc": {
   "nav_menu": {
    "height": "102px",
    "width": "252px"
   },
   "navigate_menu": true,
   "number_sections": true,
   "sideBar": true,
   "threshold": 4,
   "toc_cell": false,
   "toc_position": {
    "height": "534px",
    "left": "0px",
    "right": "1150px",
    "top": "106px",
    "width": "212px"
   },
   "toc_section_display": "block",
   "toc_window_display": true
  }
 },
 "nbformat": 4,
 "nbformat_minor": 2
}
