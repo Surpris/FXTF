{
 "cells": [
  {
   "cell_type": "markdown",
   "metadata": {},
   "source": [
    "# 目的\n",
    "PILモジュールを利用したドット絵の作成テストを行う。   "
   ]
  },
  {
   "cell_type": "code",
   "execution_count": null,
   "metadata": {
    "ExecuteTime": {
     "end_time": "2017-09-17T13:19:52.817304Z",
     "start_time": "2017-09-17T13:19:52.800281Z"
    },
    "collapsed": true
   },
   "outputs": [],
   "source": [
    "from PIL import Image\n",
    "from PIL import ImageDraw\n",
    "import numpy as np\n",
    "import copy\n",
    "import pandas as pd"
   ]
  },
  {
   "cell_type": "code",
   "execution_count": null,
   "metadata": {
    "ExecuteTime": {
     "end_time": "2017-09-17T12:33:59.289431Z",
     "start_time": "2017-09-17T12:33:59.260888Z"
    },
    "collapsed": true
   },
   "outputs": [],
   "source": [
    "for line in Image.new.__doc__.split(\"\\n\"):\n",
    "    print(line)"
   ]
  },
  {
   "cell_type": "code",
   "execution_count": null,
   "metadata": {
    "ExecuteTime": {
     "end_time": "2017-09-17T14:16:46.799765Z",
     "start_time": "2017-09-17T14:16:46.746683Z"
    },
    "collapsed": true
   },
   "outputs": [],
   "source": [
    "def make_image(screen, bgcolor, filename, drawfunc, issave=False, **kwargs):\n",
    "    \"\"\"\n",
    "    画像ファイルを作成\n",
    "    \"\"\"\n",
    "    img = Image.new('RGB', screen, bgcolor)\n",
    "\n",
    "    # 間隔（5～32くらい）\n",
    "#     gap = 8\n",
    "\n",
    "    img = drawfunc(img, **kwargs)\n",
    "    plt.imshow(img, origin=\"normal\")\n",
    "    is_axis = kwargs.get(\"axis\", True)\n",
    "    if not is_axis:\n",
    "        plt.axis(\"off\")\n",
    "    if issave:\n",
    "        img.save(filename)\n",
    "    return img"
   ]
  },
  {
   "cell_type": "markdown",
   "metadata": {},
   "source": [
    "## 参考：<http://qiita.com/suto3/items/87af35517f2a8c3bc22e>"
   ]
  },
  {
   "cell_type": "code",
   "execution_count": null,
   "metadata": {
    "ExecuteTime": {
     "end_time": "2017-09-11T22:46:13.546556Z",
     "start_time": "2017-09-11T22:46:13.075869Z"
    },
    "collapsed": true
   },
   "outputs": [],
   "source": [
    "def drawing(img, gap):\n",
    "    \"\"\"\n",
    "    描画（ファイルに書く画像データを編集する）\n",
    "    点を打つ\n",
    "    \"\"\"\n",
    "    x,y = img.size\n",
    "    draw = ImageDraw.Draw(img)\n",
    "    for i in range(0,x,gap):\n",
    "        for j in range(0,y,gap):\n",
    "            # ↓こんなパターンを描く\n",
    "            #■■■□\n",
    "            #■□■□\n",
    "            #■■■□\n",
    "            #□□□□\n",
    "            draw.point((i  , j  ),(0xff,0x00,0x00)) #red\n",
    "            draw.point((i+1, j  ),(0xff,0x00,0x00)) #red\n",
    "            draw.point((i+2, j  ),(0xff,0x00,0x00)) #red\n",
    "            draw.point((i+3, j  ),(0x00,0xff,0x00)) #green\n",
    "\n",
    "            draw.point((i  , j+1),(0xff,0x00,0x00)) #red\n",
    "            draw.point((i+1, j+1),(0xff,0xff,0x00)) #yellow\n",
    "            draw.point((i+2, j+1),(0xff,0x00,0x00)) #red\n",
    "            draw.point((i+3, j+1),(0x00,0xff,0x00)) #green\n",
    "\n",
    "            draw.point((i  , j+2),(0xff,0x00,0x00)) #red\n",
    "            draw.point((i+1, j+2),(0xff,0x00,0x00)) #red\n",
    "            draw.point((i+2, j+2),(0xff,0x00,0x00)) #red\n",
    "            draw.point((i+3, j+2),(0x00,0xff,0x00)) #green\n",
    "\n",
    "            draw.point((i  , j+3),(0x00,0xff,0x00)) #green\n",
    "            draw.point((i+1, j+3),(0x00,0xff,0x00)) #green\n",
    "            draw.point((i+2, j+3),(0x00,0xff,0x00)) #green\n",
    "            draw.point((i+3, j+3),(0x00,0xff,0x00)) #green\n",
    "\n",
    "    return img"
   ]
  },
  {
   "cell_type": "code",
   "execution_count": null,
   "metadata": {
    "ExecuteTime": {
     "end_time": "2017-08-27T11:36:54.254869Z",
     "start_time": "2017-08-27T11:36:53.542186Z"
    },
    "collapsed": true
   },
   "outputs": [],
   "source": [
    "if __name__ == '__main__':\n",
    "    # 画像のサイズ\n",
    "    screen = (800,600)\n",
    "\n",
    "    # 画像の背景色（RGB）\n",
    "    bgcolor=(0xdd,0xdd,0xdd)\n",
    "\n",
    "    # 保存するファイル名（ファイル形式は、拡張子から自動的に判別する）\n",
    "    filename = \"../images/image-set-flower.png\"\n",
    "\n",
    "    make_image(screen, bgcolor, drawing, filename, gap=8)"
   ]
  },
  {
   "cell_type": "markdown",
   "metadata": {},
   "source": [
    "## 棒を描画してみる"
   ]
  },
  {
   "cell_type": "code",
   "execution_count": null,
   "metadata": {
    "ExecuteTime": {
     "end_time": "2017-08-27T11:40:58.833270Z",
     "start_time": "2017-08-27T11:40:58.814257Z"
    },
    "collapsed": true
   },
   "outputs": [],
   "source": [
    "def drawBar(img, topleft=[1,1], width=10, height=20, **kwargs):\n",
    "    y, x = img.size\n",
    "    if x < width or y < height:\n",
    "        raise ValueError\n",
    "    draw = ImageDraw.Draw(img)\n",
    "    start = tuple(topleft)\n",
    "    end = tuple([topleft[0], topleft[1]+height])\n",
    "    draw.line((start, end),(0x00,0x00,0x00),  width)\n",
    "    return img"
   ]
  },
  {
   "cell_type": "code",
   "execution_count": null,
   "metadata": {
    "ExecuteTime": {
     "end_time": "2017-08-27T11:40:59.508299Z",
     "start_time": "2017-08-27T11:40:59.306536Z"
    },
    "collapsed": true
   },
   "outputs": [],
   "source": [
    "if __name__ == '__main__':\n",
    "    # 画像のサイズ\n",
    "    screen = (50,50)\n",
    "\n",
    "    # 画像の背景色（RGB）\n",
    "    bgcolor=(0xff,0xff,0xFf)\n",
    "\n",
    "    # 保存するファイル名（ファイル形式は、拡張子から自動的に判別する）\n",
    "    filename = \"../images/image-bar.png\"\n",
    "\n",
    "    make_image(screen, bgcolor, drawBar, filename, topleft=[20, 10])"
   ]
  },
  {
   "cell_type": "markdown",
   "metadata": {},
   "source": [
    "## ひげをつけてみる\n",
    "箱ひげ図を描画する"
   ]
  },
  {
   "cell_type": "code",
   "execution_count": null,
   "metadata": {
    "ExecuteTime": {
     "end_time": "2017-09-16T15:45:20.356318Z",
     "start_time": "2017-09-16T15:45:19.999289Z"
    },
    "collapsed": true
   },
   "outputs": [],
   "source": [
    "def drawBarWithJoes(img, topleft=[0,0], width=10, height=20, barcolor=(0x00,0x00,0x00), **kwargs):\n",
    "    y, x = img.size\n",
    "    if x < width or y < height:\n",
    "        raise ValueError\n",
    "    draw = ImageDraw.Draw(img)\n",
    "    \n",
    "    ### Bar\n",
    "    start_bar = tuple([topleft[0]+width//2, topleft[1]])\n",
    "    end_bar = tuple([start_bar[0], topleft[1]+height])\n",
    "    draw.line((start_bar, end_bar), barcolor, width)\n",
    "    \n",
    "    ### Joes\n",
    "    joeDistanceTop = kwargs.get(\"joe_distance_top\", 10)\n",
    "    joeDistanceBottom = kwargs.get(\"joe_distance_bottom\", joeDistanceTop)\n",
    "    joeLength = kwargs.get(\"joe_length\", width)\n",
    "    joeWidth = kwargs.get(\"joe_width\", 1)\n",
    "    joeColor = kwargs.get(\"joe_color\", barcolor)\n",
    "    \n",
    "    # Top joe\n",
    "    start = tuple([topleft[0]+(width-joeLength+1)//2, topleft[1]-joeDistanceTop])\n",
    "    end = tuple([start[0]+joeLength-1, start[1]])\n",
    "    draw.line((start, end), joeColor, joeWidth)\n",
    "    \n",
    "    # Connection to bar\n",
    "    start = tuple([start_bar[0], start_bar[1]-joeDistanceTop])\n",
    "    draw.line((start, start_bar), joeColor, joeWidth)\n",
    "    \n",
    "    # Bottom joe\n",
    "    start = tuple([topleft[0]+(width-joeLength+1)//2, end_bar[1]+joeDistanceBottom])\n",
    "    end = tuple([start[0]+joeLength-1, start[1]])\n",
    "    draw.line((start, end), joeColor, joeWidth)\n",
    "    \n",
    "    # Connection to bar\n",
    "    end = tuple([end_bar[0], end_bar[1]+joeDistanceBottom])\n",
    "    draw.line((end, end_bar), joeColor, joeWidth)\n",
    "    \n",
    "    return img"
   ]
  },
  {
   "cell_type": "code",
   "execution_count": null,
   "metadata": {
    "ExecuteTime": {
     "end_time": "2017-09-16T15:45:22.966656Z",
     "start_time": "2017-09-16T15:45:21.380822Z"
    },
    "collapsed": true
   },
   "outputs": [],
   "source": [
    "if __name__ == '__main__':\n",
    "    # 画像のサイズ\n",
    "    screen = (60,60)\n",
    "\n",
    "    # 画像の背景色（RGB）\n",
    "    bgcolor=(0xff,0xff,0xFf)\n",
    "\n",
    "    # 保存するファイル名（ファイル形式は、拡張子から自動的に判別する）\n",
    "    filename = \"../images/image-bar.png\"\n",
    "\n",
    "    make_image(screen, bgcolor, filename, drawBarWithJoes, topleft=[20, 20], width=11)"
   ]
  },
  {
   "cell_type": "markdown",
   "metadata": {},
   "source": [
    "## OHLC図"
   ]
  },
  {
   "cell_type": "code",
   "execution_count": null,
   "metadata": {
    "ExecuteTime": {
     "end_time": "2017-09-17T13:52:56.939125Z",
     "start_time": "2017-09-17T13:52:56.007759Z"
    },
    "collapsed": true
   },
   "outputs": [],
   "source": [
    "def drawOhlcBox(img, ohlc, start=[0,0], width=10, barcolor=(0x00,0x00,0x00), return_next=False, **kwargs):\n",
    "    \"\"\"\n",
    "    ohlc: (1,4) array\n",
    "    start: start point (open)\n",
    "    width\n",
    "    barcolor\n",
    "    kwargs\n",
    "    \"\"\"\n",
    "    draw = ImageDraw.Draw(img)\n",
    "    \n",
    "    ### Define each start point\n",
    "    ## Bar\n",
    "    # start_bar[1] = start[1] + (open - open), end_bar[1] = start[1] + (close - open)\n",
    "    start_bar = tuple([start[0]+width//2, start[1]])\n",
    "    \n",
    "    end_bar   = tuple([start_bar[0], start[1] + ohlc[3] - ohlc[0]])\n",
    "    \n",
    "    ## Line between high and low\n",
    "    # if open > close then start_hl[1] = start_bar[1] + (high - open), end_hl[1] = end_bar[1] + (low - close)\n",
    "    # if open < close then start_hl[1] = start_bar[1] + (low - open), end_hl[1] = end_bar[1] + (high - close)\n",
    "    if ohlc[0] >= ohlc[3]:\n",
    "        start_hl = tuple([start_bar[0], start_bar[1] + (ohlc[1] - ohlc[0])])\n",
    "        end_hl   = tuple([start_bar[0], end_bar[1] + (ohlc[2] - ohlc[3])])\n",
    "    else:\n",
    "        start_hl = tuple([start_bar[0], start_bar[1] + (ohlc[2] - ohlc[0])])\n",
    "        end_hl   = tuple([start_bar[0], end_bar[1] + (ohlc[1] - ohlc[3])])\n",
    "    \n",
    "    ### Draw\n",
    "    draw.line((start_bar, end_bar), barcolor, width)\n",
    "    draw.line((start_hl, end_hl), barcolor, 1)\n",
    "    \n",
    "#     ### Joes\n",
    "#     joeDistanceTop = kwargs.get(\"joe_distance_top\", 10)\n",
    "#     joeDistanceBottom = kwargs.get(\"joe_distance_bottom\", joeDistanceTop)\n",
    "#     joeLength = kwargs.get(\"joe_length\", width)\n",
    "#     joeWidth = kwargs.get(\"joe_width\", 1)\n",
    "#     joeColor = kwargs.get(\"joe_color\", barcolor)\n",
    "    \n",
    "#     # Top joe\n",
    "#     start = tuple([topleft[0]+(width-joeLength+1)//2, topleft[1]-joeDistanceTop])\n",
    "#     end = tuple([start[0]+joeLength-1, start[1]])\n",
    "#     draw.line((start, end), joeColor, joeWidth)\n",
    "    \n",
    "#     # Connection to bar\n",
    "#     start = tuple([start_bar[0], start_bar[1]-joeDistanceTop])\n",
    "#     draw.line((start, start_bar), joeColor, joeWidth)\n",
    "    \n",
    "#     # Bottom joe\n",
    "#     start = tuple([topleft[0]+(width-joeLength+1)//2, end_bar[1]+joeDistanceBottom])\n",
    "#     end = tuple([start[0]+joeLength-1, start[1]])\n",
    "#     draw.line((start, end), joeColor, joeWidth)\n",
    "    \n",
    "#     # Connection to bar\n",
    "#     end = tuple([end_bar[0], end_bar[1]+joeDistanceBottom])\n",
    "#     draw.line((end, end_bar), joeColor, joeWidth)\n",
    "    \n",
    "    if not return_next:\n",
    "        return img\n",
    "    else:\n",
    "        start_next = [start[0] + width, end_bar[1]]\n",
    "        return img, start_next\n",
    "\n",
    "def drawOhlcBoxes(img, ohlc=None, start=[0, 0], width=11, barcolors=(0x00,0x00,0x00), **kwargs):\n",
    "    \"\"\"\n",
    "    topleft_startは上ひげのtopleftになる\n",
    "    \"\"\"\n",
    "    if ohlc is None:\n",
    "        raise ValueError(\"ohlc must be inputted.\")\n",
    "    elif not isinstance(ohlc, np.ndarray):\n",
    "        raise TypeError(\"ohlc must be a (N, 4) array.\")\n",
    "    if not isinstance(barcolors, list):\n",
    "        bar_colors = [barcolors] * len(ohlc)\n",
    "    else:\n",
    "        bar_colors = barcolors\n",
    "    \n",
    "    k_wargs = copy.deepcopy(kwargs)\n",
    "    if k_wargs.get(\"width\") is not None:\n",
    "        del k_wargs[\"width\"]\n",
    "    if k_wargs.get(\"height\") is not None:\n",
    "        del k_wargs[\"height\"]\n",
    "    if k_wargs.get(\"barcolors\") is not None:\n",
    "        del k_wargs[\"barcolors\"]\n",
    "        \n",
    "    start_next = start\n",
    "    for ii in range(len(ohlc)):\n",
    "        img, start_next = drawOhlcBox(img, ohlc[ii], start_next, width, bar_colors[ii], True, **k_wargs)\n",
    "        \n",
    "    return img"
   ]
  },
  {
   "cell_type": "markdown",
   "metadata": {},
   "source": [
    "### 一個だけ"
   ]
  },
  {
   "cell_type": "code",
   "execution_count": null,
   "metadata": {
    "ExecuteTime": {
     "end_time": "2017-09-17T12:34:33.936891Z",
     "start_time": "2017-09-17T12:34:33.431650Z"
    },
    "collapsed": true
   },
   "outputs": [],
   "source": [
    "if __name__ == '__main__':\n",
    "    # 画像のサイズ\n",
    "    screen = (150,150)\n",
    "\n",
    "    # 画像の背景色（RGB）\n",
    "    bgcolor=(0xff,0xff,0xFf)\n",
    "\n",
    "    # 保存するファイル名（ファイル形式は、拡張子から自動的に判別する）\n",
    "    filename = \"../images/image-bar.png\"\n",
    "    \n",
    "    ohlc = np.array([[120, 130, 80, 100]])\n",
    "    make_image(screen, bgcolor, filename, drawOhlcBox, ohlc=ohlc[0], start=[60, 60], width=11)"
   ]
  },
  {
   "cell_type": "markdown",
   "metadata": {},
   "source": [
    "### 複数"
   ]
  },
  {
   "cell_type": "code",
   "execution_count": null,
   "metadata": {
    "ExecuteTime": {
     "end_time": "2017-09-17T12:35:14.996290Z",
     "start_time": "2017-09-17T12:35:14.413434Z"
    },
    "collapsed": true
   },
   "outputs": [],
   "source": [
    "if __name__ == '__main__':\n",
    "    # 画像のサイズ\n",
    "    screen = (150,150)\n",
    "\n",
    "    # 画像の背景色（RGB）\n",
    "    bgcolor=(0xff,0xff,0xFf)\n",
    "\n",
    "    # 保存するファイル名（ファイル形式は、拡張子から自動的に判別する）\n",
    "    filename = \"../images/image-bar.png\"\n",
    "    \n",
    "    ohlc = np.array([[120, 130, 80, 100], [100, 120, 90, 110], [110, 150, 110, 130]])\n",
    "    make_image(screen, bgcolor, filename, drawOhlcBoxes, ohlc=ohlc, start=[20, 60], width=11)"
   ]
  },
  {
   "cell_type": "markdown",
   "metadata": {
    "collapsed": true
   },
   "source": [
    "## 実際のデータを用いたOHLC図\n",
    "実際のデータは浮動小数であり、小数点第３位くらいまでデータが存在する。   \n",
    "OHLC図を描くキャンパスのサイズが固定であるとして、その中に一連のOHLCデータを描画するために、次の方針を立てる。   \n",
    "まず与えられたOHLCを規格化する。OHLCのmaxとminを取ると、\n",
    "$$\n",
    "M, m = max(OHLC), min(OHLC)\n",
    "$$\n",
    "これらを用いて、OHLCの値が0-(縦方向のpixel数)になるように規格化する。\n",
    "$$\n",
    "\\bar{OHLC} = int((OHLC - m) \\times pixel / (M-m))\n",
    "$$\n",
    "これでOHLC図の縦方向のサイズが決まる。横方向は(横方向のpixel数)/(描画するOHLC図の数)でOHLC図の幅を決めればよい。   \n",
    "スタートは(0, $\\bar{OHLC}[0,0]$)である。   \n",
    "\n",
    "### ほかのものを描画する場合\n",
    "VolumeやSMAなどを描画する場合は、次のようにするか。\n",
    "\n",
    "* Volume: Volumeのmax/minをとってOHLCのように規格化。描画はlineで行う\n",
    "* SMA: OHLCとSMAをまとめたもののmax/minをとって、OHLCとSMAを規格化。"
   ]
  },
  {
   "cell_type": "code",
   "execution_count": null,
   "metadata": {
    "ExecuteTime": {
     "end_time": "2017-09-17T13:54:29.104425Z",
     "start_time": "2017-09-17T13:54:28.958211Z"
    },
    "collapsed": true
   },
   "outputs": [],
   "source": [
    "def drawOhlcBoxes2(img, ohlc=None, start=[0, 0], width=11, barcolors=(0x00,0x00,0x00), **kwargs):\n",
    "    \"\"\"\n",
    "    topleft_startは上ひげのtopleftになる\n",
    "    \"\"\"\n",
    "    if ohlc is None:\n",
    "        raise ValueError(\"ohlc must be inputted.\")\n",
    "    elif not isinstance(ohlc, np.ndarray):\n",
    "        raise TypeError(\"ohlc must be a (N, 4) array.\")\n",
    "    if not isinstance(barcolors, list):\n",
    "        bar_colors = [barcolors] * len(ohlc)\n",
    "    else:\n",
    "        bar_colors = barcolors\n",
    "    \n",
    "    k_wargs = copy.deepcopy(kwargs)\n",
    "    if k_wargs.get(\"width\") is not None:\n",
    "        del k_wargs[\"width\"]\n",
    "    if k_wargs.get(\"height\") is not None:\n",
    "        del k_wargs[\"height\"]\n",
    "    if k_wargs.get(\"barcolors\") is not None:\n",
    "        del k_wargs[\"barcolors\"]\n",
    "    \n",
    "    start_next = start\n",
    "    for ii in range(len(ohlc)):\n",
    "        start_ohlc = [start_next[0], ohlc[ii, 0]]\n",
    "        img, start_next = drawOhlcBox(img, ohlc[ii], start_ohlc, width, bar_colors[ii], True, **k_wargs)\n",
    "        \n",
    "    return img"
   ]
  },
  {
   "cell_type": "code",
   "execution_count": null,
   "metadata": {
    "ExecuteTime": {
     "end_time": "2017-09-17T13:22:39.689298Z",
     "start_time": "2017-09-17T13:22:37.985291Z"
    },
    "collapsed": true
   },
   "outputs": [],
   "source": [
    "data = pd.read_csv(\"../data/FXTF/USDJPY-cd1_20170806_k030.csv\")\n",
    "data.head(10)"
   ]
  },
  {
   "cell_type": "code",
   "execution_count": null,
   "metadata": {
    "ExecuteTime": {
     "end_time": "2017-09-17T13:53:34.543943Z",
     "start_time": "2017-09-17T13:53:34.514896Z"
    },
    "collapsed": true
   },
   "outputs": [],
   "source": [
    "ohlc = data[[\"open\", \"high\", \"low\", \"close\"]].as_matrix()\n",
    "\n",
    "h, w = 100, 100\n",
    "ii = 0\n",
    "nbr_of_ohlc = 10\n",
    "buff = ohlc[ii:ii+nbr_of_ohlc]\n",
    "ohlc_bar = np.array((buff - buff.min()) * h / (buff.max() - buff.min()), dtype=int)"
   ]
  },
  {
   "cell_type": "code",
   "execution_count": null,
   "metadata": {
    "ExecuteTime": {
     "end_time": "2017-09-17T14:16:57.887066Z",
     "start_time": "2017-09-17T14:16:57.486481Z"
    },
    "collapsed": true
   },
   "outputs": [],
   "source": [
    "if __name__ == '__main__':\n",
    "    # 画像のサイズ\n",
    "    screen = (h, w)\n",
    "\n",
    "    # 画像の背景色（RGB）\n",
    "    bgcolor=(0x00, 0x00, 0x00)\n",
    "    barcolors = (0xff, 0xff, 0xff)\n",
    "\n",
    "    # 保存するファイル名（ファイル形式は、拡張子から自動的に判別する）\n",
    "    filename = \"../images/image-bar.png\"\n",
    "    img = make_image(screen, bgcolor, filename, drawOhlcBoxes2, ohlc=ohlc_bar, start=[0, ohlc_bar[0,0]], width=w//nbr_of_ohlc, barcolors=barcolors, axis=False, issave=True)"
   ]
  },
  {
   "cell_type": "code",
   "execution_count": null,
   "metadata": {
    "ExecuteTime": {
     "end_time": "2017-09-17T14:17:08.832170Z",
     "start_time": "2017-09-17T14:17:08.815644Z"
    },
    "collapsed": true
   },
   "outputs": [],
   "source": [
    "img.save()"
   ]
  },
  {
   "cell_type": "code",
   "execution_count": null,
   "metadata": {
    "collapsed": true
   },
   "outputs": [],
   "source": []
  }
 ],
 "metadata": {
  "kernelspec": {
   "display_name": "Python [default]",
   "language": "python",
   "name": "python3"
  },
  "language_info": {
   "codemirror_mode": {
    "name": "ipython",
    "version": 3
   },
   "file_extension": ".py",
   "mimetype": "text/x-python",
   "name": "python",
   "nbconvert_exporter": "python",
   "pygments_lexer": "ipython3",
   "version": "3.5.3"
  },
  "toc": {
   "colors": {
    "hover_highlight": "#DAA520",
    "navigate_num": "#000000",
    "navigate_text": "#333333",
    "running_highlight": "#FF0000",
    "selected_highlight": "#FFD700",
    "sidebar_border": "#EEEEEE",
    "wrapper_background": "#FFFFFF"
   },
   "moveMenuLeft": true,
   "nav_menu": {
    "height": "119px",
    "width": "252px"
   },
   "navigate_menu": true,
   "number_sections": true,
   "sideBar": true,
   "threshold": 4,
   "toc_cell": false,
   "toc_position": {
    "height": "572px",
    "left": "0px",
    "right": "1084px",
    "top": "106px",
    "width": "212px"
   },
   "toc_section_display": "block",
   "toc_window_display": true,
   "widenNotebook": false
  }
 },
 "nbformat": 4,
 "nbformat_minor": 2
}
