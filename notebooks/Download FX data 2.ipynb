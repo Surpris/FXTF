{
 "cells": [
  {
   "cell_type": "code",
   "execution_count": 1,
   "metadata": {
    "ExecuteTime": {
     "end_time": "2017-05-27T20:56:06.722195",
     "start_time": "2017-05-27T20:56:06.719178"
    },
    "collapsed": true
   },
   "outputs": [],
   "source": [
    "import urllib.request\n",
    "import json\n",
    "import time\n",
    "import datetime"
   ]
  },
  {
   "cell_type": "code",
   "execution_count": 4,
   "metadata": {
    "ExecuteTime": {
     "end_time": "2017-05-27T20:56:21.744720",
     "start_time": "2017-05-27T20:56:21.718651"
    },
    "collapsed": false
   },
   "outputs": [],
   "source": [
    "def get_FX_from_gaitame(currencyPairCode=\"USDJPY\"):\n",
    "    \"\"\"\n",
    "    外為オンラインよりask/bidを取得する。\n",
    "    \n",
    "    ＜メソッドを作成するにあたって参考にしたHP＞\n",
    "        http://qiita.com/chromabox/items/a1323225bae146c80bec\n",
    "    \n",
    "    ＜注意事項＞\n",
    "        １秒ごとに更新されるが、このメソッドで１秒ごとに取得することはネチケット上やめるべき。\n",
    "        最低でも２秒は空けたい。\n",
    "    \n",
    "    ＜入力＞\n",
    "        currencyPairCode: 外貨ペア\n",
    "    \n",
    "    ＜出力＞\n",
    "        nowtime: リクエストしたときの日時\n",
    "        ask: 対象とする外貨ペアのask\n",
    "        bid: 対象とする外貨ペアのbid\n",
    "    \"\"\"\n",
    "    ask = -1.0; bid = -1.0; is_gotten = False\n",
    "    url = \"http://www.gaitameonline.com/rateaj/getrate\"\n",
    "    nowtime = datetime.datetime.now()\n",
    "    try:\n",
    "        res = urllib.request.urlopen(url)\n",
    "        quotes = json.loads(res.read().decode('utf-8'))[\"quotes\"]\n",
    "        for quo in quotes:\n",
    "            if quo[\"currencyPairCode\"] == currencyPairCode: \n",
    "                try:\n",
    "                    ask = float(quo[\"ask\"])\n",
    "                    bid = float(quo[\"bid\"])\n",
    "                    is_gotten = True\n",
    "                except:\n",
    "                    ask = -1.0; bid = -1.0; is_gotten = False\n",
    "                break\n",
    "    except Exception as e:\n",
    "        print(nowtime, e)\n",
    "    return nowtime, ask, bid, is_gotten\n",
    "\n",
    "def ToDataFrame(nts, fxs):\n",
    "    \"\"\"\n",
    "    日時と値からデータフレームを生成する\n",
    "    ＜入力＞\n",
    "        nts: 日時（リスト）\n",
    "        fxs: データ（[ask, bid]のリスト）\n",
    "    \"\"\"\n",
    "    df = pd.DataFrame(fx, columns=[\"ask\", \"bid\"])\n",
    "    df.index = nowtimes\n",
    "    return df\n",
    "\n",
    "def is_weekend(dt):\n",
    "    \"\"\"\n",
    "    Judge whether the day is weekend.\n",
    "    Here `weekend` correspoonds to the range from 06:00:00 on Saturday to 06:00:00 on Monday.\n",
    "    \"\"\"\n",
    "    if dt.weekday() == 5:\n",
    "        return dt.hour >= 6\n",
    "    elif dt.weekday() == 6:\n",
    "        return True\n",
    "    elif dt.weekday() == 0:\n",
    "        return dt.hour < 6\n",
    "    else:\n",
    "        return False"
   ]
  },
  {
   "cell_type": "code",
   "execution_count": null,
   "metadata": {
    "ExecuteTime": {
     "start_time": "2017-05-27T12:01:38.387Z"
    },
    "collapsed": false
   },
   "outputs": [
    {
     "name": "stdout",
     "output_type": "stream",
     "text": [
      "20170527_210138 holiday.\n",
      "Wait until holiday ends...\n",
      "holiday ends.\n",
      "2017-05-29 07:27:59.943597 <urlopen error [WinError 10060] 接続済みの呼び出し先が一定の時間を過ぎても正しく応答しなかったため、接続できませんでした。または接続済みのホストが応答しなかったため、確立された接続は失敗しました。>\n",
      "20170529_072820 Failure in getting FX data.\n",
      "2017-05-29 13:41:29.964361 <urlopen error [WinError 10060] 接続済みの呼び出し先が一定の時間を過ぎても正しく応答しなかったため、接続できませんでした。または接続済みのホストが応答しなかったため、確立された接続は失敗しました。>\n",
      "20170529_134149 Failure in getting FX data.\n"
     ]
    }
   ],
   "source": [
    "update_time = 300 # この時間ごとに更新 [sec]\n",
    "update_count = 12 # この回数だけ取得したらリストを初期化する\n",
    "savenow = datetime.datetime.now().strftime(\"%Y%m%d_%H%M%S\")\n",
    "savepath = \"../data/fxdata_{0}.csv\".format(savenow)\n",
    "\n",
    "st = time.time()\n",
    "nowtimes = []\n",
    "fx = []\n",
    "count = 0\n",
    "\n",
    "nowtime = datetime.datetime.now()\n",
    "isholiday = is_weekend(nowtime)\n",
    "if isholiday:\n",
    "    print(nowtime.strftime(\"%Y%m%d_%H%M%S\"), \"holiday.\")\n",
    "    print(\"Wait until holiday ends...\")\n",
    "while True:\n",
    "    try:\n",
    "        if not isholiday:\n",
    "            nowtime, ask, bid, is_gotten = get_FX_from_gaitame()\n",
    "            if is_weekend(nowtime):\n",
    "                print(\"holiday.\")\n",
    "                print(\"Wait until holiday ends...\")\n",
    "                isholiday = True\n",
    "                if len(nowtimes) != 0:\n",
    "                    df = ToDataFrame(nowtimes, fx)\n",
    "                    df.to_csv(savepath)\n",
    "                nowtimes = []\n",
    "                fx = []\n",
    "                count = 0\n",
    "                savenow = datetime.datetime.now().strftime(\"%Y%m%d_%H%M%S\")\n",
    "                savepath = \"../data/fxdata_{0}.csv\".format(savenow)\n",
    "                time.sleep(60)\n",
    "                continue\n",
    "        else:\n",
    "            if not is_weekend(datetime.datetime.now()):\n",
    "                print(\"holiday ends.\")\n",
    "                savenow = datetime.datetime.now().strftime(\"%Y%m%d_%H%M%S\")\n",
    "                savepath = \"../data/fxdata_{0}.csv\".format(savenow)\n",
    "                isholiday = False\n",
    "                continue\n",
    "            else:\n",
    "                time.sleep(60)\n",
    "                continue\n",
    "        if not is_gotten:\n",
    "            print(datetime.datetime.now().strftime(\"%Y%m%d_%H%M%S\"), \"Failure in getting FX data.\")\n",
    "            time.sleep(5.0)\n",
    "            continue\n",
    "        nowtimes.append(nowtime.strftime(\"%Y-%m-%d %H:%M:%S\"))\n",
    "        fx.append([ask, bid])\n",
    "        time.sleep(5.0)\n",
    "        if time.time() - st > update_time:\n",
    "            st = time.time()\n",
    "            df = ToDataFrame(nowtimes, fx)\n",
    "            df.to_csv(savepath)\n",
    "            count += 1\n",
    "            if count >= update_count:\n",
    "                nowtimes = []\n",
    "                fx = []\n",
    "                savenow = datetime.datetime.now().strftime(\"%Y%m%d_%H%M%S\")\n",
    "                savepath = \"../data/fxdata_{0}.csv\".format(savenow)\n",
    "                count = 0\n",
    "    except Exception as e:\n",
    "        print(datetime.datetime.now().strftime(\"%Y%m%d_%H%M%S\"))\n",
    "        print(e)\n",
    "        df = ToDataFrame(nowtimes, fx)\n",
    "        df.to_csv(savepath)\n",
    "        print(\"Wait for 30 second...\")\n",
    "        time.sleep(30) # 失敗したときは３０秒ほど空ける\n",
    "        nowtimes = []\n",
    "        fx = []\n",
    "        savenow = datetime.datetime.now().strftime(\"%Y%m%d_%H%M%S\")\n",
    "        savepath = \"../data/fxdata_{0}.csv\".format(savenow)\n",
    "        "
   ]
  },
  {
   "cell_type": "code",
   "execution_count": null,
   "metadata": {
    "collapsed": true
   },
   "outputs": [],
   "source": []
  }
 ],
 "metadata": {
  "anaconda-cloud": {},
  "kernelspec": {
   "display_name": "Python [default]",
   "language": "python",
   "name": "python3"
  },
  "language_info": {
   "codemirror_mode": {
    "name": "ipython",
    "version": 3
   },
   "file_extension": ".py",
   "mimetype": "text/x-python",
   "name": "python",
   "nbconvert_exporter": "python",
   "pygments_lexer": "ipython3",
   "version": "3.5.2"
  },
  "toc": {
   "nav_menu": {
    "height": "12px",
    "width": "252px"
   },
   "navigate_menu": true,
   "number_sections": true,
   "sideBar": true,
   "threshold": 4,
   "toc_cell": false,
   "toc_section_display": "block",
   "toc_window_display": false
  }
 },
 "nbformat": 4,
 "nbformat_minor": 1
}
