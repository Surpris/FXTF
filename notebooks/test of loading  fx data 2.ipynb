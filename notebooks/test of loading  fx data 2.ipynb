{
 "cells": [
  {
   "cell_type": "markdown",
   "metadata": {},
   "source": [
    "# 目的\n",
    "為替（Foreign eXchange, FX）のデータをダウンロードし、描画する。   "
   ]
  },
  {
   "cell_type": "code",
   "execution_count": 2,
   "metadata": {
    "ExecuteTime": {
     "end_time": "2017-03-29T11:26:45.703145",
     "start_time": "2017-03-29T11:26:45.459045"
    },
    "collapsed": false
   },
   "outputs": [],
   "source": [
    "import urllib.request\n",
    "import urllib.parse\n",
    "import json\n",
    "from pprint import pprint\n",
    "import time\n",
    "import datetime\n",
    "# import pandas_datareader as pdr\n",
    "import matplotlib.finance as mpf\n",
    "import matplotlib.dates as mdates\n",
    "from matplotlib import ticker\n",
    "from general import drawfigfunc as dff"
   ]
  },
  {
   "cell_type": "markdown",
   "metadata": {},
   "source": [
    "# リアルタイムダウンロード"
   ]
  },
  {
   "cell_type": "markdown",
   "metadata": {},
   "source": [
    "## やりかたその１\n",
    "<http://www.yoheim.net/blog.php?q=20160807>\n"
   ]
  },
  {
   "cell_type": "code",
   "execution_count": 3,
   "metadata": {
    "ExecuteTime": {
     "end_time": "2017-03-29T11:26:49.808516",
     "start_time": "2017-03-29T11:26:49.801496"
    },
    "collapsed": false
   },
   "outputs": [],
   "source": [
    "def getFXRateWithYQL(pair=\"USDJPY\"):\n",
    "    \"\"\"\n",
    "    YQLをAPI経由で利用します\n",
    "    \n",
    "    \"\"\"\n",
    "    url = \"https://query.yahooapis.com/v1/public/yql\"\n",
    "    params = {\n",
    "        \"q\": 'select * from yahoo.finance.xchange where pair in (\"{}\")'.format(pair),\n",
    "        \"format\": \"json\",\n",
    "        \"env\": \"store://datatables.org/alltableswithkeys\"\n",
    "    }\n",
    "    url += \"?\" + urllib.parse.urlencode(params) # dictの中身をURLに変換する\n",
    "    # print(url)\n",
    "    res = urllib.request.urlopen(url)\n",
    "\n",
    "    # 結果はJSON形式で受け取ることができます\n",
    "    result = json.loads(res.read().decode('utf-8'))\n",
    "#     pprint(result)\n",
    "    \"\"\"\n",
    "    {'query': {'count': 1,\n",
    "               'created': '2016-08-22T02:57:07Z',\n",
    "               'lang': 'en-US',\n",
    "               'results': {'rate': {'Ask': '100.6850',\n",
    "                                    'Bid': '100.6380',\n",
    "                                    'Date': '8/21/2016',\n",
    "                                    'Name': 'USD/JPY',\n",
    "                                    'Rate': '100.6380',\n",
    "                                    'Time': '10:58pm',\n",
    "                                    'id': 'USDJPY'}}}}\n",
    "    \"\"\"\n",
    "\n",
    "    return result"
   ]
  },
  {
   "cell_type": "code",
   "execution_count": 4,
   "metadata": {
    "ExecuteTime": {
     "end_time": "2017-03-29T11:27:18.117676",
     "start_time": "2017-03-29T11:26:56.095937"
    },
    "collapsed": false,
    "scrolled": true
   },
   "outputs": [
    {
     "name": "stdout",
     "output_type": "stream",
     "text": [
      "2017-03-29 02:26:55 111.1120 111.1150 111.1120\n",
      "2017-03-29 02:26:56 110.4150 110.4170 110.4150\n",
      "2017-03-29 02:26:57 110.4150 110.4170 110.4150\n",
      "2017-03-29 02:26:58 111.1120 111.1150 111.1120\n",
      "2017-03-29 02:26:59 111.1030 111.1080 111.1030\n",
      "2017-03-29 02:27:00 111.1030 111.1080 111.1030\n",
      "2017-03-29 02:27:01 111.1490 111.1580 111.1490\n",
      "2017-03-29 02:27:02 111.1120 111.1150 111.1120\n",
      "2017-03-29 02:27:03 111.1120 111.1150 111.1120\n",
      "2017-03-29 02:27:04 111.1490 111.1580 111.1490\n",
      "2017-03-29 02:27:05 111.1030 111.1080 111.1030\n",
      "2017-03-29 02:27:06 111.1030 111.1080 111.1030\n",
      "2017-03-29 02:27:07 111.1490 111.1580 111.1490\n",
      "2017-03-29 02:27:08 111.1030 111.1080 111.1030\n",
      "2017-03-29 02:27:09 111.1490 111.1580 111.1490\n",
      "2017-03-29 02:27:10 111.1030 111.1080 111.1030\n",
      "2017-03-29 02:27:11 111.1120 111.1150 111.1120\n",
      "2017-03-29 02:27:13 111.1120 111.1150 111.1120\n",
      "2017-03-29 02:27:14 110.4150 110.4170 110.4150\n",
      "2017-03-29 02:27:15 111.1120 111.1150 111.1120\n"
     ]
    }
   ],
   "source": [
    "i = 0\n",
    "while i < 20:\n",
    "    res = getFXRateWithYQL()\n",
    "    _ = res[\"query\"][\"created\"]\n",
    "    Time = datetime.datetime.strptime(_, \"%Y-%m-%dT%H:%M:%SZ\")\n",
    "    bid = res[\"query\"][\"results\"][\"rate\"][\"Bid\"]\n",
    "    ask = res[\"query\"][\"results\"][\"rate\"][\"Ask\"]\n",
    "    rate = res[\"query\"][\"results\"][\"rate\"][\"Rate\"]\n",
    "    print(Time, bid, ask, rate)\n",
    "    time.sleep(0.5)\n",
    "    i+=1"
   ]
  },
  {
   "cell_type": "markdown",
   "metadata": {},
   "source": [
    "Yahoo! Financeは国内外で値が異なる？   "
   ]
  },
  {
   "cell_type": "markdown",
   "metadata": {},
   "source": [
    "## やり方その２\n",
    "こちらにやり方が載っている：<http://qiita.com/chromabox/items/a1323225bae146c80bec>   \n",
    "外為オンラインさんが上げてくださっている<http://www.gaitameonline.com/rateaj/getrate>にアクセスすると値が取れる。   \n",
    "構造は次のようになっている：\n",
    "```\n",
    "{'quotes': \n",
    "    [{'ask': '1.7826', 'bid': '1.7809', 'currencyPairCode': 'GBPNZD', 'high': '1.7824', 'low': '1.7735', 'open': '1.7742'},\n",
    "     {'ask': '82.80', 'bid': '82.75', 'currencyPairCode': 'CADJPY', 'high': '83.09', 'low': '82.54', 'open': '83.04'}, \n",
    "     ...]}\n",
    "ask: askの値\n",
    "bid: bidの値\n",
    "currrencyPairCode: 通貨ペア\n",
    "high: その日のMAX\n",
    "low : その日のMIN\n",
    "open: 不明\n",
    "```\n",
    "日付が得られないので、リクエストした時点での日付を用いる。"
   ]
  },
  {
   "cell_type": "code",
   "execution_count": 64,
   "metadata": {
    "ExecuteTime": {
     "end_time": "2017-03-27T20:24:53.814045",
     "start_time": "2017-03-27T20:24:53.742488"
    },
    "collapsed": false
   },
   "outputs": [],
   "source": [
    "def get_FX_from_gaitame(currencyPairCode=\"USDJPY\"):\n",
    "    \"\"\"\n",
    "    外為オンラインよりask/bidを取得する。\n",
    "    \n",
    "    ＜メソッドを作成するにあたって参考にしたHP＞\n",
    "        http://qiita.com/chromabox/items/a1323225bae146c80bec\n",
    "    \n",
    "    ＜注意事項＞\n",
    "        １秒ごとに更新されるが、このメソッドで１秒ごとに取得することはネチケット上やめるべき。\n",
    "        最低でも２秒は空けたい。\n",
    "    \n",
    "    ＜入力＞\n",
    "        currencyPairCode: 外貨ペア\n",
    "    \n",
    "    ＜出力＞\n",
    "        nowtime: リクエストしたときの日時\n",
    "        ask: 対象とする外貨ペアのask\n",
    "        bid: 対象とする外貨ペアのbid\n",
    "    \"\"\"\n",
    "    url = \"http://www.gaitameonline.com/rateaj/getrate\"\n",
    "    nowtime = datetime.datetime.now()\n",
    "    res = urllib.request.urlopen(url)\n",
    "    quotes = json.loads(res.read().decode('utf-8'))[\"quotes\"]\n",
    "    for quo in quotes:\n",
    "        if quo[\"currencyPairCode\"] == currencyPairCode: \n",
    "            ask = float(quo[\"ask\"])\n",
    "            bid = float(quo[\"bid\"])\n",
    "            break\n",
    "#     print(nowtime.strftime(\"%Y-%m-%d %H:%M:%S\"), \"ask:\", ask, \"bid:\", bid)\n",
    "    return nowtime, ask, bid"
   ]
  },
  {
   "cell_type": "code",
   "execution_count": 16,
   "metadata": {
    "ExecuteTime": {
     "end_time": "2017-03-27T18:39:47.012094",
     "start_time": "2017-03-27T18:38:53.758963"
    },
    "collapsed": false,
    "scrolled": true
   },
   "outputs": [
    {
     "name": "stdout",
     "output_type": "stream",
     "text": [
      "(datetime.datetime(2017, 3, 27, 18, 38, 53, 763966), '110.34', '110.33')\n",
      "(datetime.datetime(2017, 3, 27, 18, 38, 56, 509712), '110.34', '110.33')\n",
      "(datetime.datetime(2017, 3, 27, 18, 38, 59, 119670), '110.34', '110.33')\n",
      "(datetime.datetime(2017, 3, 27, 18, 39, 1, 899449), '110.34', '110.33')\n",
      "(datetime.datetime(2017, 3, 27, 18, 39, 4, 504290), '110.34', '110.33')\n",
      "(datetime.datetime(2017, 3, 27, 18, 39, 7, 109575), '110.34', '110.33')\n",
      "(datetime.datetime(2017, 3, 27, 18, 39, 9, 780582), '110.34', '110.33')\n",
      "(datetime.datetime(2017, 3, 27, 18, 39, 12, 413930), '110.34', '110.33')\n",
      "(datetime.datetime(2017, 3, 27, 18, 39, 14, 982599), '110.33', '110.32')\n",
      "(datetime.datetime(2017, 3, 27, 18, 39, 17, 610314), '110.34', '110.33')\n",
      "(datetime.datetime(2017, 3, 27, 18, 39, 20, 159214), '110.33', '110.32')\n",
      "(datetime.datetime(2017, 3, 27, 18, 39, 22, 812909), '110.34', '110.33')\n",
      "(datetime.datetime(2017, 3, 27, 18, 39, 25, 438308), '110.33', '110.32')\n",
      "(datetime.datetime(2017, 3, 27, 18, 39, 28, 105229), '110.34', '110.33')\n",
      "(datetime.datetime(2017, 3, 27, 18, 39, 30, 725882), '110.33', '110.32')\n",
      "(datetime.datetime(2017, 3, 27, 18, 39, 33, 360805), '110.33', '110.32')\n",
      "(datetime.datetime(2017, 3, 27, 18, 39, 35, 976236), '110.34', '110.33')\n",
      "(datetime.datetime(2017, 3, 27, 18, 39, 38, 657582), '110.33', '110.32')\n",
      "(datetime.datetime(2017, 3, 27, 18, 39, 41, 329738), '110.34', '110.33')\n",
      "(datetime.datetime(2017, 3, 27, 18, 39, 44, 132702), '110.33', '110.32')\n"
     ]
    }
   ],
   "source": [
    "i = 0\n",
    "while i < 20:\n",
    "    print(get_FX_from_gaitame())\n",
    "    time.sleep(2)\n",
    "    i+=1"
   ]
  },
  {
   "cell_type": "markdown",
   "metadata": {},
   "source": [
    "スキャルピング取引を行いたい場合は、どれも速度が足りない。   \n",
    "より詳細な値必要な場合は、FX会社が提供しているAPIを利用するべきであろう。   \n",
    "１時間単位などの取引であれば、外為オンライン様が提供しているJSON形式の値を利用するのがよさそうである。"
   ]
  },
  {
   "cell_type": "markdown",
   "metadata": {},
   "source": [
    "## pandas-datareaderを利用する方法\n",
    "単位が１日であるから、リアルタイム解析には利用できない。"
   ]
  },
  {
   "cell_type": "code",
   "execution_count": 4,
   "metadata": {
    "ExecuteTime": {
     "end_time": "2017-03-27T18:17:39.979947",
     "start_time": "2017-03-27T18:17:37.027777"
    },
    "collapsed": false
   },
   "outputs": [
    {
     "name": "stdout",
     "output_type": "stream",
     "text": [
      "            DEXJPUS\n",
      "DATE               \n",
      "2017-03-10   115.02\n",
      "2017-03-13   114.61\n",
      "2017-03-14   114.63\n",
      "2017-03-15   114.66\n",
      "2017-03-16   113.02\n",
      "2017-03-17   112.67\n"
     ]
    }
   ],
   "source": [
    "start = \"2017-03-10\"\n",
    "end = \"2017-03-27\"\n",
    "res = pdr.DataReader('DEXJPUS', 'fred', start, end)\n",
    "print(res)"
   ]
  },
  {
   "cell_type": "markdown",
   "metadata": {},
   "source": [
    "## プロット\n",
    "外為オンラインよりデータをダウンロードし、それを描画する。   \n",
    "pandasに描画機能がついているので、それを利用する。   \n",
    "参考：<http://qiita.com/u1and0/items/1d9afdb7216c3d2320ef>、<http://sinhrks.hatenablog.com/entry/2015/11/15/222543>"
   ]
  },
  {
   "cell_type": "code",
   "execution_count": 59,
   "metadata": {
    "ExecuteTime": {
     "end_time": "2017-03-27T19:30:28.848298",
     "start_time": "2017-03-27T19:30:07.570529"
    },
    "collapsed": false
   },
   "outputs": [],
   "source": [
    "i = 0\n",
    "nowtimes = []\n",
    "fx = []\n",
    "while i < 10:\n",
    "    nowtime, ask, bid = get_FX_from_gaitame()\n",
    "    nowtimes.append(nowtime.strftime(\"%H:%M:%S\"))\n",
    "    fx.append([ask, bid])\n",
    "#     print(fx)\n",
    "    time.sleep(1.5)\n",
    "    i+=1\n",
    "df = pd.DataFrame(fx, columns=[\"ask\", \"bid\"])\n",
    "df.index = nowtimes"
   ]
  },
  {
   "cell_type": "code",
   "execution_count": 63,
   "metadata": {
    "ExecuteTime": {
     "end_time": "2017-03-27T20:04:08.008582",
     "start_time": "2017-03-27T20:04:07.632982"
    },
    "collapsed": false
   },
   "outputs": [
    {
     "data": {
      "text/plain": [
       "<matplotlib.axes._subplots.AxesSubplot at 0x16652ba4198>"
      ]
     },
     "execution_count": 63,
     "metadata": {},
     "output_type": "execute_result"
    },
    {
     "data": {
      "text/plain": [
       "<matplotlib.figure.Figure at 0x16652bc3a20>"
      ]
     },
     "metadata": {},
     "output_type": "display_data"
    },
    {
     "data": {
      "image/png": "[encoded data removed]",
      "text/plain": [
       "<matplotlib.figure.Figure at 0x16652b86240>"
      ]
     },
     "metadata": {},
     "output_type": "display_data"
    }
   ],
   "source": [
    "fig = dff.makefig(5,5)\n",
    "df.plot()"
   ]
  },
  {
   "cell_type": "markdown",
   "metadata": {},
   "source": [
    "# 過去データのプロット\n",
    "過去のデータを取ってきて、それをローソク足で描画する。   \n",
    "\n",
    "参考：<http://qiita.com/toyolab/items/1b5d11b5d376bd542022>\n",
    "```\n",
    "import numpy as np\n",
    "import matplotlib.pyplot as plt\n",
    "import matplotlib.finance as mpf\n",
    "from matplotlib import ticker\n",
    "import matplotlib.dates as mdates\n",
    "import pandas as pd\n",
    "\n",
    "fig = plt.figure()\n",
    "ax = plt.subplot()\n",
    "\n",
    "ohlc = np.vstack((range(len(df)), df.values.T)).T #x軸データを整数に\n",
    "mpf.candlestick_ohlc(ax, ohlc, width=0.8, colorup='r', colordown='b')\n",
    "\n",
    "xtick0 = (5-df.index[0].weekday())%5 #最初の月曜日のインデックス\n",
    "\n",
    "plt.xticks(range(xtick0,len(df),5), [x.strftime('%Y-%m-%d') for x in df.index][xtick0::5])\n",
    "ax.grid(True) #グリッド表示\n",
    "ax.set_xlim(-1, len(df)) #x軸の範囲\n",
    "fig.autofmt_xdate() #x軸のオートフォーマット\n",
    "```"
   ]
  },
  {
   "cell_type": "markdown",
   "metadata": {},
   "source": [
    "## 過去データの取得\n",
    "どうやら過去のデータは、５分単位でしか取得されない模様、、   \n",
    "なので自分で実装して落としておくことにする。   \n",
    "それはこのノートブックではやらない。"
   ]
  },
  {
   "cell_type": "markdown",
   "metadata": {},
   "source": [
    "## リアルタイム描画用設計\n",
    "ローソク足チャートを描くには、open/high/low/close (OHLC)が必要。設計としては、、   \n",
    "\n",
    "1. ２秒に一回のペースで取得し、リスト形式で格納する\n",
    "    + これはlist.appendで良い\n",
    "1. １分に一回のペースでOHLCを計算する\n",
    "    + つまり30このデータごとにOHLCを計算する\n",
    "1. 計算されたOHLCをnumpy.ndarrayに格納する\n",
    "    + 正直、時間軸は開始時からの値で良いと思われる。\n",
    "    + なのでx軸は整数にしてしまう。\n",
    "1. OHLCをプロットする\n"
   ]
  },
  {
   "cell_type": "code",
   "execution_count": null,
   "metadata": {
    "collapsed": true
   },
   "outputs": [],
   "source": []
  },
  {
   "cell_type": "markdown",
   "metadata": {},
   "source": [
    "# リアルタイム描画"
   ]
  },
  {
   "cell_type": "markdown",
   "metadata": {},
   "source": [
    "## テスト"
   ]
  },
  {
   "cell_type": "code",
   "execution_count": null,
   "metadata": {
    "collapsed": true
   },
   "outputs": [],
   "source": []
  },
  {
   "cell_type": "markdown",
   "metadata": {},
   "source": [
    "# 日付の取得"
   ]
  },
  {
   "cell_type": "code",
   "execution_count": 18,
   "metadata": {
    "ExecuteTime": {
     "end_time": "2017-04-14T14:00:43.229818",
     "start_time": "2017-04-14T14:00:43.214191"
    },
    "collapsed": false
   },
   "outputs": [
    {
     "name": "stdout",
     "output_type": "stream",
     "text": [
      "ok\n"
     ]
    }
   ],
   "source": [
    "now = datetime.datetime.now()\n",
    "if now.weekday() in [4] and now.hour >= 6 and now.minute >= 0.0:\n",
    "        print(\"ok\")"
   ]
  },
  {
   "cell_type": "code",
   "execution_count": 17,
   "metadata": {
    "ExecuteTime": {
     "end_time": "2017-04-14T14:00:29.530870",
     "start_time": "2017-04-14T14:00:29.515244"
    },
    "collapsed": false
   },
   "outputs": [
    {
     "data": {
      "text/plain": [
       "0"
      ]
     },
     "execution_count": 17,
     "metadata": {},
     "output_type": "execute_result"
    }
   ],
   "source": [
    "now.minute"
   ]
  },
  {
   "cell_type": "code",
   "execution_count": null,
   "metadata": {
    "collapsed": true
   },
   "outputs": [],
   "source": []
  }
 ],
 "metadata": {
  "anaconda-cloud": {},
  "kernelspec": {
   "display_name": "Python [default]",
   "language": "python",
   "name": "python3"
  },
  "language_info": {
   "codemirror_mode": {
    "name": "ipython",
    "version": 3
   },
   "file_extension": ".py",
   "mimetype": "text/x-python",
   "name": "python",
   "nbconvert_exporter": "python",
   "pygments_lexer": "ipython3",
   "version": "3.5.2"
  },
  "toc": {
   "nav_menu": {
    "height": "209px",
    "width": "251px"
   },
   "navigate_menu": true,
   "number_sections": true,
   "sideBar": true,
   "threshold": 4,
   "toc_cell": false,
   "toc_section_display": "block",
   "toc_window_display": false
  }
 },
 "nbformat": 4,
 "nbformat_minor": 2
}
